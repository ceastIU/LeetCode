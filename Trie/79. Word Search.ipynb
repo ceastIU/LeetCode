{
 "cells": [
  {
   "cell_type": "markdown",
   "metadata": {},
   "source": [
    "79. Word Search\n",
    "\n",
    "Medium\n",
    "\n",
    "Given an m x n grid of characters board and a string word, return true if word exists in the grid.\n",
    "\n",
    "The word can be constructed from letters of sequentially adjacent cells, where adjacent cells are horizontally or vertically neighboring. The same letter cell may not be used more than once.\n",
    "\n",
    "--- \n",
    "\n",
    "Example 1:\n",
    "\n",
    "\n",
    "Input: board = [[\"A\",\"B\",\"C\",\"E\"],[\"S\",\"F\",\"C\",\"S\"],[\"A\",\"D\",\"E\",\"E\"]], word = \"ABCCED\"\n",
    "Output: true\n",
    "\n",
    "---\n",
    "Observations:\n",
    "- This should now be a super easy problem to solve since I have attempted word search II 3 separate times now"
   ]
  },
  {
   "cell_type": "code",
   "execution_count": null,
   "metadata": {},
   "outputs": [],
   "source": [
    "class Solution:\n",
    "    def exist(self, board: List[List[str]], word: str) -> bool:\n",
    "        ROWS, COLS = len(board), len(board[0])\n",
    "        def dfs(r, c, index):\n",
    "            if index == len(word):\n",
    "                return True\n",
    "            \n",
    "            if not (0 <= r < ROWS and 0 <= c < COLS) or board[r][c] != word[index] or (r,c) in path:\n",
    "                return \n",
    "            \n",
    "            originalChar = board[r][c]\n",
    "            board[r][c] = \"#\"\n",
    "            directions = [(-1,0),(1,0),(0,-1),(0,1)]\n",
    "            for xx, yy in directions:\n",
    "                rIdx = r + xx\n",
    "                cIdx = c + yy\n",
    "                if dfs(rIdx, cIdx, index + 1):\n",
    "                    return True\n",
    "            board[r][c] = originalChar\n",
    "            return False\n",
    "        \n",
    "        for i in range(ROWS):\n",
    "            for j in range(COLS):\n",
    "                if dfs(i, j, 0):\n",
    "                    return True\n",
    "        return False\n"
   ]
  },
  {
   "cell_type": "markdown",
   "metadata": {},
   "source": [
    "I had to make some optimizations, but was able to get working code with relatively light effort.\n",
    "The time complexity of the given code is O(4^(RC)) where R is the number of rows in the board and C is the number of columns. This is because in the worst case, each cell could be a potential starting point for the word search, and at each cell, you explore up to 4 directions (up, down, left, right). For each starting cell, you explore the word of length len(word) through DFS.\n",
    "\n",
    "The space complexity is O(len(word)) due to the recursion stack. The recursive calls can go up to the length of the input word, and at each level of recursion, you're storing some variables related to the current cell and index.\n",
    "\n",
    "Since the depth of the recursion is bounded by the length of the word, the space complexity can also be considered O(len(word)), even though you're using additional space for the directions list and the visited cells set (in your original code), as well as some constant space for variables."
   ]
  }
 ],
 "metadata": {
  "language_info": {
   "name": "python"
  },
  "orig_nbformat": 4
 },
 "nbformat": 4,
 "nbformat_minor": 2
}
