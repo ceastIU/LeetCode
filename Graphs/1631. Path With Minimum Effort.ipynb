{
 "cells": [
  {
   "cell_type": "markdown",
   "metadata": {},
   "source": [
    "1631. Path With Minimum Effort\n",
    "\n",
    "Medium\n",
    "\n",
    "You are a hiker preparing for an upcoming hike. You are given heights, a 2D array of size rows x columns, where heights[row][col] represents the height of cell (row, col). You are situated in the top-left cell, (0, 0), and you hope to travel to the bottom-right cell, (rows-1, columns-1) (i.e., 0-indexed). You can move up, down, left, or right, and you wish to find a route that requires the minimum effort.\n",
    "\n",
    "A route's effort is the maximum absolute difference in heights between two consecutive cells of the route.\n",
    "\n",
    "Return the minimum effort required to travel from the top-left cell to the bottom-right cell.\n",
    "---\n",
    "This need to be implemented with Dikjstra's algo and a min-heap\n",
    "Seeing the solution, it makes sense to me after watching a video about D's algo. But let's see if I can implement that solution!"
   ]
  },
  {
   "cell_type": "code",
   "execution_count": null,
   "metadata": {},
   "outputs": [],
   "source": [
    "# let's first solve this the D's aglo way, then explore the Binary search method\n",
    "import heapq\n",
    "class Solution:\n",
    "    def minimumEffortPath(self, heights: List[List[int]]) -> int:\n",
    "        ROWS, COLS = len(heights), len(heights[0])\n",
    "        dist = [[float(\"inf\") for _ in range(COLS)] for _ in range(ROWS)]\n",
    "        dist[0][0] = 0 \n",
    "        directions = [(1,0),(-1,0),(0,1),(0,-1)]\n",
    "        heap = [(0,0,0)]\n",
    "\n",
    "        while heap:\n",
    "            effort, x, y = heapq.heappop(heap)\n",
    "\n",
    "            if x == ROWS - 1 and y == COLS - 1:\n",
    "                return effort\n",
    "\n",
    "            for dx, dy in directions:\n",
    "                nx, ny = x + dx, y + dy\n",
    "                if 0 <= nx < ROWS and 0 <= ny < COLS:\n",
    "                    newEffort = max(effort, abs(heights[x][y]-heights[nx][ny]))\n",
    "\n",
    "                    if newEffort < dist[nx][ny]:\n",
    "                        dist[nx][ny] = newEffort\n",
    "                        heapq.heappush(heap, (newEffort,nx,ny))\n",
    "\n",
    "        \n"
   ]
  }
 ],
 "metadata": {
  "language_info": {
   "name": "python"
  },
  "orig_nbformat": 4
 },
 "nbformat": 4,
 "nbformat_minor": 2
}
