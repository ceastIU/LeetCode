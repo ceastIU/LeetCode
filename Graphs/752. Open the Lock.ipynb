{
 "cells": [
  {
   "cell_type": "markdown",
   "metadata": {},
   "source": [
    "752. Open the Lock\n",
    "\n",
    "Medium\n",
    "\n",
    "You have a lock in front of you with 4 circular wheels. Each wheel has 10 slots: '0', '1', '2', '3', '4', '5', '6', '7', '8', '9'. The wheels can rotate freely and wrap around: for example we can turn '9' to be '0', or '0' to be '9'. Each move consists of turning one wheel one slot.\n",
    "\n",
    "The lock initially starts at '0000', a string representing the state of the 4 wheels.\n",
    "\n",
    "You are given a list of deadends dead ends, meaning if the lock displays any of these codes, the wheels of the lock will stop turning and you will be unable to open it.\n",
    "\n",
    "Given a target representing the value of the wheels that will unlock the lock, return the minimum total number of turns required to open the lock, or -1 if it is impossible.\n",
    "\n",
    "---\n",
    "Observation!\n",
    "- I was able to solve this problem on my own, but it is so slow."
   ]
  },
  {
   "cell_type": "code",
   "execution_count": null,
   "metadata": {},
   "outputs": [],
   "source": [
    "# attempt 1\n",
    "from collections import deque\n",
    "class Solution:\n",
    "    def openLock(self, deadends: List[str], target: str) -> int:\n",
    "        deadends = set(deadends)\n",
    "        if \"0000\" in deadends:\n",
    "            return -1\n",
    "        \n",
    "        queue = deque([(\"0000\", 0)])\n",
    "        visited = set([\"0000\"])\n",
    "        \n",
    "        while queue:\n",
    "            current, ticks = queue.popleft()\n",
    "    \n",
    "            if current == target:\n",
    "                return ticks\n",
    "\n",
    "            for i in range(4):\n",
    "                for diff in [1, -1]:\n",
    "                    new_digit = (int(current[i]) + diff) % 10\n",
    "                    new_state = current[:i] + str(new_digit) + current[i+1:]\n",
    "                    if new_state not in deadends and new_state not in visited:\n",
    "                        visited.add(new_state)\n",
    "                        queue.append((new_state, ticks + 1))\n",
    "        return -1"
   ]
  }
 ],
 "metadata": {
  "language_info": {
   "name": "python"
  },
  "orig_nbformat": 4
 },
 "nbformat": 4,
 "nbformat_minor": 2
}
