{
 "cells": [
  {
   "cell_type": "markdown",
   "metadata": {},
   "source": [
    "463. Island Perimeter\n",
    "\n",
    "Easy\n",
    "\n",
    "You are given row x col grid representing a map where grid[i][j] = 1 represents land and grid[i][j] = 0 represents water.\n",
    "\n",
    "Grid cells are connected horizontally/vertically (not diagonally). The grid is completely surrounded by water, and there is exactly one island (i.e., one or more connected land cells).\n",
    "\n",
    "The island doesn't have \"lakes\", meaning the water inside isn't connected to the water around the island. One cell is a square with side length 1. The grid is rectangular, width and height don't exceed 100. Determine the perimeter of the island.\n",
    "\n",
    " \n",
    "\n",
    "Example 1:\n",
    "\n",
    "\n",
    "Input: grid = [[0,1,0,0],[1,1,1,0],[0,1,0,0],[1,1,0,0]]\n",
    "Output: 16\n",
    "Explanation: The perimeter is the 16 yellow stripes in the image above.\n",
    "\n",
    "---\n",
    "\n",
    "Observations:\n",
    "- Could use recursive DFS, or iterative DFS (might try both)\n",
    "- Iterate until you hit a piece of land\n",
    "- dfs on the piece of land\n",
    "- calculate the perimeter as you go"
   ]
  },
  {
   "cell_type": "code",
   "execution_count": null,
   "metadata": {},
   "outputs": [],
   "source": [
    "class Solution:\n",
    "    def islandPerimeter(self, grid: List[List[int]]) -> int:\n",
    "        ROWS, COLS = len(grid), len(grid[0])\n",
    "        def dfs(r,c):\n",
    "            if not 0 <= r < ROWS or not 0 <= c < COLS or grid[r][c] == 0:\n",
    "                return 1\n",
    "            if grid[r][c] == 2:\n",
    "                return 0\n",
    "            perimeter = 0\n",
    "            # set current piece to visited\n",
    "            grid[r][c] = 2\n",
    "            directions = [(-1,0),(1,0),(0,-1),(0,1)]\n",
    "            for xx, yy in directions:\n",
    "                newR = r + xx \n",
    "                newC = c + yy\n",
    "                perimeter += dfs(newR,newC)\n",
    "            return perimeter\n",
    "        for i in range(ROWS):\n",
    "            for j in range(COLS):\n",
    "                if grid[i][j] == 1:\n",
    "                    return dfs(i,j)\n",
    "        return 0"
   ]
  },
  {
   "cell_type": "markdown",
   "metadata": {},
   "source": [
    "I was able to sail through this problem with little trouble, and there was little I could do to optimize the code I created. A few logical mistakes, but otherwise a stellar job on my part.\n",
    "\n",
    "The time complexity of this code is O(R * C), where R is the number of rows in the grid and C is the number of columns in the grid. This is because the code uses depth-first search (DFS) to traverse the cells in the grid, and each cell is visited only once.\n",
    "\n",
    "The space complexity is O(R * C) as well. This is because the code uses the grid for marking visited cells by changing their values to 2. In the worst case, all cells could be visited, so the space used to store these visited cells is proportional to the total number of cells in the grid.\n",
    "\n",
    "Therefore, both the time and space complexity of this code are linear with respect to the number of rows and columns in the input grid."
   ]
  }
 ],
 "metadata": {
  "kernelspec": {
   "display_name": "Python 3",
   "language": "python",
   "name": "python3"
  },
  "language_info": {
   "name": "python",
   "version": "3.10.11"
  },
  "orig_nbformat": 4
 },
 "nbformat": 4,
 "nbformat_minor": 2
}
