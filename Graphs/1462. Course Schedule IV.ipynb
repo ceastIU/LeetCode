{
 "cells": [
  {
   "cell_type": "markdown",
   "metadata": {},
   "source": [
    "1462. Course Schedule IV\n",
    "Medium\n",
    "1.3K\n",
    "58\n",
    "Companies\n",
    "There are a total of numCourses courses you have to take, labeled from 0 to numCourses - 1. You are given an array prerequisites where prerequisites[i] = [ai, bi] indicates that you must take course ai first if you want to take course bi.\n",
    "\n",
    "For example, the pair [0, 1] indicates that you have to take course 0 before you can take course 1.\n",
    "Prerequisites can also be indirect. If course a is a prerequisite of course b, and course b is a prerequisite of course c, then course a is a prerequisite of course c.\n",
    "\n",
    "You are also given an array queries where queries[j] = [uj, vj]. For the jth query, you should answer whether course uj is a prerequisite of course vj or not.\n",
    "\n",
    "Return a boolean array answer, where answer[j] is the answer to the jth query."
   ]
  },
  {
   "cell_type": "code",
   "execution_count": null,
   "metadata": {},
   "outputs": [],
   "source": [
    "# attempt one\n",
    "class Solution:\n",
    "    def checkIfPrerequisite(self, numCourses: int, prerequisites: List[List[int]], queries: List[List[int]]) -> List[bool]:\n",
    "        preMap = {c:[] for c in range(numCourses)}\n",
    "        for pre, crs in prerequisites:\n",
    "            preMap[crs].append(pre)\n",
    "        res = []\n",
    "        def dfs(crs,pre):\n",
    "            if pre in preMap[crs]:\n",
    "                return True\n",
    "            if preMap[crs] == []:\n",
    "                return False\n",
    "            flag = False\n",
    "            for prereq in preMap[crs]:\n",
    "                flag = dfs(prereq,pre) or flag\n",
    "                if flag: return True\n",
    "            return flag\n",
    "\n",
    "        for query in queries:\n",
    "            pre, crs = query\n",
    "            res.append(dfs(crs,pre))\n",
    "        return res\n"
   ]
  },
  {
   "cell_type": "markdown",
   "metadata": {},
   "source": [
    "So my code is correct, but the problem is that it is incredibly slow. Not sure yet how to optimize the code to make it run faster!"
   ]
  }
 ],
 "metadata": {
  "language_info": {
   "name": "python"
  },
  "orig_nbformat": 4
 },
 "nbformat": 4,
 "nbformat_minor": 2
}
