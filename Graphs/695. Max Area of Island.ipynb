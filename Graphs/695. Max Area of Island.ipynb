{
 "cells": [
  {
   "cell_type": "markdown",
   "metadata": {},
   "source": [
    "695. Max Area of Island\n",
    "\n",
    "Medium\n",
    "\n",
    "You are given an m x n binary matrix grid. An island is a group of 1's (representing land) connected 4-directionally (horizontal or vertical.) You may assume all four edges of the grid are surrounded by water.\n",
    "\n",
    "The area of an island is the number of cells with a value 1 in the island.\n",
    "\n",
    "Return the maximum area of an island in grid. If there is no island, return 0.\n",
    "\n",
    "---\n",
    "\n",
    "Example 1:\n",
    "\n",
    "\n",
    "Input: grid = [[0,0,1,0,0,0,0,1,0,0,0,0,0],[0,0,0,0,0,0,0,1,1,1,0,0,0],[0,1,1,0,1,0,0,0,0,0,0,0,0],[0,1,0,0,1,1,0,0,1,0,1,0,0],[0,1,0,0,1,1,0,0,1,1,1,0,0],[0,0,0,0,0,0,0,0,0,0,1,0,0],[0,0,0,0,0,0,0,1,1,1,0,0,0],[0,0,0,0,0,0,0,1,1,0,0,0,0]]\n",
    "Output: 6\n",
    "Explanation: The answer is not 11, because the island must be connected 4-directionally.\n",
    "\n",
    "---\n",
    "\n",
    "Observations:\n",
    "- This is the \"Number of Islands\" problem with a variation that wants to keep track of the area as we go!"
   ]
  },
  {
   "cell_type": "code",
   "execution_count": null,
   "metadata": {},
   "outputs": [],
   "source": [
    "class Solution:\n",
    "    def maxAreaOfIsland(self, grid: List[List[int]]) -> int:\n",
    "        # oh this problem will be a ton of fun, just a varation on the number of island problem! \n",
    "        ROWS, COLS = len(grid), len(grid[0])\n",
    "        maxArea = 0\n",
    "        def dfs(r,c):\n",
    "            if not (0 <= r < ROWS and 0 <= c < COLS) or grid[r][c] != 1:\n",
    "                return 0\n",
    "            total = 1\n",
    "            # mark island\n",
    "            grid[r][c] = 2\n",
    "            for xx, yy in [(-1,0),(1,0),(0,-1),(0,1)]:\n",
    "                newR = r + xx\n",
    "                newC = c + yy\n",
    "                total += dfs(newR,newC)\n",
    "            return total\n",
    "\n",
    "\n",
    "        for i in range(ROWS):\n",
    "            for j in range(COLS):\n",
    "                if grid[i][j] == 1:\n",
    "                    maxArea = max(maxArea, dfs(i,j))\n",
    "        return maxArea\n",
    "    \n",
    "    "
   ]
  },
  {
   "cell_type": "markdown",
   "metadata": {},
   "source": [
    "I absolutely bodied this problem. I am feeling so confident about these grid problems. \n",
    "Time Complexity: The code uses Depth-First Search (DFS) to explore the connected components of the grid, finding the area of each island. In the worst case, every cell in the grid could be part of an island, leading to a complexity of O(ROWS * COLS). Additionally, for each cell that is part of an island, the DFS function is called once and explores all connected cells. Therefore, the time complexity of the DFS function is proportional to the size of the island it's exploring. As a result, the overall time complexity can be considered as O(ROWS * COLS * avg_island_size), where avg_island_size represents the average size of the islands in the grid.\n",
    "\n",
    "Space Complexity: The space complexity mainly depends on the call stack during the DFS recursion. In the worst case, where the entire grid consists of a single island, the DFS function could be called for every cell in the grid, leading to a call stack of size O(ROWS * COLS). Apart from the call stack, the space complexity is constant as there are no additional data structures being used that grow with the input size."
   ]
  }
 ],
 "metadata": {
  "language_info": {
   "name": "python"
  },
  "orig_nbformat": 4
 },
 "nbformat": 4,
 "nbformat_minor": 2
}
