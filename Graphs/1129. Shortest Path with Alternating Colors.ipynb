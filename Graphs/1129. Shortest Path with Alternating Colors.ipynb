{
 "cells": [
  {
   "cell_type": "markdown",
   "metadata": {},
   "source": [
    "1129. Shortest Path with Alternating Colors\n",
    "\n",
    "Medium\n",
    "\n",
    "You are given an integer n, the number of nodes in a directed graph where the nodes are labeled from 0 to n - 1. Each edge is red or blue in this graph, and there could be self-edges and parallel edges.\n",
    "\n",
    "You are given two arrays redEdges and blueEdges where:\n",
    "\n",
    "redEdges[i] = [ai, bi] indicates that there is a directed red edge from node ai to node bi in the graph, and\n",
    "blueEdges[j] = [uj, vj] indicates that there is a directed blue edge from node uj to node vj in the graph.\n",
    "Return an array answer of length n, where each answer[x] is the length of the shortest path from node 0 to node x such that the edge colors alternate along the path, or -1 if such a path does not exist.\n",
    "\n",
    "---\n",
    "No clue how to do this problem"
   ]
  },
  {
   "cell_type": "code",
   "execution_count": null,
   "metadata": {},
   "outputs": [],
   "source": [
    "from collections import deque\n",
    "class Solution:\n",
    "    def shortestAlternatingPaths(self, n: int, redEdges: List[List[int]], blueEdges: List[List[int]]) -> List[int]:\n",
    "        red = collections.defaultdict(list)\n",
    "        blue = collections.defaultdict(list)\n",
    "\n",
    "        for src, dst in redEdges:\n",
    "            red[src].append(dst)\n",
    "        \n",
    "        for src, dst in blueEdges:\n",
    "            blue[src].append(dst)\n",
    "        \n",
    "        ans = [-1] * n\n",
    "        q = deque()\n",
    "        q.append([0,0,None]) # node, length, color\n",
    "        visit = set()\n",
    "        visit.add((0, None))\n",
    "        while q:\n",
    "            node, length, edgeColor = q.popleft()\n",
    "            if ans[node] == -1:\n",
    "                ans[node] = length\n",
    "            \n",
    "            if edgeColor != \"Red\":\n",
    "                for nei in red[node]:\n",
    "                    if (nei, \"Red\") not in visit:\n",
    "                        visit.add((nei,\"Red\"))\n",
    "                        q.append([nei,length + 1, \"Red\"])\n",
    "            if edgeColor != \"Blue\":\n",
    "                for nei in blue[node]:\n",
    "                    if (nei, \"Blue\") not in visit:\n",
    "                        visit.add((nei,\"Blue\"))\n",
    "                        q.append([nei,length+1,\"Blue\"])\n",
    "        return ans\n",
    "\n"
   ]
  },
  {
   "cell_type": "markdown",
   "metadata": {},
   "source": [
    "O(n) time and O(n) space"
   ]
  }
 ],
 "metadata": {
  "language_info": {
   "name": "python"
  },
  "orig_nbformat": 4
 },
 "nbformat": 4,
 "nbformat_minor": 2
}
