{
 "cells": [
  {
   "cell_type": "markdown",
   "metadata": {},
   "source": [
    "210. Course Schedule II\n",
    "\n",
    "Medium\n",
    "\n",
    "There are a total of numCourses courses you have to take, labeled from 0 to numCourses - 1. You are given an array prerequisites where prerequisites[i] = [ai, bi] indicates that you must take course bi first if you want to take course ai.\n",
    "\n",
    "For example, the pair [0, 1], indicates that to take course 0 you have to first take course 1.\n",
    "Return the ordering of courses you should take to finish all courses. If there are many valid answers, return any of them. If it is impossible to finish all courses, return an empty array.\n",
    "\n",
    "---\n",
    "\n",
    "Example 2:\n",
    "\n",
    "Input: numCourses = 4, prerequisites = [[1,0],[2,0],[3,1],[3,2]]\n",
    "Output: [0,2,1,3]\n",
    "Explanation: There are a total of 4 courses to take. To take course 3 you should have finished both courses 1 and 2. Both courses 1 and 2 should be taken after you finished course 0.\n",
    "So one correct course order is [0,1,2,3]. Another correct ordering is [0,2,1,3].\n",
    "\n",
    "---\n",
    "A little out of my element here, but going to try a BFS using two different dependencies lists"
   ]
  },
  {
   "cell_type": "code",
   "execution_count": null,
   "metadata": {},
   "outputs": [],
   "source": [
    "from collections import deque\n",
    "class Solution:\n",
    "    def findOrder(self, numCourses: int, prerequisites: List[List[int]]) -> List[int]:\n",
    "        prereqs = [[] for _ in range(numCourses)]\n",
    "        depend = [[] for _ in range(numCourses)]\n",
    "        for course, prereq in prerequisites:\n",
    "            prereqs[course].append(prereq)\n",
    "            depend[prereq].append(course)\n",
    "        # going to try a BFS\n",
    "        print(prereqs,'\\n',depend)\n",
    "        q = deque()\n",
    "        for required in range(len(prereqs)):\n",
    "            if not prereqs[required]:\n",
    "                q.append(required)\n",
    "\n",
    "        res = []\n",
    "        while q:\n",
    "            current = q.popleft()\n",
    "            res.append(current)\n",
    "            for dep in depend[current]:\n",
    "                prereqs[dep].remove(current)\n",
    "                if not prereqs[dep]:\n",
    "                    q.append(dep)\n",
    "        return res if len(res) == numCourses else []"
   ]
  },
  {
   "cell_type": "markdown",
   "metadata": {},
   "source": [
    "This is my corrected code, that I had to use chatGPT to help come up with!"
   ]
  },
  {
   "cell_type": "code",
   "execution_count": null,
   "metadata": {},
   "outputs": [],
   "source": [
    "# NeetCode Solution: This is a DFS approach\n",
    "class Solution:\n",
    "    def findOrder(self, numCourses: int, prerequisites: List[List[int]]) -> List[int]:\n",
    "        prereq = {c:[] for c in range(numCourses)}\n",
    "        for crs, pre in prerequisites:\n",
    "            prereq[crs].append(pre)\n",
    "        output = []\n",
    "        visit, cycle = set(), set()\n",
    "        \n",
    "        def dfs(crs):\n",
    "            if crs in cycle:\n",
    "                return False\n",
    "            if crs in visit:\n",
    "                return True\n",
    "            cycle.add(crs)\n",
    "            for pre in prereq[crs]:\n",
    "                if not dfs(pre):\n",
    "                    return False\n",
    "            cycle.remove(crs)\n",
    "            visit.add(crs)\n",
    "            output.append(crs)\n",
    "        \n",
    "        for crs in range(numCourses):\n",
    "            if not dfs(crs):\n",
    "                return []\n",
    "        return output"
   ]
  },
  {
   "cell_type": "markdown",
   "metadata": {},
   "source": [
    "I like this solution better, even though I didn't come up with it!\n",
    "\n"
   ]
  }
 ],
 "metadata": {
  "language_info": {
   "name": "python"
  },
  "orig_nbformat": 4
 },
 "nbformat": 4,
 "nbformat_minor": 2
}
