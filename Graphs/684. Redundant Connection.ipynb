{
 "cells": [
  {
   "cell_type": "markdown",
   "metadata": {},
   "source": [
    "684. Redundant Connection\n",
    "\n",
    "Medium\n",
    "\n",
    "In this problem, a tree is an undirected graph that is connected and has no cycles.\n",
    "\n",
    "You are given a graph that started as a tree with n nodes labeled from 1 to n, with one additional edge added. The added edge has two different vertices chosen from 1 to n, and was not an edge that already existed. The graph is represented as an array edges of length n where edges[i] = [ai, bi] indicates that there is an edge between nodes ai and bi in the graph.\n",
    "\n",
    "Return an edge that can be removed so that the resulting graph is a tree of n nodes. If there are multiple answers, return the answer that occurs last in the input."
   ]
  },
  {
   "cell_type": "code",
   "execution_count": null,
   "metadata": {},
   "outputs": [],
   "source": [
    "class Solution:\n",
    "    def findRedundantConnection(self, edges: List[List[int]]) -> List[int]:\n",
    "        parent = [i for i in range(len(edges) + 1)]\n",
    "        rank = [1] * (len(edges) + 1)\n",
    "\n",
    "        def find(n):\n",
    "            p = parent[n]\n",
    "            while p != parent[p]:\n",
    "                parent[p] = parent[parent[p]]\n",
    "                p = parent[p]\n",
    "            return p\n",
    "        \n",
    "        def union(n1,n2):\n",
    "            p1,p2 = find(n1), find(n2)\n",
    "\n",
    "            if p1 == p2:\n",
    "                return False\n",
    "            \n",
    "            if rank[p1] > rank[p2]:\n",
    "                parent[p2] = p1\n",
    "                rank[p1] += rank[p2]\n",
    "            else:\n",
    "                parent[p1] = p2\n",
    "                rank[p2] += rank[p1]\n",
    "            return True\n",
    "        \n",
    "        for n1, n2 in edges:\n",
    "            if not union(n1,n2):\n",
    "                return [n1,n2]\n",
    "            \n"
   ]
  }
 ],
 "metadata": {
  "language_info": {
   "name": "python"
  },
  "orig_nbformat": 4
 },
 "nbformat": 4,
 "nbformat_minor": 2
}
