{
 "cells": [
  {
   "cell_type": "code",
   "execution_count": null,
   "metadata": {},
   "outputs": [],
   "source": [
    "import math\n",
    "class Solution:\n",
    "    def countUniqueChars(self,s):\n",
    "        chars = set()\n",
    "        seen = []\n",
    "        for c in s:\n",
    "            if c in chars:\n",
    "                chars.remove(c)\n",
    "            elif c not in seen:\n",
    "                chars.add(c)\n",
    "                seen.append(c)\n",
    "        return len(chars)\n",
    "\n",
    "    def uniqueLetterString(self, s: str) -> int:\n",
    "        print(self.countUniqueChars(\"leetcode\"))\n",
    "        print(self.generateSubstrings(\"abc\"))\n",
    "    def generateSubstrings(self,s):\n",
    "        res = []\n",
    "        print(math.round(len(s)/i))\n",
    "        for i in range(len(s)):\n",
    "            for y in range(math.round(len(s)/i)):\n",
    "                break\n"
   ]
  },
  {
   "cell_type": "code",
   "execution_count": null,
   "metadata": {},
   "outputs": [],
   "source": [
    "from collections import deque\n",
    "class Solution:\n",
    "    def networkDelayTime(self, times: List[List[int]], n: int, k: int) -> int:\n",
    "        adj = {i:[] for i in range(1,n+1)}\n",
    "        for time in times:\n",
    "            s,e,t = time\n",
    "            adj[s].append((e,t))\n",
    "        visit = [False]*n\n",
    "        time = [float(\"inf\")]*n\n",
    "        start = times[0][0]\n",
    "        q = deque([2])\n",
    "        while q:\n",
    "            for _ in range(len(q)):\n",
    "                node = q.popleft()\n",
    "                visit[node -1 ] = True\n",
    "                for child in adj[node]:\n",
    "                    c, t = child\n",
    "                    q.append(c)\n",
    "                    print(t)\n",
    "        if False in visit:\n",
    "            return -1\n",
    "        return time"
   ]
  }
 ],
 "metadata": {
  "language_info": {
   "name": "python"
  },
  "orig_nbformat": 4
 },
 "nbformat": 4,
 "nbformat_minor": 2
}
