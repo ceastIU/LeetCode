{
 "cells": [
  {
   "cell_type": "markdown",
   "metadata": {},
   "source": [
    "1162. As Far from Land as Possible\n",
    "\n",
    "Medium\n",
    "\n",
    "Given an n x n grid containing only values 0 and 1, where 0 represents water and 1 represents land, find a water cell such that its distance to the nearest land cell is maximized, and return the distance. If no land or water exists in the grid, return -1.\n",
    "\n",
    "The distance used in this problem is the Manhattan distance: the distance between two cells (x0, y0) and (x1, y1) is |x0 - x1| + |y0 - y1|.\n",
    "---\n",
    "Observations:\n",
    "- might need a dp table!"
   ]
  },
  {
   "cell_type": "code",
   "execution_count": null,
   "metadata": {},
   "outputs": [],
   "source": [
    "from collections import deque\n",
    "class Solution:\n",
    "    def maxDistance(self, grid: List[List[int]]) -> int:\n",
    "        ROWS, COLS = len(grid), len(grid[0])\n",
    "        islands = deque()\n",
    "        for i in range(ROWS):\n",
    "            for j in range(COLS):\n",
    "                if grid[i][j] == 1:\n",
    "                    islands.append([i,j])\n",
    "        if len(islands) == 0 or len(islands) == ROWS * COLS:\n",
    "            return -1\n",
    "\n",
    "        maxDist = -1\n",
    "        while islands:\n",
    "            for _ in range(len(islands)):\n",
    "                r, c = islands.popleft()\n",
    "                for x, y in [(1,0),(-1,0),(0,-1),(0,1)]:\n",
    "                    newR, newC = r + x, c + y \n",
    "                    if (0 <= newR < ROWS and 0 <= newC < COLS) and grid[newR][newC] == 0:\n",
    "                        grid[newR][newC] = 1\n",
    "                        islands.append((newR, newC))\n",
    "            maxDist += 1 \n",
    "        return maxDist  "
   ]
  },
  {
   "cell_type": "markdown",
   "metadata": {},
   "source": []
  }
 ],
 "metadata": {
  "language_info": {
   "name": "python"
  },
  "orig_nbformat": 4
 },
 "nbformat": 4,
 "nbformat_minor": 2
}
