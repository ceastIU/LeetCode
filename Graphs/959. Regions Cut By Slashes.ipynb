{
 "cells": [
  {
   "cell_type": "markdown",
   "metadata": {},
   "source": [
    "959. Regions Cut By Slashes\n",
    "\n",
    "Medium\n",
    "\n",
    "An n x n grid is composed of 1 x 1 squares where each 1 x 1 square consists of a '/', '\\', or blank space ' '. These characters divide the square into contiguous regions.\n",
    "\n",
    "Given the grid grid represented as a string array, return the number of regions.\n",
    "\n",
    "Note that backslash characters are escaped, so a '\\' is represented as '\\\\'.\n",
    "\n",
    " "
   ]
  },
  {
   "cell_type": "code",
   "execution_count": null,
   "metadata": {},
   "outputs": [],
   "source": [
    "class Solution:\n",
    "    def regionsBySlashes(self, grid: List[str]) -> int:\n",
    "        n, regions = len(grid), 2\n",
    "        g = [[0]*n*3 for i in range(n*3)]\n",
    "        def dfs(i,j,region):\n",
    "            if not (0 <= i < n * 3 and 0 <= j < n * 3) or g[i][j] != 0:\n",
    "                return\n",
    "            g[i][j] = region\n",
    "            for dx, dy in [(1,0),(-1,0),(0,-1),(0,1)]:\n",
    "                nx,ny= i + dx, j + dy\n",
    "                dfs(nx,ny,region)\n",
    "        \n",
    "        for i in range(len(grid)):\n",
    "            temp = list(grid[i])\n",
    "            for j in range(len(temp)):\n",
    "                char = temp[j]\n",
    "                if char == \"\\\\\":\n",
    "                    g[i * 3][j * 3] = g[i * 3 + 1][j * 3 + 1] = g[i * 3 + 2][j * 3 + 2] = 1\n",
    "                elif char == \"/\":\n",
    "                    g[i * 3][j * 3 + 2] = g[i * 3 + 1][j * 3 + 1] = g[i * 3 + 2][j * 3] = 1\n",
    "        for i in range(len(g)):\n",
    "            for j in range(len(g)):\n",
    "                if g[i][j] == 0:\n",
    "                    regions += 1\n",
    "                    dfs(i,j,regions) \n",
    "                    \n",
    "        return regions - 2"
   ]
  },
  {
   "cell_type": "markdown",
   "metadata": {},
   "source": [
    "Insanely cool solution to this problem!"
   ]
  }
 ],
 "metadata": {
  "language_info": {
   "name": "python"
  },
  "orig_nbformat": 4
 },
 "nbformat": 4,
 "nbformat_minor": 2
}
