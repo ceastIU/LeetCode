{
 "cells": [
  {
   "cell_type": "markdown",
   "metadata": {},
   "source": [
    "1091. Shortest Path in Binary Matrix\n",
    "Medium\n",
    "\n",
    "Given an n x n binary matrix grid, return the length of the shortest clear path in the matrix. If there is no clear path, return -1.\n",
    "\n",
    "A clear path in a binary matrix is a path from the top-left cell (i.e., (0, 0)) to the bottom-right cell (i.e., (n - 1, n - 1)) such that:\n",
    "\n",
    "All the visited cells of the path are 0.\n",
    "All the adjacent cells of the path are 8-directionally connected (i.e., they are different and they share an edge or a corner).\n",
    "The length of a clear path is the number of visited cells of this path."
   ]
  },
  {
   "cell_type": "code",
   "execution_count": null,
   "metadata": {},
   "outputs": [],
   "source": [
    "from collections import deque\n",
    "class Solution:\n",
    "    def shortestPathBinaryMatrix(self, grid: List[List[int]]) -> int:\n",
    "        ROWS, COLS = len(grid), len(grid[0])\n",
    "        if grid[0][0] == 1 or grid[ROWS-1][COLS-1] == 1:\n",
    "            return -1\n",
    "        q = deque()\n",
    "        q.append((0,0,1))\n",
    "        directions = [(-1,0),(1,0),(0,-1),(0,1),(1,1),(-1,1),(1,-1),(-1,-1)]\n",
    "        visited = set()\n",
    "        while q:\n",
    "            r,c,path = q.popleft()\n",
    "            if r == ROWS-1 and c == COLS -1:\n",
    "                return path\n",
    "            for xx, yy in directions:\n",
    "                nr, nc = r + xx, c + yy\n",
    "                if (0 <= nr < ROWS and 0 <= nc < COLS) and (nr,nc) not in visited and grid[nr][nc] == 0:\n",
    "                    visited.add((nr,nc))\n",
    "                    q.append((nr,nc, path + 1))\n",
    "        return -1 "
   ]
  },
  {
   "cell_type": "markdown",
   "metadata": {},
   "source": [
    "I was largely able to solve it on my own with only a little help in terms of optimizations!"
   ]
  }
 ],
 "metadata": {
  "language_info": {
   "name": "python"
  },
  "orig_nbformat": 4
 },
 "nbformat": 4,
 "nbformat_minor": 2
}
