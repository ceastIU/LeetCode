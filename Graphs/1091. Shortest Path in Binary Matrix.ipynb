{
 "cells": [
  {
   "cell_type": "markdown",
   "metadata": {},
   "source": [
    "1091. Shortest Path in Binary Matrix\n",
    "Medium\n",
    "\n",
    "Given an n x n binary matrix grid, return the length of the shortest clear path in the matrix. If there is no clear path, return -1.\n",
    "\n",
    "A clear path in a binary matrix is a path from the top-left cell (i.e., (0, 0)) to the bottom-right cell (i.e., (n - 1, n - 1)) such that:\n",
    "\n",
    "All the visited cells of the path are 0.\n",
    "All the adjacent cells of the path are 8-directionally connected (i.e., they are different and they share an edge or a corner).\n",
    "The length of a clear path is the number of visited cells of this path."
   ]
  },
  {
   "cell_type": "code",
   "execution_count": null,
   "metadata": {},
   "outputs": [],
   "source": [
    "from collections import deque\n",
    "class Solution:\n",
    "    def shortestPathBinaryMatrix(self, grid: List[List[int]]) -> int:\n",
    "        ROWS, COLS = len(grid), len(grid[0])\n",
    "        if grid[0][0] == 1:\n",
    "            return -1\n",
    "        q = deque((0,0))\n",
    "        directions = [(-1,0),(1,0),(0,-1),(0,1),(1,1),(-1,1),(1,-1),(-1,-1)]\n",
    "        path = 0\n",
    "        visited = set()\n",
    "        while q:\n",
    "            qLen = len(q)\n",
    "            \n",
    "            for _ in range(qLen):\n",
    "                elm = q.popleft()\n",
    "                visited.add(elm)\n",
    "                if elm == (len(grid)-1,len(grid[0]) -1):\n",
    "                    return path\n",
    "                for xx, yy in directions:\n",
    "                    r, c = elm[0] + xx, elm[1] + yy\n",
    "                    if (0 <= r < ROWS and 0 <= c < COLS) and (r,c) not in visited:\n",
    "                        q.append((r,c))\n",
    "            path += 1\n",
    "        return path "
   ]
  }
 ],
 "metadata": {
  "language_info": {
   "name": "python"
  },
  "orig_nbformat": 4
 },
 "nbformat": 4,
 "nbformat_minor": 2
}
