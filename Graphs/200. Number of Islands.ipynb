{
 "cells": [
  {
   "cell_type": "markdown",
   "metadata": {},
   "source": [
    "200. Number of Islands\n",
    "\n",
    "Medium\n",
    "\n",
    "Given an m x n 2D binary grid grid which represents a map of '1's (land) and '0's (water), return the number of islands.\n",
    "\n",
    "An island is surrounded by water and is formed by connecting adjacent lands horizontally or vertically. You may assume all four edges of the grid are all surrounded by water.\n",
    "\n",
    "---\n",
    "\n",
    "Example 1:\n",
    "\n",
    "Input: grid = [\n",
    "  [\"1\",\"1\",\"1\",\"1\",\"0\"],\n",
    "  [\"1\",\"1\",\"0\",\"1\",\"0\"],\n",
    "  [\"1\",\"1\",\"0\",\"0\",\"0\"],\n",
    "  [\"0\",\"0\",\"0\",\"0\",\"0\"]\n",
    "]\n",
    "Output: 1\n",
    "\n",
    "---\n",
    "\n",
    "Solution:\n",
    "- Iterate through the grid looking for a piece of land\n",
    "- Once we find a piece of land\n",
    "    - Iterate the # of islands\n",
    "    - use DFS to mark all the land in that island\n",
    "- continue looking for more islands"
   ]
  },
  {
   "cell_type": "code",
   "execution_count": null,
   "metadata": {},
   "outputs": [],
   "source": [
    "class Solution:\n",
    "    def numIslands(self, grid: List[List[str]]) -> int:\n",
    "        ROWS, COLS = len(grid), len(grid[0])\n",
    "        def markIsland(r,c):\n",
    "            if not (0 <= r < ROWS and 0 <= c < COLS) or grid[r][c] != \"1\":\n",
    "                return\n",
    "            # mark current piece of land\n",
    "            grid[r][c] = \"2\"\n",
    "\n",
    "            # iterate in the 4 directions\n",
    "            directions = [(-1,0),(1,0),(0,-1),(0,1)]\n",
    "            for xx, yy in directions:\n",
    "                newR, newC = r + xx, c + yy\n",
    "                markIsland(newR,newC)\n",
    "            return\n",
    "        islands = 0\n",
    "        for i in range(ROWS):\n",
    "            for j in range(COLS):\n",
    "                if grid[i][j] == \"1\":\n",
    "                    islands += 1\n",
    "                    markIsland(i,j)\n",
    "        return islands"
   ]
  },
  {
   "cell_type": "markdown",
   "metadata": {},
   "source": [
    "Another problem I was able to work quickly through! I am feeling super confident about these kinds of problems that involve grids!\n",
    "\n"
   ]
  }
 ],
 "metadata": {
  "language_info": {
   "name": "python"
  },
  "orig_nbformat": 4
 },
 "nbformat": 4,
 "nbformat_minor": 2
}
