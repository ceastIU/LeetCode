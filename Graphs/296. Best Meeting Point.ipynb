{
 "cells": [
  {
   "cell_type": "markdown",
   "metadata": {},
   "source": [
    "296. Best Meeting Point\n",
    "Hard\n",
    "\n",
    "Given an m x n binary grid grid where each 1 marks the home of one friend, return the minimal total travel distance.\n",
    "\n",
    "The total travel distance is the sum of the distances between the houses of the friends and the meeting point.\n",
    "\n",
    "The distance is calculated using Manhattan Distance, where distance(p1, p2) = |p2.x - p1.x| + |p2.y - p1.y|."
   ]
  },
  {
   "cell_type": "code",
   "execution_count": null,
   "metadata": {},
   "outputs": [],
   "source": [
    "class Solution:\n",
    "    def minTotalDistance(self, grid: List[List[int]]) -> int:\n",
    "        # create a bounds for candidates and then go from there\n",
    "        rows = len(grid)\n",
    "        cols = len(grid[0])\n",
    "        homes = []\n",
    "        width = [cols,0]\n",
    "        height = [rows,0]\n",
    "        rVotes = defaultdict(int)\n",
    "        cVotes = defaultdict(int)\n",
    "        for r in range(rows):\n",
    "            for c in range(cols):\n",
    "                if grid[r][c] == 1:\n",
    "                    homes.append([r,c])\n",
    "                    rVotes[r] += 1\n",
    "                    cVotes[c] += 1\n",
    "                    if r < height[0]:\n",
    "                        height[0] = r\n",
    "                    if r > height[1]:\n",
    "                        height[1] = r\n",
    "                    if c < width[0]:\n",
    "                        width[0] = c\n",
    "                    if c > width[1]:\n",
    "                        width[1] = c\n",
    "        maxV = 0\n",
    "        minR = rows\n",
    "        maxR = 0\n",
    "        for key in rVotes.keys():\n",
    "            if rVotes[key] > maxV:\n",
    "                maxV = rVotes[key]\n",
    "                minR = key\n",
    "                maxR = key\n",
    "            elif rVotes[key] == maxV:\n",
    "                minR = min(minR, key)\n",
    "                maxR = max(maxR, key)\n",
    "        maxV = 0\n",
    "        minC = cols\n",
    "        maxC = 0\n",
    "        for key in cVotes.keys():\n",
    "            if cVotes[key] > maxV:\n",
    "                maxV = cVotes[key]\n",
    "                minC = key\n",
    "                maxC = key\n",
    "            elif cVotes[key] == maxV:\n",
    "                minC = min(minC, key)\n",
    "                maxC = max(maxC, key)\n",
    "            \n",
    "        col = minC + ceil((maxC-minC) / 2)\n",
    "        row = minR + floor((maxR-minR) / 2)\n",
    "        print(minR,maxR)\n",
    "        print(row, col)\n",
    "        dist = 0\n",
    "        for r,c in homes:\n",
    "            dist += abs(r-row) + abs(c-col)\n",
    "        return dist"
   ]
  }
 ],
 "metadata": {
  "language_info": {
   "name": "python"
  }
 },
 "nbformat": 4,
 "nbformat_minor": 2
}
