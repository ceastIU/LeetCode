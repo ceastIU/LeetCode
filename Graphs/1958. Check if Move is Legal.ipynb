{
 "cells": [
  {
   "cell_type": "markdown",
   "metadata": {},
   "source": [
    "1958. Check if Move is Legal\n",
    "\n",
    "Medium\n",
    "\n",
    "You are given a 0-indexed 8 x 8 grid board, where board[r][c] represents the cell (r, c) on a game board. On the board, free cells are represented by '.', white cells are represented by 'W', and black cells are represented by 'B'.\n",
    "\n",
    "Each move in this game consists of choosing a free cell and changing it to the color you are playing as (either white or black). However, a move is only legal if, after changing it, the cell becomes the endpoint of a good line (horizontal, vertical, or diagonal).\n",
    "\n",
    "A good line is a line of three or more cells (including the endpoints) where the endpoints of the line are one color, and the remaining cells in the middle are the opposite color (no cells in the line are free). You can find examples for good lines in the figure below:\n",
    "\n",
    "---\n",
    "\n",
    "Observations:\n",
    "This will be an interesting problem to solve with a multitude of directions!"
   ]
  },
  {
   "cell_type": "code",
   "execution_count": null,
   "metadata": {},
   "outputs": [],
   "source": [
    "class Solution:\n",
    "    def checkMove(self, board: List[List[str]], rMove: int, cMove: int, color: str) -> bool:\n",
    "        "
   ]
  },
  {
   "cell_type": "markdown",
   "metadata": {},
   "source": [
    "Time Complexity:\n",
    "\n",
    "The function dfs is called for each of the eight possible directions, and for each direction, it can potentially traverse the entire board. In the worst case, it may have to traverse the entire board for each direction. Therefore, the worst-case time complexity of dfs is O(ROWS * COLS), where ROWS is the number of rows in the board and COLS is the number of columns.\n",
    "\n",
    "The main loop iterates through eight directions, and for each direction, it calls dfs. So, the overall time complexity of your code is O(8 * ROWS * COLS), which can be simplified to O(ROWS * COLS) since constants are dropped in Big O notation.\n",
    "\n",
    "Space Complexity:\n",
    "\n",
    "The space complexity of your code is primarily determined by the recursive calls to the dfs function and the stack frames created during those calls. In the worst case, if the board is large and there is a long sequence of matching colors, you can have a stack of recursive calls, which is limited by the maximum recursion depth in Python.\n",
    "\n",
    "The space complexity is O(ROWS * COLS) for the stack space used by the recursive calls. Additionally, there is some constant space used for variables and function parameters. Therefore, the overall space complexity of your code can be considered O(ROWS * COLS).\n",
    "\n",
    "In summary, the time complexity of your code is O(ROWS * COLS), and the space complexity is also O(ROWS * COLS) in the worst case."
   ]
  }
 ],
 "metadata": {
  "language_info": {
   "name": "python"
  },
  "orig_nbformat": 4
 },
 "nbformat": 4,
 "nbformat_minor": 2
}
