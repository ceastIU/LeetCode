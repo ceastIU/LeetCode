{
 "cells": [
  {
   "cell_type": "markdown",
   "metadata": {},
   "source": [
    "1466. Reorder Routes to Make All Paths Lead to the City Zero\n",
    "\n",
    "Medium\n",
    "\n",
    "There are n cities numbered from 0 to n - 1 and n - 1 roads such that there is only one way to travel between two different cities (this network form a tree). Last year, The ministry of transport decided to orient the roads in one direction because they are too narrow.\n",
    "\n",
    "Roads are represented by connections where connections[i] = [ai, bi] represents a road from city ai to city bi.\n",
    "\n",
    "This year, there will be a big event in the capital (city 0), and many people want to travel to this city.\n",
    "\n",
    "Your task consists of reorienting some roads such that each city can visit the city 0. Return the minimum number of edges changed.\n",
    "\n",
    "It's guaranteed that each city can reach city 0 after reorder.\n",
    "\n",
    "---\n",
    "\n",
    "Observations:\n",
    "- This is clearly a graph problem, but I'm not super well versed in how to explore these problems, thus I have to dig into this type of problem\n"
   ]
  },
  {
   "cell_type": "code",
   "execution_count": null,
   "metadata": {},
   "outputs": [],
   "source": [
    "class Solution:\n",
    "    def minReorder(self, n: int, connections: List[List[int]]) -> int:\n",
    "        # start at city 0\n",
    "        # recursively check its neighbors\n",
    "        # count outgoing edges\n",
    "\n",
    "        edges = {(a,b) for a, b in connections}\n",
    "        print(edges)\n",
    "        neighbors = {city:[] for city in range(n)}\n",
    "        visit = set()\n",
    "        changes = 0\n",
    "\n",
    "        for a,b in connections:\n",
    "            neighbors[a].append(b)\n",
    "            neighbors[b].append(a)\n",
    "\n",
    "        def dfs(city):\n",
    "            nonlocal edges, neighbors, visit, changes\n",
    "\n",
    "            for neighbor in neighbors[city]:\n",
    "                if neighbor in visit:\n",
    "                    continue\n",
    "                # check if neighbor can reach city 0\n",
    "                if (neighbor, city) not in edges:\n",
    "                    changes += 1\n",
    "                visit.add(neighbor)\n",
    "                dfs(neighbor)\n",
    "        visit.add(0)\n",
    "        dfs(0)\n",
    "        return changes\n",
    "\n"
   ]
  },
  {
   "cell_type": "code",
   "execution_count": null,
   "metadata": {},
   "outputs": [],
   "source": [
    "class Solution:\n",
    "    def minReorder(self, n: int, connections: List[List[int]]) -> int:\n",
    "        # Create an adjacency list to represent the tree\n",
    "        graph = defaultdict(list)\n",
    "        for a, b in connections:\n",
    "            graph[a].append((b, 1))  # Edge from a to b\n",
    "            graph[b].append((a, 0))  # Edge from b to a (reversed)\n",
    "        \n",
    "        # Initialize the result counter\n",
    "        result = 0\n",
    "        \n",
    "        # DFS function to traverse the tree and count reversed edges\n",
    "        def dfs(node, parent):\n",
    "            nonlocal result\n",
    "            for neighbor, direction in graph[node]:\n",
    "                if neighbor != parent:\n",
    "                    result += direction  # Increment result based on edge direction\n",
    "                    dfs(neighbor, node)\n",
    "        \n",
    "        # Start DFS from the capital city (city 0)\n",
    "        dfs(0, -1)\n",
    "        \n",
    "        return result"
   ]
  },
  {
   "cell_type": "markdown",
   "metadata": {},
   "source": [
    "I'm just going to have to study this code and get a better grasp of what is happening to the point where I can replicate the results."
   ]
  }
 ],
 "metadata": {
  "language_info": {
   "name": "python"
  },
  "orig_nbformat": 4
 },
 "nbformat": 4,
 "nbformat_minor": 2
}
