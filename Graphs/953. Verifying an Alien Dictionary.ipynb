{
 "cells": [
  {
   "cell_type": "markdown",
   "metadata": {},
   "source": [
    "953. Verifying an Alien Dictionary\n",
    "\n",
    "Easy\n",
    "\n",
    "In an alien language, surprisingly, they also use English lowercase letters, but possibly in a different order. The order of the alphabet is some permutation of lowercase letters.\n",
    "\n",
    "Given a sequence of words written in the alien language, and the order of the alphabet, return true if and only if the given words are sorted lexicographically in this alien language.\n",
    "\n",
    "---\n",
    "\n",
    "Example 1:\n",
    "\n",
    "Input: words = [\"hello\",\"leetcode\"], order = \"hlabcdefgijkmnopqrstuvwxyz\"\n",
    "Output: true\n",
    "Explanation: As 'h' comes before 'l' in this language, then the sequence is sorted.\n",
    "\n",
    "Example 2:\n",
    "\n",
    "Input: words = [\"word\",\"world\",\"row\"], order = \"worldabcefghijkmnpqstuvxyz\"\n",
    "Output: false\n",
    "Explanation: As 'd' comes after 'l' in this language, then words[0] > words[1], hence the sequence is unsorted.\n",
    "\n",
    "---\n",
    "Observations: \n",
    "- Seems we can solve it with DFS\n",
    "- Complex part it how we organize the data for each recursive call"
   ]
  },
  {
   "cell_type": "code",
   "execution_count": null,
   "metadata": {},
   "outputs": [],
   "source": [
    "class Solution:\n",
    "    def isAlienSorted(self, words: List[str], order: str) -> bool:\n",
    "        def dfs(index, w):\n",
    "            if len(w) == 1:\n",
    "                return True\n",
    "            groups = {}\n",
    "            prev = -2\n",
    "            for word in w:\n",
    "                if index < len(word):\n",
    "                    char = word[index]\n",
    "                    temp = order.index(char)\n",
    "                else:\n",
    "                    char = None\n",
    "                    temp = -1\n",
    "                if temp < prev:\n",
    "                    return False\n",
    "                else:\n",
    "                    prev = temp\n",
    "                # add values to the groups\n",
    "                if char in groups:\n",
    "                    groups[char].append(word)\n",
    "                else:\n",
    "                    groups[char] = [word]\n",
    "            if prev == -1:\n",
    "                return True\n",
    "            flag = True\n",
    "            for group in groups.values():\n",
    "                flag = flag and dfs(index + 1, group)\n",
    "            return flag\n",
    "        return dfs(0,words)\n"
   ]
  },
  {
   "cell_type": "markdown",
   "metadata": {},
   "source": [
    "The way I solved the problem is correct, but there are probably better ways to solve the problem that falls in line with the idea of the graph. So far I have been just solving these problems like DFS backtracking problems. \n",
    "\n",
    "Also, my answer to this question was a lot more complicated than should be neccesary for an Easy problem. Definitely worth watch NeetCode's explanation and learning a better approach. As it stands my code's complexity is:\n",
    "\n",
    "Time Complexity: The time complexity of the code is directly related to the number of words and the length of the words. In the worst case, all words need to be compared for each character, and each comparison takes O(1) time. Therefore, the overall time complexity is O(N * M), where N is the number of words and M is the maximum length of the words.\n",
    "\n",
    "Space Complexity: The code uses some extra space for the dictionary groups to store words with the same starting character. In the worst case, the dictionary could store all words, resulting in O(N) space complexity due to the recursion stack."
   ]
  },
  {
   "cell_type": "code",
   "execution_count": null,
   "metadata": {},
   "outputs": [],
   "source": [
    "# Round 2\n",
    "class Solution:\n",
    "    def isAlienSorted(self, words: List[str], order: str) -> bool:\n",
    "\n",
    "        orderInd = {c : i for i, c in enumerate(order)}\n",
    "\n",
    "        for i in range(len(words) - 1):\n",
    "            w1, w2 = words[i], words[i + 1]\n",
    "\n",
    "            for j in range(len(w1)):\n",
    "                if j == len(w2):\n",
    "                    return False\n",
    "                \n",
    "                if w1[j] != w2[j]:\n",
    "                    if orderInd[w2[j]] < orderInd[w1[j]]:\n",
    "                        return False\n",
    "                    break\n",
    "        return True\n",
    "\n"
   ]
  }
 ],
 "metadata": {
  "language_info": {
   "name": "python"
  },
  "orig_nbformat": 4
 },
 "nbformat": 4,
 "nbformat_minor": 2
}
