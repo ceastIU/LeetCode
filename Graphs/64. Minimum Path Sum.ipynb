{
 "cells": [
  {
   "cell_type": "markdown",
   "metadata": {},
   "source": [
    "64. Minimum Path Sum\n",
    "\n",
    "Medium\n",
    "\n",
    "Given a m x n grid filled with non-negative numbers, find a path from top left to bottom right, which minimizes the sum of all numbers along its path.\n",
    "\n",
    "Note: You can only move either down or right at any point in time.\n",
    "---\n",
    "D's algo for this problem! Let's see if I can do it on my own! "
   ]
  },
  {
   "cell_type": "code",
   "execution_count": null,
   "metadata": {},
   "outputs": [],
   "source": [
    "import heapq\n",
    "class Solution:\n",
    "    def minPathSum(self, grid: List[List[int]]) -> int:\n",
    "        ROWS, COLS = len(grid), len(grid[0])\n",
    "        path = [[float(\"inf\") for _ in range(COLS)] for _ in range(ROWS)]\n",
    "        path[0][0] = grid[0][0]\n",
    "        directions = [(1,0),(0,1)]\n",
    "        heap = [(grid[0][0],0,0)]\n",
    "\n",
    "        while heap:\n",
    "            pathSum, x, y = heapq.heappop(heap)\n",
    "            for dx, dy in directions:\n",
    "                nx, ny = x + dx, y + dy\n",
    "                if 0 <= nx < ROWS and 0 <= ny < COLS:\n",
    "                    newSum = pathSum + grid[nx][ny]\n",
    "                    if newSum < path[nx][ny]:\n",
    "                        path[nx][ny] = newSum\n",
    "                        heapq.heappush(heap, (newSum,nx,ny))\n",
    "        return path[ROWS-1][COLS-1] "
   ]
  },
  {
   "cell_type": "markdown",
   "metadata": {},
   "source": [
    "Although I correctly found a way to code D's algo, it is anm inefficent solution and a more traditional style of DP is required to solve this problem in an ideal way!"
   ]
  },
  {
   "cell_type": "code",
   "execution_count": null,
   "metadata": {},
   "outputs": [],
   "source": [
    "# true dp solution \n",
    "class Solution:\n",
    "    def minPathSum(self, grid: List[List[int]]) -> int:\n",
    "        ROWS, COLS = len(grid), len(grid[0])\n",
    "        res = [[float(\"inf\")]* (COLS + 1) for _ in range(ROWS + 1)]\n",
    "        res[ROWS - 1][COLS] = 0\n",
    "\n",
    "        for r in range(ROWS - 1, -1, -1):\n",
    "            for c in range(COLS -1, -1, -1):\n",
    "                res[r][c] = grid[r][c] + min(res[r+1][c],res[r][c+1])\n",
    "        return res[0][0]"
   ]
  }
 ],
 "metadata": {
  "language_info": {
   "name": "python"
  },
  "orig_nbformat": 4
 },
 "nbformat": 4,
 "nbformat_minor": 2
}
