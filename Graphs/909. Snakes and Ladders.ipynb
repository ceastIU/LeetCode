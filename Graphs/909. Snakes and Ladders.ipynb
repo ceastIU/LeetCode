{
 "cells": [
  {
   "cell_type": "markdown",
   "metadata": {},
   "source": [
    "909. Snakes and Ladders\n",
    "Medium\n",
    "\n",
    "You are given an n x n integer matrix board where the cells are labeled from 1 to n2 in a Boustrophedon style starting from the bottom left of the board (i.e. board[n - 1][0]) and alternating direction each row.\n",
    "\n",
    "You start on square 1 of the board. In each move, starting from square curr, do the following:\n",
    "\n",
    "Choose a destination square next with a label in the range [curr + 1, min(curr + 6, n2)].\n",
    "This choice simulates the result of a standard 6-sided die roll: i.e., there are always at most 6 destinations, regardless of the size of the board.\n",
    "If next has a snake or ladder, you must move to the destination of that snake or ladder. Otherwise, you move to next.\n",
    "The game ends when you reach the square n2.\n",
    "A board square on row r and column c has a snake or ladder if board[r][c] != -1. The destination of that snake or ladder is board[r][c]. Squares 1 and n2 do not have a snake or ladder.\n",
    "\n",
    "Note that you only take a snake or ladder at most once per move. If the destination to a snake or ladder is the start of another snake or ladder, you do not follow the subsequent snake or ladder.\n",
    "\n",
    "For example, suppose the board is [[-1,4],[-1,3]], and on the first move, your destination square is 2. You follow the ladder to square 3, but do not follow the subsequent ladder to 4.\n",
    "Return the least number of moves required to reach the square n2. If it is not possible to reach the square, return -1.\n",
    "\n",
    "---\n",
    "Observations:\n",
    "- Completely out of my element with this problem, but let's get after it!"
   ]
  },
  {
   "cell_type": "code",
   "execution_count": null,
   "metadata": {},
   "outputs": [],
   "source": [
    "from collections import deque\n",
    "class Solution:\n",
    "    def snakesAndLadders(self, board: List[List[int]]) -> int:\n",
    "        # Get length\n",
    "        length = len(board)\n",
    "        board.reverse()\n",
    "\n",
    "        def cell(square):\n",
    "            r = (square - 1) // length\n",
    "            c = (square - 1) % length\n",
    "            if r % 2:\n",
    "                c = length - 1 - c\n",
    "            return [r,c]\n",
    "\n",
    "        q = deque() # [ square, moves ]\n",
    "        q.append([1,0])\n",
    "        visit = set()\n",
    "\n",
    "        while q:\n",
    "            square, moves = q.popleft()\n",
    "            for i in range(1,7):\n",
    "                nextSquare = square + i\n",
    "                r,c = cell(nextSquare)\n",
    "                if board[r][c] != -1:\n",
    "                    nextSquare = board[r][c]\n",
    "                if nextSquare == length * length:\n",
    "                    return moves + 1\n",
    "                if nextSquare not in visit:\n",
    "                    visit.add(nextSquare)\n",
    "                    q.append([nextSquare, moves +1])\n",
    "        return -1   "
   ]
  },
  {
   "cell_type": "markdown",
   "metadata": {},
   "source": [
    "Deffo out of my element on this one. Another huge problem that Im ust review and get a better understanding on. In general we are moving toward BFS style problems, which is a nice change honestly!\n",
    "\n",
    "The time complexity of this code can be analyzed as follows:\n",
    "\n",
    "The outer while loop iterates until the queue q is empty, which takes O(N^2) time, where N is the number of cells in the board (since it iterates through each cell).\n",
    "Within the while loop, for each cell, the code tries up to 6 possible moves (rolling a dice). The inner loop runs a constant number of times (6 in this case), so it contributes a constant factor to the overall time complexity.\n",
    "Inside the inner loop, the code calculates the next square and cell position using constant-time arithmetic operations.\n",
    "Therefore, the overall time complexity of the code is O(N^2).\n",
    "\n",
    "The space complexity mainly comes from the usage of the queue q and the set visit, both of which can potentially grow up to O(N^2) in size. Additionally, there are some constant-sized variables and temporary data structures. Hence, the space complexity of the code is also O(N^2)."
   ]
  }
 ],
 "metadata": {
  "language_info": {
   "name": "python"
  },
  "orig_nbformat": 4
 },
 "nbformat": 4,
 "nbformat_minor": 2
}
