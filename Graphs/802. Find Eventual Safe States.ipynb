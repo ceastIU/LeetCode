{
 "cells": [
  {
   "cell_type": "markdown",
   "metadata": {},
   "source": [
    "802. Find Eventual Safe States\n",
    "Medium\n",
    "\n",
    "There is a directed graph of n nodes with each node labeled from 0 to n - 1. The graph is represented by a 0-indexed 2D integer array graph where graph[i] is an integer array of nodes adjacent to node i, meaning there is an edge from node i to each node in graph[i].\n",
    "\n",
    "A node is a terminal node if there are no outgoing edges. A node is a safe node if every possible path starting from that node leads to a terminal node (or another safe node).\n",
    "\n",
    "Return an array containing all the safe nodes of the graph. The answer should be sorted in ascending order.\n",
    "\n",
    "---\n",
    "\n",
    "Example 1:\n",
    "\n",
    "Illustration of graph\n",
    "Input: graph = [[1,2],[2,3],[5],[0],[5],[],[]]\n",
    "Output: [2,4,5,6]\n",
    "Explanation: The given graph is shown above.\n",
    "Nodes 5 and 6 are terminal nodes as there are no outgoing edges from either of them.\n",
    "Every path starting at nodes 2, 4, 5, and 6 all lead to either node 5 or 6.\n",
    "\n",
    "---\n",
    "Observations:\n",
    "I was able to mostly solve this problem on my own, but needed a little help. But I largely understood the general solution and feel confident of my ability to navigate the discussion of that solution in an interview!"
   ]
  },
  {
   "cell_type": "code",
   "execution_count": null,
   "metadata": {},
   "outputs": [],
   "source": [
    "# My ChatGPT helped code!\n",
    "class Solution:\n",
    "    def eventualSafeNodes(self, graph: List[List[int]]) -> List[int]:\n",
    "        # I have no idea how to approach this graph problem. My intution is that I need some sort of dfs on the nodes, to see if there are cycles\n",
    "        res = []\n",
    "        def dfs(node, visited):\n",
    "            neighbors = graph[node]\n",
    "            if visited[node] == 1:\n",
    "                return False\n",
    "            if visited[node] == 2:\n",
    "                return True\n",
    "            # add node to path\n",
    "            visited[node] = 1\n",
    "            flag = True\n",
    "            for neighbor in graph[node]:\n",
    "                if not dfs(neighbor, visited):\n",
    "                    return False\n",
    "            visited[node] = 2\n",
    "            return True\n",
    "\n",
    "        visited = [0] * len(graph)\n",
    "        for node in range(len(graph)):\n",
    "            if dfs(node,visited):\n",
    "                res.append(node)\n",
    "        return res"
   ]
  },
  {
   "cell_type": "code",
   "execution_count": null,
   "metadata": {},
   "outputs": [],
   "source": [
    "# NeetCode\n",
    "class Solution:\n",
    "    def eventualSafeNodes(self, graph: List[List[int]]) -> List[int]:\n",
    "        n = len(graph)\n",
    "        safe = {}\n",
    "        # define the \n",
    "        def dfs(i):\n",
    "            if i in safe:\n",
    "                return safe[i]\n",
    "            safe[i] = False\n",
    "            for neighbor in graph[i]:\n",
    "                if not dfs(neighbor):\n",
    "                    return safe[i]\n",
    "            safe[i] = True\n",
    "            return True\n",
    "        res = []\n",
    "        for i in range(n):\n",
    "            if dfs(i):\n",
    "                res.append(i)\n",
    "        return res"
   ]
  },
  {
   "cell_type": "markdown",
   "metadata": {},
   "source": [
    "The time complexity is O(E+V) and space is O(V)"
   ]
  }
 ],
 "metadata": {
  "language_info": {
   "name": "python"
  },
  "orig_nbformat": 4
 },
 "nbformat": 4,
 "nbformat_minor": 2
}
