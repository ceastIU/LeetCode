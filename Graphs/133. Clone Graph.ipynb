{
 "cells": [
  {
   "cell_type": "markdown",
   "metadata": {},
   "source": [
    "133. Clone Graph\n",
    "\n",
    "Medium\n",
    "\n",
    "Given a reference of a node in a connected undirected graph.\n",
    "\n",
    "Return a deep copy (clone) of the graph.\n",
    "\n",
    "Each node in the graph contains a value (int) and a list (List[Node]) of its neighbors.\n",
    "\n",
    "class Node {\n",
    "    public int val;\n",
    "    public List<Node> neighbors;\n",
    "}\n",
    "\n",
    "---\n",
    "\n",
    "Solution: \n",
    "- DFS using a hashMap"
   ]
  },
  {
   "cell_type": "code",
   "execution_count": null,
   "metadata": {},
   "outputs": [],
   "source": [
    "\"\"\"\n",
    "# Definition for a Node.\n",
    "class Node:\n",
    "    def __init__(self, val = 0, neighbors = None):\n",
    "        self.val = val\n",
    "        self.neighbors = neighbors if neighbors is not None else []\n",
    "\"\"\"\n",
    "\n",
    "class Solution:\n",
    "    def cloneGraph(self, node: 'Node') -> 'Node':\n",
    "        oldToNew = {}\n",
    "        def dfs(node):\n",
    "            # cloan the node\n",
    "            if node in oldToNew:\n",
    "                return oldToNew[node]\n",
    "                \n",
    "            copy = Node(node.val)\n",
    "            oldToNew[node] = copy\n",
    "            for neighbor in node.neighbors:\n",
    "                copy.neighbors.append(dfs(neighbor))\n",
    "            return copy\n",
    "        return dfs(node) if node else None"
   ]
  },
  {
   "cell_type": "markdown",
   "metadata": {},
   "source": [
    "This problem was a lot easier than I expected, but since I am learning an entirely new data structure, there will be growing pains associated with learning how to navigate graphs!\n",
    "\n"
   ]
  }
 ],
 "metadata": {
  "language_info": {
   "name": "python"
  },
  "orig_nbformat": 4
 },
 "nbformat": 4,
 "nbformat_minor": 2
}
