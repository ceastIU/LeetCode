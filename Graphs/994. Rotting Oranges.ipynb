{
 "cells": [
  {
   "cell_type": "markdown",
   "metadata": {},
   "source": [
    "994. Rotting Oranges\n",
    "\n",
    "Medium\n",
    "\n",
    "You are given an m x n grid where each cell can have one of three values:\n",
    "\n",
    "0 representing an empty cell,\n",
    "1 representing a fresh orange, or\n",
    "2 representing a rotten orange.\n",
    "Every minute, any fresh orange that is 4-directionally adjacent to a rotten orange becomes rotten.\n",
    "\n",
    "Return the minimum number of minutes that must elapse until no cell has a fresh orange. If this is impossible, return -1.\n",
    "\n",
    "---\n",
    "Finally getting the chance to slay a problem that has been alluding me for so long!\n",
    "Observations:\n",
    "- iterative DFS\n"
   ]
  },
  {
   "cell_type": "code",
   "execution_count": null,
   "metadata": {},
   "outputs": [],
   "source": [
    "from collections import deque\n",
    "class Solution:\n",
    "    def orangesRotting(self, grid: List[List[int]]) -> int:\n",
    "        rotten = deque()\n",
    "        ROWS, COLS = len(grid), len(grid[0])\n",
    "        freshCount = 0\n",
    "        rottenCount = 0\n",
    "        for i in range(ROWS):\n",
    "            for j in range(COLS):\n",
    "                if grid[i][j] == 2:\n",
    "                    rotten.append((i,j))\n",
    "                    rottenCount += 1 \n",
    "                elif grid[i][j] == 1:\n",
    "                    freshCount += 1\n",
    "                    \n",
    "        # check if there is any fresh oranges to begin with\n",
    "        if freshCount == 0:\n",
    "            return 0\n",
    "        # start the process of converting rotten oranges\n",
    "        time = 0\n",
    "        while freshCount > 0 and rotten:\n",
    "            rottenLen = len(rotten)\n",
    "            for i in range(rottenLen):\n",
    "                x, y = rotten.popleft()\n",
    "                for xx, yy in [(-1,0),(1,0),(0,-1),(0,1)]:\n",
    "                    newX, newY = x + xx, y + yy\n",
    "                    if (0 <= newX < ROWS and 0 <= newY < COLS) and grid[newX][newY] == 1:\n",
    "                        grid[newX][newY] = 2\n",
    "                        rotten.append((newX,newY))\n",
    "                        freshCount -= 1\n",
    "            time += 1\n",
    "        return time if freshCount == 0 else -1"
   ]
  },
  {
   "cell_type": "markdown",
   "metadata": {},
   "source": [
    "YESSSSS, I was able to EASILY slay this problem that has been waiting in the background for so long now. I feel so excited about my ability to navigate these kinds of problems!\n",
    "\n",
    "Time Complexity:\n",
    "The worst-case time complexity is O(R * C), where R is the number of rows and C is the number of columns in the grid. This is because, in the worst case, all the cells may be rotten, and in each iteration of the while loop, you are visiting each rotten cell's neighboring cells.\n",
    "\n",
    "Space Complexity:\n",
    "The space complexity is O(R * C) as well. In the worst case, all cells could be rotten, and thus the rotten queue could contain up to R * C elements. Additionally, the variables freshCount, rottenCount, and constants like x, y, xx, yy, newX, newY, etc., occupy constant space.\n",
    "\n",
    "Overall, the code's complexity is primarily determined by the number of cells in the grid, resulting in a time and space complexity of O(R * C)."
   ]
  }
 ],
 "metadata": {
  "language_info": {
   "name": "python"
  },
  "orig_nbformat": 4
 },
 "nbformat": 4,
 "nbformat_minor": 2
}
