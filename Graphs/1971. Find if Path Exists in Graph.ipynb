{
 "cells": [
  {
   "cell_type": "markdown",
   "metadata": {},
   "source": [
    "1971. Find if Path Exists in Graph\n",
    "\n",
    "Easy\n",
    "\n",
    "There is a bi-directional graph with n vertices, where each vertex is labeled from 0 to n - 1 (inclusive). The edges in the graph are represented as a 2D integer array edges, where each edges[i] = [ui, vi] denotes a bi-directional edge between vertex ui and vertex vi. Every vertex pair is connected by at most one edge, and no vertex has an edge to itself.\n",
    "\n",
    "You want to determine if there is a valid path that exists from vertex source to vertex destination.\n",
    "\n",
    "Given edges and the integers n, source, and destination, return true if there is a valid path from source to destination, or false otherwise.\n",
    "--- \n",
    "Seems like a relatively easy question that uses DFS/BFS to search graph"
   ]
  },
  {
   "cell_type": "code",
   "execution_count": null,
   "metadata": {},
   "outputs": [],
   "source": [
    "class Solution:\n",
    "    def validPath(self, n: int, edges: List[List[int]], source: int, destination: int) -> bool:\n",
    "        adj = {i:[] for i in range(n)}\n",
    "        for src, dst in edges:\n",
    "            adj[src].append(dst)\n",
    "            adj[dst].append(src)\n",
    "        visit = [False] * n\n",
    "        def dfs(node):\n",
    "            if node == destination:\n",
    "                return True\n",
    "            visit[node] = True\n",
    "            flag = False\n",
    "            for nei in adj[node]:\n",
    "                if not visit[nei]:\n",
    "                    flag = dfs(nei) or flag\n",
    "            return flag\n",
    "        return dfs(source)"
   ]
  },
  {
   "cell_type": "code",
   "execution_count": null,
   "metadata": {},
   "outputs": [],
   "source": [
    "# Union Find\n",
    "class UnionFind:\n",
    "    def UnionFind(self, n):\n",
    "        parent = [i for i in range(n)]\n",
    "\n",
    "        def find(x):\n",
    "            if parent[x] != x:\n",
    "                return find(parent[x])\n",
    "            else:\n",
    "                return x\n",
    "            \n",
    "        def union(x,y):\n",
    "            pX = find(x)\n",
    "            pY = find(y)\n",
    "\n",
    "            parent[pX] = pY\n",
    "                "
   ]
  },
  {
   "cell_type": "code",
   "execution_count": null,
   "metadata": {},
   "outputs": [],
   "source": [
    "# implementing Union find\n",
    "class Solution:\n",
    "    def validPath(self, n: int, edges: List[List[int]], source: int, destination: int) -> bool:\n",
    "        graph = UnionFind(n)\n",
    "        for src, dst in edges:\n",
    "            graph.union(src,dst)\n",
    "        \n",
    "        return graph.find(source) == graph.find(destination)\n",
    "\n",
    "class UnionFind:\n",
    "    def __init__(self,n) -> None:\n",
    "        self.parent = [i for i in range(n)]\n",
    "\n",
    "    # This path compression makes a monumental difference when it comes to run time and is absolutely needed!\n",
    "    def find(self, v):\n",
    "        if self.parent[v] != v:\n",
    "            self.parent[v] = self.find(self.parent[v])  # Path compression\n",
    "        return self.parent[v]\n",
    "    \n",
    "    def union(self,v1,v2):\n",
    "        p1 = self.find(v1)\n",
    "        p2 = self.find(v2)\n",
    "\n",
    "        if p1 != p2:\n",
    "            self.parent[p2] = p1\n"
   ]
  },
  {
   "cell_type": "markdown",
   "metadata": {},
   "source": [
    "Time complexity  O(m + nα(n))\n",
    "Space complexity is O(n)"
   ]
  }
 ],
 "metadata": {
  "language_info": {
   "name": "python"
  },
  "orig_nbformat": 4
 },
 "nbformat": 4,
 "nbformat_minor": 2
}
