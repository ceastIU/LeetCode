{
 "cells": [
  {
   "cell_type": "markdown",
   "metadata": {},
   "source": [
    "2050. Parallel Courses III\n",
    "\n",
    "Hard\n",
    "\n",
    "You are given an integer n, which indicates that there are n courses labeled from 1 to n. You are also given a 2D integer array relations where relations[j] = [prevCoursej, nextCoursej] denotes that course prevCoursej has to be completed before course nextCoursej (prerequisite relationship). Furthermore, you are given a 0-indexed integer array time where time[i] denotes how many months it takes to complete the (i+1)th course.\n",
    "\n",
    "You must find the minimum number of months needed to complete all the courses following these rules:\n",
    "\n",
    "You may start taking a course at any time if the prerequisites are met.\n",
    "Any number of courses can be taken at the same time.\n",
    "Return the minimum number of months needed to complete all the courses.\n",
    "\n",
    "Note: The test cases are generated such that it is possible to complete every course (i.e., the graph is a directed acyclic graph)."
   ]
  },
  {
   "cell_type": "code",
   "execution_count": null,
   "metadata": {},
   "outputs": [],
   "source": [
    "class Solution:\n",
    "    def minimumTime(self, n: int, relations: List[List[int]], time: List[int]) -> int:\n",
    "        # stores all the preqs\n",
    "        pres = defaultdict(list)\n",
    "        # stores the adj courses\n",
    "        adj = defaultdict(list)\n",
    "        # Fill out the maps\n",
    "        for pre, crs in relations:\n",
    "            pres[crs].append(pre)\n",
    "            adj[pre].append(crs)\n",
    "\n",
    "        def dfs(node, total):\n",
    "            if len(adj[node]) == 0:\n",
    "                return total\n",
    "            temp = 0\n",
    "            for n in adj[node]:\n",
    "                temp = max(temp, dfs(n,total + time[n-1]))\n",
    "            return temp\n",
    "        # find the ending crs\n",
    "        end = -1\n",
    "        roots = []\n",
    "        for i in range(1,n+1):\n",
    "            if len(adj[i]) == 0:\n",
    "                end = i\n",
    "            if len(pres[i]) == 0:\n",
    "                roots.append(i)\n",
    "                \n",
    "        maxTime = 0\n",
    "        for root in roots:\n",
    "            maxTime = max(maxTime, dfs(root,time[root-1]))\n",
    "        return maxTime   \n",
    "# this code is correct but too slow. Need to find a way to optimize the code. Maybe memoizing it?"
   ]
  },
  {
   "cell_type": "code",
   "execution_count": null,
   "metadata": {},
   "outputs": [],
   "source": [
    "# Here is the dp, top-down, memoized solution. I was able to come up with this fairly quickly all things considered! \n",
    "class Solution:\n",
    "    def minimumTime(self, n: int, relations: List[List[int]], time: List[int]) -> int:\n",
    "        # stores all the preqs\n",
    "        pres = defaultdict(list)\n",
    "        # stores the adj courses\n",
    "        adj = defaultdict(list)\n",
    "        # Fill out the maps\n",
    "        for pre, crs in relations:\n",
    "            pres[crs].append(pre)\n",
    "            adj[pre].append(crs)\n",
    "        memo = {}\n",
    "        def dfs(node, total):\n",
    "            if node in memo:\n",
    "                return memo[node]\n",
    "            if len(adj[node]) == 0:\n",
    "                return time[node-1]\n",
    "            temp = 0\n",
    "            for n in adj[node]:\n",
    "                temp = max(temp, total + dfs(n,time[n-1]))\n",
    "            memo[node] = temp\n",
    "            return temp\n",
    "\n",
    "        maxTime = 0\n",
    "        for i in range(1,n+1):\n",
    "            if len(pres[i]) == 0:\n",
    "                maxTime = max(maxTime, dfs(i,time[i-1]))\n",
    "\n",
    "        return maxTime  "
   ]
  },
  {
   "cell_type": "markdown",
   "metadata": {},
   "source": [
    "I am starting to be able to solve novel hard problems on my own which is absurdly and amazing. I am really proud of how far I've managed to come as a programmer when it comes to leetcode. I still have so far to go, but nonetheless I am proud!"
   ]
  }
 ],
 "metadata": {
  "language_info": {
   "name": "python"
  },
  "orig_nbformat": 4
 },
 "nbformat": 4,
 "nbformat_minor": 2
}
