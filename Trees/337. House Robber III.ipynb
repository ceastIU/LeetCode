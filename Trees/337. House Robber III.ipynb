{
 "cells": [
  {
   "cell_type": "markdown",
   "metadata": {},
   "source": [
    "337. House Robber III\n",
    "\n",
    "Medium\n",
    "\n",
    "The thief has found himself a new place for his thievery again. There is only one entrance to this area, called root.\n",
    "\n",
    "Besides the root, each house has one and only one parent house. After a tour, the smart thief realized that all houses in this place form a binary tree. It will automatically contact the police if two directly-linked houses were broken into on the same night.\n",
    "\n",
    "Given the root of the binary tree, return the maximum amount of money the thief can rob without alerting the police.\n",
    "\n",
    "----------------------------------------------\n",
    "My attempt is below and only works for a subset of problem spaces. There needs to be a more recursive solution. \n",
    "\n"
   ]
  },
  {
   "cell_type": "code",
   "execution_count": 1,
   "metadata": {},
   "outputs": [],
   "source": [
    "# Failed code\n",
    "# class TreeNode:\n",
    "#     def __init__(self, val=0, left=None, right=None):\n",
    "#         self.val = val\n",
    "#         self.left = left\n",
    "#         self.right = right\n",
    "from collections import deque\n",
    "class Solution:\n",
    "    def rob(self, root: Optional[TreeNode]) -> int:\n",
    "        # level order traversal\n",
    "        # two cases: with root and without root\n",
    "        # this can be donoted with a height variable that determines which case to update\n",
    "        q = deque([[root,0]])\n",
    "        withRoot, without = 0, 0\n",
    "        while q:\n",
    "            qLen = len(q)\n",
    "            for i in range(qLen):\n",
    "                cur, height = q.popleft()\n",
    "                if height % 2 == 0:\n",
    "                    withRoot += cur.val\n",
    "                else:\n",
    "                    without += cur.val\n",
    "                if cur.left:\n",
    "                    q.append([cur.left,height + 1])\n",
    "                if cur.right:\n",
    "                    q.append([cur.right, height + 1])\n",
    "            \n",
    "        return max(withRoot, without)"
   ]
  },
  {
   "cell_type": "code",
   "execution_count": null,
   "metadata": {},
   "outputs": [],
   "source": [
    "# corrected code\n",
    "# Definition for a binary tree node.\n",
    "# class TreeNode:\n",
    "#     def __init__(self, val=0, left=None, right=None):\n",
    "#         self.val = val\n",
    "#         self.left = left\n",
    "#         self.right = right\n",
    "class Solution:\n",
    "    def rob(self, root: Optional[TreeNode]) -> int:\n",
    "        # return a pair of values [withroot, without root]\n",
    "        def dfs(root):\n",
    "            if not root:\n",
    "                return [0,0]\n",
    "            leftPair = dfs(root.left)\n",
    "            rightPair = dfs(root.right)\n",
    "            withRoot = root.val + leftPair[1] + rightPair[1]\n",
    "            withoutRoot = max(leftPair) + max(rightPair)\n",
    "\n",
    "            return [withRoot,withoutRoot]\n",
    "        return max(dfs(root))"
   ]
  },
  {
   "cell_type": "markdown",
   "metadata": {},
   "source": [
    "At the end of the day, this is a simplistic solution to a seemingly complex problem. The solution really hinges on this idea of there being two values returned:\n",
    "[withroot, withoutroot]. This pair helps in form the the next layer in the recursive call stack.\n",
    "\n",
    "withRoot is calculated based on the current root's value, then it takes the defined values of the previous recursive calls WITHOUTROOT since we cannot rob from two consecutive houses. Then the without root is merely the sum of the max of the two values that the DFS call generates on the left and right subtrees. \n",
    "\n",
    "Reviewing this problem the answer should have been more obvious.\n",
    "\n",
    "Will definitely have to come back to this problem!"
   ]
  },
  {
   "cell_type": "markdown",
   "metadata": {},
   "source": []
  }
 ],
 "metadata": {
  "kernelspec": {
   "display_name": "Python 3",
   "language": "python",
   "name": "python3"
  },
  "language_info": {
   "codemirror_mode": {
    "name": "ipython",
    "version": 3
   },
   "file_extension": ".py",
   "mimetype": "text/x-python",
   "name": "python",
   "nbconvert_exporter": "python",
   "pygments_lexer": "ipython3",
   "version": "3.10.11"
  },
  "orig_nbformat": 4
 },
 "nbformat": 4,
 "nbformat_minor": 2
}
