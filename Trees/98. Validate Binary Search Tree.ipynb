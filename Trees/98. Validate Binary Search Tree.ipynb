{
 "cells": [
  {
   "cell_type": "markdown",
   "metadata": {},
   "source": [
    "98. Validate Binary Search Tree\n",
    "Given the root of a binary tree, determine if it is a valid binary search tree (BST).\n",
    "\n",
    "A valid BST is defined as follows:\n",
    "- The left subtree of a node contains only nodes with keys less than the node's key.\n",
    "- The right subtree of a node contains only nodes with keys greater than the node's key.\n",
    "- Both the left and right subtrees must also be binary search trees."
   ]
  },
  {
   "cell_type": "markdown",
   "metadata": {},
   "source": [
    "Observations:\n",
    "- Is a BST\n",
    "- Recursive solution seems best\n",
    "- Recurse over the smaller subtrees, passing a long a value\n",
    "\n",
    "The part that is tricky is when there is a correctly placed incorrect answer. I.E. example two with:\n",
    "    5\n",
    "     \\\n",
    "      4 \n",
    "     / \\\n",
    "    3   6\n",
    "\"3\" is placed correctly to the left of 4 but incorrectly to the right of 5. To merely enough check an individual subtree. Also, in this case 4 is also incorrectly placed. But 4 could be changed to a value where it is correct but still has \"3\" inccorectly placed correctly to the left. \n",
    "Additonal thought is we could pass up the smallest value of the right side and the largest value of the right side to compare against the root node.\n"
   ]
  },
  {
   "cell_type": "code",
   "execution_count": 7,
   "metadata": {},
   "outputs": [
    {
     "name": "stdout",
     "output_type": "stream",
     "text": [
      "hello\n"
     ]
    }
   ],
   "source": [
    "class TreeNode:\n",
    "    def __init__(self, val=0, left=None, right=None):\n",
    "        self.val = val\n",
    "        self.left = left\n",
    "        self.right = right\n",
    "\n",
    "class Solution:\n",
    "    def isValidBST(self, root) -> bool:\n",
    "        def dfs(root):\n",
    "            if not root:\n",
    "                return [True, None, None]\n",
    "            # given valid node:\n",
    "            left, leftLSmallest, leftRSmallest = dfs(root.left)\n",
    "            right, rightLSmallest, rightRSmallest = dfs(root.right) \n",
    "            val = root.val\n",
    "            if not left or not right:\n",
    "                return [False, val, val]\n",
    "            if leftRSmallest and leftRSmallest >= val:\n",
    "                left = False\n",
    "            if rightLSmallest and rightLSmallest <= val:\n",
    "                right = False\n",
    "            leftRSmallest = leftRSmallest if leftRSmallest != None else val\n",
    "            rightLSmallest = rightLSmallest if rightLSmallest != None else val\n",
    "            print(leftRSmallest,rightLSmallest)\n",
    "            return [left and right, leftRSmallest,rightLSmallest]\n",
    "        \n",
    "        return dfs(root)[0]\n",
    "\n",
    "new = Solution()\n",
    "new.isValidBST(TreeNode(3))"
   ]
  },
  {
   "cell_type": "markdown",
   "metadata": {},
   "source": [
    "The above approach is not working. I was onto a unique idea, that work for a lot of the cases. but ultimately failed to work in the way it needed to. Time to scrap that approach and start over. \n",
    "\n",
    "There is an observation we can make\n",
    "              3\n",
    "             / \\\n",
    "all vals < 3    all vals > 3\n",
    "so we can use this property to our advantage. For the left side all vals must fall within -Inf and root.val, and all vals on the right must fall within root.val and Inf.\n",
    "\n",
    "so the recursive call would start with dfs(root,-inf, inf)\n",
    "Go from here:"
   ]
  },
  {
   "cell_type": "code",
   "execution_count": null,
   "metadata": {},
   "outputs": [],
   "source": [
    "class TreeNode:\n",
    "    def __init__(self, val=0, left=None, right=None):\n",
    "        self.val = val\n",
    "        self.left = left\n",
    "        self.right = right\n",
    "\n",
    "class Solution:\n",
    "    def isValidBST(self, root) -> bool:\n",
    "        def dfs(root,minVal,maxVal):\n",
    "            if not root:\n",
    "                return True\n",
    "            if (minVal is not float(\"-inf\") and root.val <= minVal) or (maxVal is not float(\"inf\") and root.val >= maxVal):\n",
    "                return False\n",
    "            left = dfs(root.left,minVal,root.val)\n",
    "            right = dfs(root.right, root.val, maxVal)\n",
    "            return left and right\n",
    "        \n",
    "        return dfs(root,float(\"-inf\"),float(\"inf\"))\n",
    "\n",
    "new = Solution()\n",
    "new.isValidBST(TreeNode(3))"
   ]
  }
 ],
 "metadata": {
  "kernelspec": {
   "display_name": "Python 3",
   "language": "python",
   "name": "python3"
  },
  "language_info": {
   "codemirror_mode": {
    "name": "ipython",
    "version": 3
   },
   "file_extension": ".py",
   "mimetype": "text/x-python",
   "name": "python",
   "nbconvert_exporter": "python",
   "pygments_lexer": "ipython3",
   "version": "3.10.11"
  },
  "orig_nbformat": 4
 },
 "nbformat": 4,
 "nbformat_minor": 2
}
