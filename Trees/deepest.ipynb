{
 "cells": [
  {
   "cell_type": "markdown",
   "metadata": {},
   "source": [
    "Given the root of a binary tree, the depth of each node is the shortest distance to the root.\n",
    "\n",
    "Return the smallest subtree such that it contains all the deepest nodes in the original tree.\n",
    "\n",
    "A node is called the deepest if it has the largest depth possible among any node in the entire tree.\n",
    "\n",
    "The subtree of a node is a tree consisting of that node, plus the set of all descendants of that node.\n",
    "\n",
    " "
   ]
  },
  {
   "cell_type": "code",
   "execution_count": null,
   "metadata": {},
   "outputs": [],
   "source": [
    "from collections import deque\n",
    "class Solution:\n",
    "    def subtreeWithAllDeepest(self, root: TreeNode) -> TreeNode:\n",
    "        q = deque([root, None])\n",
    "        while q:\n",
    "            for _ in range(len(q)):\n",
    "                cur, parent = q.popleft()\n",
    "                if not cur.left and not cur.right:\n",
    "                    if len(q) == 0:\n",
    "                        return parent\n",
    "                else:\n",
    "                    if cur.left:\n",
    "                        q.append([cur.left, cur])\n",
    "                    if cur.right:\n",
    "                        q.append([cur.right, cur])\n",
    "\n",
    "\n"
   ]
  }
 ],
 "metadata": {
  "language_info": {
   "name": "python"
  },
  "orig_nbformat": 4
 },
 "nbformat": 4,
 "nbformat_minor": 2
}
