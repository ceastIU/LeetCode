{
 "cells": [
  {
   "cell_type": "markdown",
   "metadata": {},
   "source": [
    "951. Flip Equivalent Binary Trees\n",
    "\n",
    "Medium\n",
    "\n",
    "Companies\n",
    "For a binary tree T, we can define a flip operation as follows: choose any node, and swap the left and right child subtrees.\n",
    "\n",
    "A binary tree X is flip equivalent to a binary tree Y if and only if we can make X equal to Y after some number of flip operations.\n",
    "\n",
    "Given the roots of two binary trees root1 and root2, return true if the two trees are flip equivalent or false otherwise.\n",
    "\n",
    "---\n",
    "\n",
    "Initial Observations:\n",
    "- Not a BST\n",
    "- Iterative seems like it might be the best approach since we need to traverse two seperate trees at the same time\n",
    "- I am sure there is a far more elegant solution that the one I am coming up with...\n",
    "- Hold tree one to be the source of truth.\n",
    "- Perform Preorder Traversal on tree 1, seeing if the path can be conciled through flips\n",
    "- If not, then we return False"
   ]
  },
  {
   "cell_type": "code",
   "execution_count": null,
   "metadata": {},
   "outputs": [],
   "source": [
    "\n",
    " # Definition for a binary tree node.\n",
    "# class TreeNode:\n",
    "#     def __init__(self, val=0, left=None, right=None):\n",
    "#         self.val = val\n",
    "#         self.left = left\n",
    "#         self.right = right\n",
    "class Solution:\n",
    "    def flipEquiv(self, root1: Optional[TreeNode], root2: Optional[TreeNode]) -> bool:\n",
    "        # perfor preorder traversal on root1\n",
    "        stack1, stack2 = [], []\n",
    "        cur1, cur2 = root1, root2\n",
    "        while cur1 or stack1:\n",
    "            # given a valid node\n",
    "\n",
    "            # check the nodes values to see if the root is the same.\n",
    "            # for instance if tree 1 starts with a 2 and tree 2 starts with a 3, they can never be flip equivalent\n",
    "            if cur1.val != cur2.val:\n",
    "                return False\n",
    "            # passed that check so now we look at the children\n",
    "            # check to first see if both roots have two children\n",
    "            if cur1.right and cur2.right and cur1.left and cur2.left:\n",
    "                # they both have two children\n",
    "                if cur1.right.val == cur2.right.val and cur1.left.val == cur2.left.val:\n",
    "                    # the trees are the same so far\n",
    "                    # perform normal preorder traversal\n",
    "                    stack1.append(cur1.right)\n",
    "                    stack1.append(cur1.left)\n",
    "                    stack2.append(cur2.right)\n",
    "                    stack2.append(cur2.left)\n",
    "                elif cur1.right.val == cur2.left.val and cur1.left.val == cur2.right.val:\n",
    "                    # the two nodes need to be flipped\n",
    "                    stack1.append(cur1.right)\n",
    "                    stack1.append(cur1.left)\n",
    "                    stack2.append(cur2.left)\n",
    "                    stack2.append(cur2.right)\n",
    "                else:\n",
    "                    return False       \n",
    "            elif (not cur1.left or not cur1.right) and (not cur1):\n",
    "                # this is fine and we can\n",
    "\n",
    "\n"
   ]
  },
  {
   "cell_type": "code",
   "execution_count": null,
   "metadata": {},
   "outputs": [],
   "source": [
    "# scrapping that idea because there is just too much code for it to be the optimal solution for a leetcode problem, especially a medium problem\n",
    "# there must be a way to write the solution in far fewer lines.\n",
    "class Solution:\n",
    "    def flipEquiv(self, root1: Optional[TreeNode], root2: Optional[TreeNode]) -> bool:\n",
    "        def dfs(root1,root2):\n",
    "            if not root1 and root2 or root1 and not root2:\n",
    "                return False\n",
    "            if not root2 and not root1:\n",
    "                return True\n",
    "            # we have two valid nodes\n",
    "            # 1st check to make sure the values are equal\n",
    "            if root1.val != root2.val:\n",
    "                return False\n",
    "            # we made it past this point therefore we have two valid nodes and those nodes are equivalent\n",
    "            # next we need to see if we need to flip the order of the preorder traversal\n",
    "            return (dfs(root1.left,root2.left) and dfs(root1.right,root2.right)) or (dfs(root1.left,root2.right) and dfs(root1.right,root2.left))\n",
    "        return dfs(root1,root2)"
   ]
  },
  {
   "cell_type": "markdown",
   "metadata": {},
   "source": [
    "Code review! I got it on my first real attempt at the problem, which is absolutely massive. I am so proud of the progress that I am making with trees in particular. Trees have been some of the most solid problems for me in terms of being able to figure out on my own. However, it is worth noting that trees were the first subject that I really started to try solving completely on my own, and only really using neetcode if I absolutely could not solve the problem. I am excited to keep pushing forward with my coding journey!"
   ]
  }
 ],
 "metadata": {
  "language_info": {
   "name": "python"
  },
  "orig_nbformat": 4
 },
 "nbformat": 4,
 "nbformat_minor": 2
}
