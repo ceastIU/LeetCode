{
 "cells": [
  {
   "cell_type": "markdown",
   "metadata": {},
   "source": [
    "96. Unique Binary Search Trees\n",
    "\n",
    "Medium\n",
    "\n",
    "Given an integer n, return the number of structurally unique BST's (binary search trees) which has exactly n nodes of unique values from 1 to n.\n",
    "\n",
    "I gave this problem a solid attempt, but it is beyond my current abilities to solve. It involves a bit of Dynamic Programming which I haven't made it to yet.\n",
    "\n",
    "Reviewing the solution to this problem, the optimal solution was entirely outside my current coding abilities. Althouhg I had the right idea, I was unable to find the answer."
   ]
  },
  {
   "cell_type": "code",
   "execution_count": null,
   "metadata": {},
   "outputs": [],
   "source": [
    "# Failed Solution:\n",
    "class Solution:\n",
    "    def numTrees(self, n: int) -> int:\n",
    "        def dfs(n):\n",
    "            if n == 0:\n",
    "                return 0\n",
    "            nums = [i for i in range(n)]\n",
    "            total = 0\n",
    "            for i in range(len(nums)):\n",
    "                val = i\n",
    "                left = nums[0:i]\n",
    "                right = nums[i+1:]\n",
    "                if len(left) == 0 and len(right) == 0:\n",
    "                    return 1\n",
    "                elif len(left) == 1 and len(right) == 1:\n",
    "                    return 1\n",
    "                elif len(left) == 0 and len(right) == 1:\n",
    "                    return 1\n",
    "                elif len(left) == 1 and len(right) == 0:\n",
    "                    return 1\n",
    "                elif len(left) == 2 and len(right) == 0:\n",
    "                    return 2\n",
    "                elif len(left) == 0 and len(right) == 2:\n",
    "                    return 2\n",
    "                else:\n",
    "                    total += dfs(len(left)) * dfs(len(right))\n",
    "            return total\n",
    "        return dfs(n)"
   ]
  },
  {
   "cell_type": "code",
   "execution_count": null,
   "metadata": {},
   "outputs": [],
   "source": [
    "# Correct Solution:\n",
    "class Solution:\n",
    "    def numTrees(self, n: int) -> int:\n",
    "        # numTrees[4] = numTrees[0] * numTrees[3] +\n",
    "        #               numTrees[1] * numTrees[2] +\n",
    "        #               numTrees[2] * numTrees[2] +\n",
    "        #               numTrees[3] * numTrees[1] +\n",
    "        #               numTrees[4] * numTrees[0]\n",
    "        \n",
    "        # this is our DP table, we set the values from 0 t0 n + 1 to 1\n",
    "        # 0 nodes = 1 tree \n",
    "        # 1 nodes = 1 tree\n",
    "        # these are our bases cases, the rest of the values will be updated as we go\n",
    "        numTrees = [1] * (n+1)\n",
    "        # we start at 2 because we already have 0 and 1, which are equal to 1\n",
    "        for nodes in range(2,n+1):\n",
    "            # initialize the total variable that stands for the current iteration of trees, \n",
    "            # as we work toward the number of trees we are looking for\n",
    "            total = 0\n",
    "            # iterate from 1 to the current node we are exploring above\n",
    "            for root in range(1,nodes + 1):\n",
    "                left = root - 1\n",
    "                right = nodes - root\n",
    "                total += numTrees[left] * numTrees[right]\n",
    "            # we are building our DP table as we go\n",
    "            numTrees[nodes] = total\n",
    "        return numTrees[n]"
   ]
  },
  {
   "cell_type": "code",
   "execution_count": null,
   "metadata": {},
   "outputs": [],
   "source": []
  }
 ],
 "metadata": {
  "language_info": {
   "name": "python"
  },
  "orig_nbformat": 4
 },
 "nbformat": 4,
 "nbformat_minor": 2
}
