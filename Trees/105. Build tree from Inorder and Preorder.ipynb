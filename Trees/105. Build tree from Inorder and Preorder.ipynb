{
 "cells": [
  {
   "cell_type": "markdown",
   "metadata": {},
   "source": [
    "105. Construct Binary Tree from Preorder and Inorder Traversal\n",
    "Medium\n",
    "\n",
    "Given two integer arrays preorder and inorder where preorder is the preorder traversal of a binary tree and inorder is the inorder traversal of the same tree, construct and return the binary tree.\n",
    "\n",
    "Input: preorder = [3,9,20,15,7], inorder = [9,3,15,20,7]\n",
    "Output: [3,9,20,null,null,15,7]\n",
    "\n",
    "From what I remember this problem is pretty simple. The preorder always gives the head of the a node subtree at index 0. Therefor we pop from the start of preorder and use that value to split the inorder into two sections left of root and right of root. Then recursively call the function until the tree is built."
   ]
  },
  {
   "cell_type": "code",
   "execution_count": null,
   "metadata": {},
   "outputs": [],
   "source": [
    "# Definition for a binary tree node.\n",
    "# class TreeNode:\n",
    "#     def __init__(self, val=0, left=None, right=None):\n",
    "#         self.val = val\n",
    "#         self.left = left\n",
    "#         self.right = right\n",
    "class Solution:\n",
    "    def buildTree(self, preorder: List[int], inorder: List[int]) -> Optional[TreeNode]:\n",
    "        # if the length of inorder that has been passed in is zero, we return None\n",
    "        if len(inorder) == 0:\n",
    "            return None\n",
    "        # grab the root value from the front of the list\n",
    "        val = preorder.pop(0)\n",
    "        # find the index of the value inside inorder\n",
    "        index = inorder.index(val)\n",
    "        # create the root node\n",
    "        cur = TreeNode(val)\n",
    "        # assign the left child to be a recursive call with the left half of the inorder list\n",
    "        cur.left = self.buildTree(preorder,inorder[0:index])\n",
    "        # assign the right child to be a recursive call with the right half of the inorder list\n",
    "        cur.right = self.buildTree(preorder,inorder[index+1:])\n",
    "        # return the newly constructed node\n",
    "        return cur\n",
    "    "
   ]
  }
 ],
 "metadata": {
  "language_info": {
   "name": "python"
  },
  "orig_nbformat": 4
 },
 "nbformat": 4,
 "nbformat_minor": 2
}
