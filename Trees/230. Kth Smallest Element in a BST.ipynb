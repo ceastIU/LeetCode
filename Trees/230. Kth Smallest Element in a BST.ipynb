{
 "cells": [
  {
   "cell_type": "markdown",
   "metadata": {},
   "source": [
    "230. Kth Smallest Element in a BST\n",
    "MEDIUM\n",
    "Given the root of a binary search tree, and an integer k, return the kth smallest value (1-indexed) of all the values of the nodes in the tree.\n",
    "------------------------------------\n",
    "Initial thoughts:\n",
    "could do a inorder traversal of the tree until there are k elements in the result and return that element. However, I need to figure out whether or not an Inoder traversal gives the correct order of elements in a BST. \n",
    "\n",
    "My initial thoughts were indeed correct, and I was able to get it on my first try. Although I do need to make sure I remember how to do inorder and post order traversals"
   ]
  },
  {
   "cell_type": "code",
   "execution_count": null,
   "metadata": {},
   "outputs": [],
   "source": [
    "class Solution:\n",
    "    def kthSmallest(self, root, k: int) -> int:\n",
    "        # perform an inorder traversal of the tree and once res == k we return the value.\n",
    "        # inorder requires a stack and a current\n",
    "        # here's a challenge to remember inorder traversals\n",
    "        stack, cur = [], root\n",
    "        # while either cur or stack\n",
    "        while stack or cur:\n",
    "            while cur:\n",
    "                stack.append(cur)\n",
    "                cur = cur.left\n",
    "            cur = stack.pop()\n",
    "            k -= 1\n",
    "            if k == 0:\n",
    "                return cur.val\n",
    "            # check the right side\n",
    "            cur = cur.right\n",
    "        return \"\""
   ]
  }
 ],
 "metadata": {
  "language_info": {
   "name": "python"
  },
  "orig_nbformat": 4
 },
 "nbformat": 4,
 "nbformat_minor": 2
}
