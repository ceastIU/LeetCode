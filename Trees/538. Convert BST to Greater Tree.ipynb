{
 "cells": [
  {
   "cell_type": "markdown",
   "metadata": {},
   "source": [
    "538. Convert BST to Greater Tree\n",
    "\n",
    "Medium\n",
    "\n",
    "Given the root of a Binary Search Tree (BST), convert it to a Greater Tree such that every key of the original BST is changed to the original key plus the sum of all keys greater than the original key in BST.\n",
    "\n",
    "As a reminder, a binary search tree is a tree that satisfies these constraints:\n",
    "\n",
    "The left subtree of a node contains only nodes with keys less than the node's key.\n",
    "The right subtree of a node contains only nodes with keys greater than the node's key.\n",
    "Both the left and right subtrees must also be binary search trees.\n",
    "\n",
    "---\n",
    "\n",
    "Observations:\n",
    "- it is a BST\n",
    "- the pattern seems to be a flipped inorder traversal\n",
    "1. Code a flipped inorder traversal\n",
    "2. Once the flipped inorder traversal is completed, think about how we pass those values.\n",
    "    note: This might be overcomplicating it, we have the right traversal, no we just need to keep track of the value\n",
    " "
   ]
  },
  {
   "cell_type": "code",
   "execution_count": null,
   "metadata": {},
   "outputs": [],
   "source": [
    "class Solution:\n",
    "    def convertBST(self, root: Optional[TreeNode]) -> Optional[TreeNode]:\n",
    "        stack, res = [],[]\n",
    "        cur = root\n",
    "        totals = []\n",
    "        total = 0\n",
    "        while stack or cur:\n",
    "            # go as far right as possible\n",
    "            while cur:\n",
    "                stack.append(cur)\n",
    "                cur = cur.right\n",
    "            # cur is no longer valid thus we pop\n",
    "            cur = stack.pop()\n",
    "            res.append(cur.val)\n",
    "            total += cur.val\n",
    "            totals.append(total)\n",
    "            # check left side\n",
    "            cur = cur.left\n",
    "        return res\n"
   ]
  },
  {
   "cell_type": "code",
   "execution_count": null,
   "metadata": {},
   "outputs": [],
   "source": [
    "# the recursive version of the code\n",
    "class Solution:\n",
    "    def convertBST(self, root: Optional[TreeNode]) -> Optional[TreeNode]:\n",
    "        res = []\n",
    "        totals = []\n",
    "        total = 0\n",
    "        def dfs(root):\n",
    "            if not root:\n",
    "                return None\n",
    "            dfs(root.right)\n",
    "            val = root.val\n",
    "            res.append(res)\n",
    "            total += val \n",
    "            totals.append(total)\n",
    "            dfs(root.left)\n",
    "        return res"
   ]
  },
  {
   "cell_type": "code",
   "execution_count": null,
   "metadata": {},
   "outputs": [],
   "source": [
    "# Correct solution\n",
    "class Solution:\n",
    "    def convertBST(self, root: Optional[TreeNode]) -> Optional[TreeNode]:\n",
    "        total = [0]\n",
    "        def dfs(root):\n",
    "            if not root:\n",
    "                return\n",
    "            dfs(root.right)\n",
    "            total[0] += root.val\n",
    "            root.val = total[0]\n",
    "            dfs(root.left)\n",
    "        \n",
    "        dfs(root)\n",
    "        return root "
   ]
  },
  {
   "cell_type": "markdown",
   "metadata": {},
   "source": [
    "The part where I got tripped up is thinking I had to rebuild the tree. When in actuallity, all I had to do was reassign the values of the nodes. Once I realized I no longer need to build the tree. The problem was far easier. I am proud of myself for realizing that it was a flipped inorder traversal, and my ability to achieve the desired outcome with calculating the values in the right order. Overall a great problem that took a little bit of time to solve!"
   ]
  }
 ],
 "metadata": {
  "language_info": {
   "name": "python"
  },
  "orig_nbformat": 4
 },
 "nbformat": 4,
 "nbformat_minor": 2
}
