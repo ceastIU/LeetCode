{
 "cells": [
  {
   "cell_type": "markdown",
   "metadata": {},
   "source": [
    "124. Binary Tree Maximum Path Sum\n",
    "\n",
    "Hard\n",
    "\n",
    "A path in a binary tree is a sequence of nodes where each pair of adjacent nodes in the sequence has an edge connecting them. A node can only appear in the sequence at most once. Note that the path does not need to pass through the root.\n",
    "\n",
    "The path sum of a path is the sum of the node's values in the path.\n",
    "\n",
    "Given the root of a binary tree, return the maximum path sum of any non-empty path.\n",
    "\n",
    "---\n",
    "\n",
    "- The key observation is this idea of \"splitting.\" Since the path can only go through a node once, we can not return to higher level parent nodes once a split has occured. \n",
    "- Once a node \"splits\" (to left and right subtrees), the path can never return to the parent. It must continue along that path. \n",
    "- So recursively, we determine to things:\n",
    "    1. What is the max value we achieve if we decide to split at that node? (node.val + left + right)\n",
    "    2. What is the max value we pass to the parent node that is NOT a product of splitting? (node.val + max(left,right)) \n",
    "- Base case is not root: return 0\n",
    "- Also going to cheat a bit with a global variable to make the problem easier"
   ]
  },
  {
   "cell_type": "code",
   "execution_count": null,
   "metadata": {},
   "outputs": [],
   "source": [
    "class Solution:\n",
    "    def maxPathSum(self, root: Optional[TreeNode]) -> int:\n",
    "        res =[root.val]\n",
    "        def dfs(root):\n",
    "            if not root:\n",
    "                return 0\n",
    "            # grab the left and right subtrees\n",
    "            left = dfs(root.left)\n",
    "            right = dfs(root.right)\n",
    "            # since there are negative values, we may decide to not choose the left and/or the right\n",
    "            # therefore we must validate the data to make sure no negative path values are passed to parent node\n",
    "            # we do this through determining the max of the subtree in comparison to the value 0. This simulates either\n",
    "            # choosing the subtree or not\n",
    "            left = max(left,0)\n",
    "            right = max(right, 0)\n",
    "            # next we determine the max value if we decide to in fact split at this current node, which means we do not pass this value \n",
    "            # to the parent. If we find a maximum value at this current split we update the global value\n",
    "            res[0] = max(res[0], root.val + left + right)\n",
    "            # however, since this is a recursive call, we do need something to pass to the parent. In this case it will be node + the max of\n",
    "            # its left and right subtrees\n",
    "            return root.val + max(left,right)\n",
    "        dfs(root)\n",
    "        return res[0]\n",
    "\n",
    "        \n",
    "        "
   ]
  }
 ],
 "metadata": {
  "language_info": {
   "name": "python"
  },
  "orig_nbformat": 4
 },
 "nbformat": 4,
 "nbformat_minor": 2
}
