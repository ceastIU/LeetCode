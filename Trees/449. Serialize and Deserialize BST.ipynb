{
 "cells": [
  {
   "cell_type": "markdown",
   "metadata": {},
   "source": [
    "449. Serialize and Deserialize BST\n",
    "\n",
    "Medium\n",
    "\n",
    "Serialization is converting a data structure or object into a sequence of bits so that it can be stored in a file or memory buffer, or transmitted across a network connection link to be reconstructed later in the same or another computer environment.\n",
    "\n",
    "Design an algorithm to serialize and deserialize a binary search tree. There is no restriction on how your serialization/deserialization algorithm should work. You need to ensure that a binary search tree can be serialized to a string, and this string can be deserialized to the original tree structure.\n",
    "\n",
    "The encoded string should be as compact as possible.\n",
    "\n",
    "---\n",
    "\n",
    "Observation:\n",
    "- The tree IS a BST (hence must take advantage of the unique properties of the tree) I.E. every value to the left of root must be less and every value to the right of root must be greater\n",
    "- So we use the property of BST and Preorder to:\n",
    "    1. Pop the first element as the node head\n",
    "    2. split the list into greater and smaller than\n",
    "    3. pass those chunks into a recursive function the does the same\n",
    "\n",
    " "
   ]
  },
  {
   "cell_type": "code",
   "execution_count": null,
   "metadata": {},
   "outputs": [],
   "source": [
    "class Codec:\n",
    "\n",
    "    def serialize(self, root: Optional[TreeNode]) -> str:\n",
    "        \"\"\"Encodes a tree to a single string.\n",
    "        \"\"\"\n",
    "        preorder = []\n",
    "        def dfs(root):\n",
    "            if not root:\n",
    "                return None\n",
    "            preorder.append(str(root.val))\n",
    "            dfs(root.left)\n",
    "            dfs(root.right)\n",
    "        dfs(root)\n",
    "        res = \",\".join(preorder)\n",
    "        print(res)\n",
    "        return res\n",
    "\n",
    "    def deserialize(self, data: str) -> Optional[TreeNode]:\n",
    "        \"\"\"Decodes your encoded data to tree.\n",
    "        \"\"\"\n",
    "        # passed in a string that needs to be broken up\n",
    "        preorder = data.split(\",\")\n",
    "        def dfs(preorder):\n",
    "            if len(preorder) == 0:\n",
    "                return None\n",
    "            root = TreeNode(int(preorder[0]))\n",
    "            if len(preorder) == 1:\n",
    "                return root\n",
    "            i = 1\n",
    "            while preorder[i] < preorder[0]:\n",
    "                i += 1\n",
    "            left = preorder[1:i]\n",
    "            right = preorder[i:]\n",
    "            root.left = dfs(left)\n",
    "            root.right = dfs(right)\n",
    "            return root\n",
    "        return dfs(preorder)"
   ]
  }
 ],
 "metadata": {
  "language_info": {
   "name": "python"
  },
  "orig_nbformat": 4
 },
 "nbformat": 4,
 "nbformat_minor": 2
}
