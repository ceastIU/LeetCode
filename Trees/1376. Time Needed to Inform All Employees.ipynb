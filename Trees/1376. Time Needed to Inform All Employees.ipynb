{
 "cells": [
  {
   "cell_type": "markdown",
   "metadata": {},
   "source": [
    "1376. Time Needed to Inform All Employees\n",
    "\n",
    "Medium\n",
    "\n",
    "A company has n employees with a unique ID for each employee from 0 to n - 1. The head of the company is the one with headID.\n",
    "\n",
    "Each employee has one direct manager given in the manager array where manager[i] is the direct manager of the i-th employee, manager[headID] = -1. Also, it is guaranteed that the subordination relationships have a tree structure.\n",
    "\n",
    "The head of the company wants to inform all the company employees of an urgent piece of news. He will inform his direct subordinates, and they will inform their subordinates, and so on until all employees know about the urgent news.\n",
    "\n",
    "The i-th employee needs informTime[i] minutes to inform all of his direct subordinates (i.e., After informTime[i] minutes, all his direct subordinates can start spreading the news).\n",
    "\n",
    "Return the number of minutes needed to inform all the employees about the urgent news.\n",
    "---\n"
   ]
  },
  {
   "cell_type": "code",
   "execution_count": null,
   "metadata": {},
   "outputs": [],
   "source": [
    "from collections import deque\n",
    "class Solution:\n",
    "    def numOfMinutes(self, n: int, headID: int, manager: List[int], informTime: List[int]) -> int:\n",
    "        manMap = collections.defaultdict(list)\n",
    "        for i in range(n):\n",
    "            manMap[manager[i]].append(i)\n",
    "        print(manMap)\n",
    "        time = 0\n",
    "        # perform bfs on the tree\n",
    "        q = deque([headID])\n",
    "        while q:\n",
    "            qLen = len(q)\n",
    "            maxTime = 0\n",
    "            for _ in range(qLen):\n",
    "                cur = q.popleft()\n",
    "                print(\"cur\",cur,informTime[cur])\n",
    "                maxTime = max(maxTime, informTime[cur])\n",
    "                for child in manMap[cur]:\n",
    "                    print(child, manMap[child])\n",
    "                    if len(manMap[child]) >= 1:\n",
    "                        q.append(child)\n",
    "            time += maxTime\n",
    "        return time\n",
    "# this sort of works, but has a lot of flaws that need fixed, definitely time to use recursion!"
   ]
  },
  {
   "cell_type": "code",
   "execution_count": null,
   "metadata": {},
   "outputs": [],
   "source": [
    "from collections import deque\n",
    "class Solution:\n",
    "    def numOfMinutes(self, n: int, headID: int, manager: List[int], informTime: List[int]) -> int:\n",
    "        manMap = collections.defaultdict(list)\n",
    "        for i in range(n):\n",
    "            manMap[manager[i]].append(i)\n",
    "        def dfs(node, time):\n",
    "            if len(manMap[node]) < 1:\n",
    "                return time\n",
    "            maxTime = 0\n",
    "            for child in manMap[node]:\n",
    "                maxTime = max(maxTime, dfs(child,time + informTime[node]))\n",
    "            return maxTime\n",
    "        return dfs(headID,0)"
   ]
  }
 ],
 "metadata": {
  "language_info": {
   "name": "python"
  },
  "orig_nbformat": 4
 },
 "nbformat": 4,
 "nbformat_minor": 2
}
