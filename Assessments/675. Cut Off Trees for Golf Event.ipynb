{
 "cells": [
  {
   "cell_type": "markdown",
   "metadata": {},
   "source": [
    "675. Cut Off Trees for Golf Event\n",
    "Hard\n",
    "1.2K\n",
    "657\n",
    "Companies\n",
    "You are asked to cut off all the trees in a forest for a golf event. The forest is represented as an m x n matrix. In this matrix:\n",
    "\n",
    "0 means the cell cannot be walked through.\n",
    "1 represents an empty cell that can be walked through.\n",
    "A number greater than 1 represents a tree in a cell that can be walked through, and this number is the tree's height.\n",
    "In one step, you can walk in any of the four directions: north, east, south, and west. If you are standing in a cell with a tree, you can choose whether to cut it off.\n",
    "\n",
    "You must cut off the trees in order from shortest to tallest. When you cut off a tree, the value at its cell becomes 1 (an empty cell).\n",
    "\n",
    "Starting from the point (0, 0), return the minimum steps you need to walk to cut off all the trees. If you cannot cut off all the trees, return -1.\n",
    "\n",
    "Note: The input is generated such that no two trees have the same height, and there is at least one tree needs to be cut off."
   ]
  },
  {
   "cell_type": "code",
   "execution_count": null,
   "metadata": {},
   "outputs": [],
   "source": [
    "import heapq\n",
    "class Solution:\n",
    "    def cutOffTree(self, forest: List[List[int]]) -> int:\n",
    "        rows, cols = len(forest), len(forest[0])\n",
    "        heap = []\n",
    "        order = []\n",
    "        for i in range(rows):\n",
    "            for j in range(cols):\n",
    "                if forest[i][j] != 0 and forest[i][j] != 1:\n",
    "                    heapq.heappush(heap, (forest[i][j],i,j))\n",
    "        def bfs(x,y,nX,nY):\n",
    "            q = collections.deque([(x,y,0)])\n",
    "            seen = {(x,y)}\n",
    "\n",
    "            while q:\n",
    "                x,y,steps = q.popleft()\n",
    "                if x == nX and y == nY:\n",
    "                    forest[x][y] = 1\n",
    "                    return steps \n",
    "                for dx, dy in [(-1,0),(1,0),(0,-1),(0,1)]:\n",
    "                    i, j = x + dx, y + dy\n",
    "                    if (0 <= i < rows and 0 <= j < cols) and (i,j) not in seen and forest[i][j] != 0:\n",
    "                        q.append([i,j,steps+1])\n",
    "                        seen.add((i,j))\n",
    "            return -1  \n",
    "                \n",
    "        x, y = 0, 0\n",
    "        steps = 0\n",
    "        while heap:\n",
    "            _, nX, nY = heapq.heappop(heap)\n",
    "\n",
    "            shortestPath = bfs(x,y,nX,nY)\n",
    "            if shortestPath == -1:\n",
    "                return -1\n",
    "            steps += shortestPath\n",
    "            x,y = nX,nY\n",
    "        return steps\n"
   ]
  },
  {
   "cell_type": "markdown",
   "metadata": {},
   "source": [
    "Adding some text so I can complete the daily commit!"
   ]
  }
 ],
 "metadata": {
  "language_info": {
   "name": "python"
  },
  "orig_nbformat": 4
 },
 "nbformat": 4,
 "nbformat_minor": 2
}
