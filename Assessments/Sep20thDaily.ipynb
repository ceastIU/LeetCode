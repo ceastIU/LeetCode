{
 "cells": [
  {
   "cell_type": "markdown",
   "metadata": {},
   "source": [
    "1658. Minimum Operations to Reduce X to Zero\n",
    "\n",
    "Medium\n",
    "\n",
    "You are given an integer array nums and an integer x. In one operation, you can either remove the leftmost or the rightmost element from the array nums and subtract its value from x. Note that this modifies the array for future operations.\n",
    "\n",
    "Return the minimum number of operations to reduce x to exactly 0 if it is possible, otherwise, return -1.\n",
    "\n",
    "--- \n",
    "I solved this problem using backtracking and dynamic programming, but both were far too slow. What I didn't realize is that this was a sliding window problem and a cool one at that. We are looking for the internal subarray that equals = sum(nums) - x. Overall, a super interesting problem with a really cool solution. I hope to see this problem again in the future!\n",
    "\n"
   ]
  },
  {
   "cell_type": "code",
   "execution_count": null,
   "metadata": {},
   "outputs": [],
   "source": [
    "class Solution:\n",
    "    def minOperations(self, nums: List[int], x: int) -> int:\n",
    "        target_sum = sum(nums) - x  # Calculate the target sum\n",
    "        \n",
    "        if target_sum < 0:\n",
    "            return -1  # If the target sum is negative, it's not possible\n",
    "        \n",
    "        left, current_sum, min_ops = 0, 0, float('inf')\n",
    "\n",
    "        for right in range(len(nums)):\n",
    "            current_sum += nums[right]\n",
    "\n",
    "            while current_sum > target_sum:\n",
    "                current_sum -= nums[left]\n",
    "                left += 1\n",
    "            if current_sum == target_sum:\n",
    "                min_ops = min(min_ops, (len(nums) - (right - left + 1)))\n",
    "        return min_ops if min_ops != float(\"inf\") else -1"
   ]
  },
  {
   "cell_type": "code",
   "execution_count": null,
   "metadata": {},
   "outputs": [],
   "source": [
    "# code that worked but is too slow!\n",
    "class Solution:\n",
    "    def minOperations(self, nums: List[int], x: int) -> int:\n",
    "        memo = {}\n",
    "        def dfs(l,r,val):\n",
    "            if val == 0:\n",
    "                return 0 \n",
    "            elif val < 0 or l > r:\n",
    "                return float(\"inf\")\n",
    "            if (l,r,val) in memo:\n",
    "                return memo[(l,r,val)]\n",
    "\n",
    "            leftOps = dfs(l + 1,r, val - nums[l]) \n",
    "            rightOps = dfs(l, r - 1, val - nums[r])\n",
    "            result = min(leftOps,rightOps) + 1\n",
    "\n",
    "            memo[(l,r,val)] = result\n",
    "\n",
    "            return result\n",
    "        ans = dfs(0,len(nums)-1,x)\n",
    "        return ans if ans != float(\"inf\") else -1"
   ]
  }
 ],
 "metadata": {
  "language_info": {
   "name": "python"
  },
  "orig_nbformat": 4
 },
 "nbformat": 4,
 "nbformat_minor": 2
}
