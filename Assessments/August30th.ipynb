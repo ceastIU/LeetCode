{
 "cells": [
  {
   "cell_type": "markdown",
   "metadata": {},
   "source": [
    "Given an integer array nums and an integer val, remove all occurrences of val in nums in-place. The order of the elements may be changed. Then return the number of elements in nums which are not equal to val.\n",
    "\n",
    "Consider the number of elements in nums which are not equal to val be k, to get accepted, you need to do the following things:\n",
    "\n",
    "Change the array nums such that the first k elements of nums contain the elements which are not equal to val. The remaining elements of nums are not important as well as the size of nums.\n",
    "Return k."
   ]
  },
  {
   "cell_type": "code",
   "execution_count": null,
   "metadata": {},
   "outputs": [],
   "source": [
    "class Solution:\n",
    "    def removeElement(self, nums: List[int], val: int) -> int:\n",
    "        pointer = 0\n",
    "        k = 0\n",
    "        for i in range(len(nums)):\n",
    "            num = nums[i]\n",
    "            if num != val:\n",
    "                nums[pointer] = num\n",
    "                k += 1\n",
    "                pointer += 1\n",
    "        return k"
   ]
  },
  {
   "cell_type": "markdown",
   "metadata": {},
   "source": [
    "Given an array of distinct integers candidates and a target integer target, return a list of all unique combinations of candidates where the chosen numbers sum to target. You may return the combinations in any order.\n",
    "\n",
    "The same number may be chosen from candidates an unlimited number of times. Two combinations are unique if the frequency of at least one of the chosen numbers is different.\n",
    "\n",
    "The test cases are generated such that the number of unique combinations that sum up to target is less than 150 combinations for the given input."
   ]
  },
  {
   "cell_type": "code",
   "execution_count": null,
   "metadata": {},
   "outputs": [],
   "source": [
    "class Solution:\n",
    "    def combinationSum(self, candidates: List[int], target: int) -> List[List[int]]:\n",
    "        solutions = []\n",
    "        def dfs(solution, target,index):\n",
    "            if target == 0:\n",
    "                solutions.append(solution)\n",
    "                return\n",
    "            for i in range(index,len(candidates)):\n",
    "                val = candidates[i]\n",
    "                if target - val >= 0:\n",
    "                    solution.append(val)\n",
    "                    dfs(solution,target-val,i)\n",
    "                    solution.pop()\n",
    "\n",
    "        dfs([],target,0)\n",
    "i        return solutions"
   ]
  },
  {
   "cell_type": "markdown",
   "metadata": {},
   "source": [
    "Absolutely killed this assessment, so happy with my performance. Both problems were things I could clearly remember how to solve and even the more difficult backtracking problem was so easy for me. I'm just overjoyed at my own progress!\n"
   ]
  }
 ],
 "metadata": {
  "language_info": {
   "name": "python"
  },
  "orig_nbformat": 4
 },
 "nbformat": 4,
 "nbformat_minor": 2
}
