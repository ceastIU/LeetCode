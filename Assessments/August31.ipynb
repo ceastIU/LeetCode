{
 "cells": [
  {
   "cell_type": "markdown",
   "metadata": {},
   "source": [
    "Given the root of a binary search tree and an integer k, return true if there exist two elements in the BST such that their sum is equal to k, or false otherwise."
   ]
  },
  {
   "cell_type": "code",
   "execution_count": null,
   "metadata": {},
   "outputs": [],
   "source": [
    "class Solution:\n",
    "    def targetExists(self, root, tar):\n",
    "        cur = root\n",
    "        while cur:\n",
    "            if cur.val == tar:\n",
    "                return True\n",
    "            elif cur.val > tar:\n",
    "                cur = cur.left\n",
    "            else:\n",
    "                cur = cur.right\n",
    "        return False\n",
    "    def findTarget(self, root: Optional[TreeNode], k: int) -> bool:\n",
    "        # preorder traversal\n",
    "        stack = []\n",
    "        cur = root\n",
    "        while cur or stack:\n",
    "            if cur:\n",
    "                pair = k - cur.val\n",
    "                print(pair)\n",
    "                if self.targetExists(pair):\n",
    "                    return True\n",
    "                stack.append(cur.right)\n",
    "                stack.append(cur.left)\n",
    "            cur = stack.pop()\n",
    "        return False"
   ]
  }
 ],
 "metadata": {
  "language_info": {
   "name": "python"
  },
  "orig_nbformat": 4
 },
 "nbformat": 4,
 "nbformat_minor": 2
}
