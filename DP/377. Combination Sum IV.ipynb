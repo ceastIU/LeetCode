{
 "cells": [
  {
   "cell_type": "markdown",
   "metadata": {},
   "source": [
    "377. Combination Sum IV\n",
    "\n",
    "Medium\n",
    "\n",
    "Given an array of distinct integers nums and a target integer target, return the number of possible combinations that add up to target.\n",
    "\n",
    "The test cases are generated so that the answer can fit in a 32-bit integer.\n",
    "\n",
    "--- \n",
    "\n",
    "Example 1:\n",
    "\n",
    "Input: nums = [1,2,3], target = 4\n",
    "Output: 7\n",
    "Explanation:\n",
    "The possible combination ways are:\n",
    "(1, 1, 1, 1)\n",
    "(1, 1, 2)\n",
    "(1, 2, 1)\n",
    "(1, 3)\n",
    "(2, 1, 1)\n",
    "(2, 2)\n",
    "(3, 1)\n",
    "Note that different sequences are counted as different combinations.\n",
    "\n",
    "--- \n",
    "We could do this like the coin change problem with a DP- top down approach\n"
   ]
  },
  {
   "cell_type": "code",
   "execution_count": null,
   "metadata": {},
   "outputs": [],
   "source": [
    "# here is the backtracking/recursive/memoized version\n",
    "class Solution:\n",
    "    def combinationSum4(self, nums: List[int], target: int) -> int:\n",
    "        nums.sort()\n",
    "        memo = {}\n",
    "        def dfs(target):\n",
    "            if target in memo:\n",
    "                return memo[target]\n",
    "            if target == 0:\n",
    "                return 1\n",
    "            if target < nums[0]:\n",
    "                return 0\n",
    "            count = 0\n",
    "            for i in nums:\n",
    "                if target - i < 0:\n",
    "                    break\n",
    "                count += dfs(target-i)\n",
    "            memo[target] = count\n",
    "            return count"
   ]
  },
  {
   "cell_type": "code",
   "execution_count": null,
   "metadata": {},
   "outputs": [],
   "source": [
    "class Solution:\n",
    "    def combinationSum4(self, nums: List[int], target: int) -> int:\n",
    "        dp = [0] * (target + 1)\n",
    "        dp[0] = 1\n",
    "        for i in range(1, target + 1):\n",
    "            ways = 0\n",
    "            for n in nums:\n",
    "                if i - n >= 0:\n",
    "                    ways += dp[i - n]\n",
    "            dp[i] = ways\n",
    "        return dp[target]"
   ]
  }
 ],
 "metadata": {
  "language_info": {
   "name": "python"
  },
  "orig_nbformat": 4
 },
 "nbformat": 4,
 "nbformat_minor": 2
}
