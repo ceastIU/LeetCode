{
 "cells": [
  {
   "cell_type": "markdown",
   "metadata": {},
   "source": [
    "300. Longest Increasing Subsequence\n",
    "\n",
    "Medium\n",
    "\n",
    "Given an integer array nums, return the length of the longest strictly increasing \n",
    "subsequence\n",
    "\n",
    "\n",
    "---\n",
    "\n",
    "Example 1:\n",
    "\n",
    "Input: nums = [10,9,2,5,3,7,101,18]\n",
    "Output: 4\n",
    "Explanation: The longest increasing subsequence is [2,3,7,101], therefore the length is 4.\n",
    "Example 2:\n",
    "\n",
    "Input: nums = [0,1,0,3,2,3]\n",
    "Output: 4\n",
    "Example 3:\n",
    "\n",
    "Input: nums = [7,7,7,7,7,7,7]\n",
    "Output: 1\n",
    "\n",
    "--- \n",
    "I'm thinking of using a dp table to keep track of the longest subsequence thus far\n"
   ]
  },
  {
   "cell_type": "code",
   "execution_count": null,
   "metadata": {},
   "outputs": [],
   "source": [
    "# Failed attempt\n",
    "class Solution:\n",
    "    def lengthOfLIS(self, nums: List[int]) -> int:\n",
    "        dp = [0] * (len(nums) +1)\n",
    "        prev = float(\"inf\")\n",
    "        cur = 0\n",
    "        for i in range(len(nums)-1,-1,-1):\n",
    "            val = nums[i]\n",
    "            if val < prev:\n",
    "                cur += 1\n",
    "            else:\n",
    "                cur = 1\n",
    "            prev = val\n",
    "            dp[i] = max(dp[i+1],cur)\n",
    "        print(dp)\n",
    "        return dp[0]"
   ]
  },
  {
   "cell_type": "markdown",
   "metadata": {},
   "source": [
    "I had a good idea, but couldn't fully see the solution, I was close though."
   ]
  },
  {
   "cell_type": "code",
   "execution_count": null,
   "metadata": {},
   "outputs": [],
   "source": [
    "# successful attempt\n",
    "class Solution:\n",
    "    def lengthOfLIS(self, nums: List[int]) -> int:\n",
    "        LIS = [0] * len(nums)\n",
    "        LIS[len(nums)-1] = 1\n",
    "        ans = 1\n",
    "        for i in range(len(nums)-2,-1,-1):\n",
    "            val = nums[i]\n",
    "            maxLen = 1\n",
    "            for j in range(i+1,len(nums)):\n",
    "                if val < nums[j]:\n",
    "                    maxLen = max(maxLen, 1 + LIS[j])\n",
    "            LIS[i] = maxLen\n",
    "            ans = max(ans,maxLen)\n",
    "        return ans"
   ]
  },
  {
   "cell_type": "code",
   "execution_count": null,
   "metadata": {},
   "outputs": [],
   "source": [
    "# neetcode paired down version\n",
    "class Solution:\n",
    "    def lengthOfLIS(self, nums: List[int]) -> int:\n",
    "        LIS = [1] * len(nums)\n",
    "        for i in range(len(nums)-1,-1,-1):\n",
    "            for j in range(i+1,len(nums)):\n",
    "                if nums[i] < nums[j]:\n",
    "                    LIS[i] = max(LIS[i], 1 + LIS[j])\n",
    "        return max(LIS)"
   ]
  }
 ],
 "metadata": {
  "language_info": {
   "name": "python"
  },
  "orig_nbformat": 4
 },
 "nbformat": 4,
 "nbformat_minor": 2
}
