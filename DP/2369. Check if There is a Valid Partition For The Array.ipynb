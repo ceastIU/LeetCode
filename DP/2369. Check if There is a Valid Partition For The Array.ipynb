{
 "cells": [
  {
   "cell_type": "markdown",
   "metadata": {},
   "source": [
    "2369. Check if There is a Valid Partition For The Array\n",
    "\n",
    "Medium\n",
    "\n",
    "You are given a 0-indexed integer array nums. You have to partition the array into one or more contiguous subarrays.\n",
    "\n",
    "We call a partition of the array valid if each of the obtained subarrays satisfies one of the following conditions:\n",
    "\n",
    "The subarray consists of exactly 2, equal elements. For example, the subarray [2,2] is good.\n",
    "The subarray consists of exactly 3, equal elements. For example, the subarray [4,4,4] is good.\n",
    "The subarray consists of exactly 3 consecutive increasing elements, that is, the difference between adjacent elements is 1. For example, the subarray [3,4,5] is good, but the subarray [1,3,5] is not.\n",
    "Return true if the array has at least one valid partition. Otherwise, return false."
   ]
  },
  {
   "cell_type": "code",
   "execution_count": null,
   "metadata": {},
   "outputs": [],
   "source": [
    "# memo option\n",
    "class Solution:\n",
    "    def validPartition(self, nums: List[int]) -> bool:\n",
    "        dp = {}\n",
    "        def dfs(i):\n",
    "            if i == len(nums):\n",
    "                return True\n",
    "            if i in dp:\n",
    "                return dp[i]\n",
    "\n",
    "            res = False\n",
    "            if i < len(nums) - 1 and nums[i] == nums[i+1]:\n",
    "                res = dfs(i+2)\n",
    "            if i < len(nums) - 2:\n",
    "                if (nums[i] == nums[i+1] == nums[i+2] or nums[i] + 1 == nums[i+1] == nums[i+2] - 1):\n",
    "                    res = res or dfs(i+3)\n",
    "            dp[i] = res\n",
    "            return res\n",
    "            \n",
    "        return dfs(0)"
   ]
  },
  {
   "cell_type": "code",
   "execution_count": null,
   "metadata": {},
   "outputs": [],
   "source": [
    "# dp bottom up\n",
    "class Solution:\n",
    "    def validPartition(self, nums: List[int]) -> bool:\n",
    "        n = len(nums)\n",
    "        dp = [False] * (n+1)\n",
    "        dp[0] = True\n",
    "\n",
    "        for i in range(n):\n",
    "            dpI = i + 1\n",
    "            if i > 0 and nums[i] == nums[i-1]:\n",
    "                dp[dpI]  |= dp[dpI - 2]\n",
    "            if i > 1 and nums[i-2] == nums[i-1] == nums[1]:\n",
    "                dp[dpI] |= dp[dpI - 3]\n",
    "            if i > 1 and nums[i-2] + 1 == nums[i-1] == nums[i] - 1:\n",
    "                dp[dpI] |= dp[dpI - 3]\n",
    "\n",
    "        return dp[n]            "
   ]
  }
 ],
 "metadata": {
  "language_info": {
   "name": "python"
  },
  "orig_nbformat": 4
 },
 "nbformat": 4,
 "nbformat_minor": 2
}
