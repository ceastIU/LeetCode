{
 "cells": [
  {
   "cell_type": "markdown",
   "metadata": {},
   "source": [
    "416. Partition Equal Subset Sum\n",
    "\n",
    "Medium\n",
    "\n",
    "Given an integer array nums, return true if you can partition the array into two subsets such that the sum of the elements in both subsets is equal or false otherwise.\n",
    "\n",
    "--- \n",
    "\n",
    "Example 1:\n",
    "\n",
    "Input: nums = [1,5,11,5]\n",
    "Output: true\n",
    "Explanation: The array can be partitioned as [1, 5, 5] and [11].\n",
    "Example 2:\n",
    "\n",
    "Input: nums = [1,2,3,5]\n",
    "Output: false\n",
    "Explanation: The array cannot be partitioned into equal sum subsets.\n",
    "\n",
    "---\n",
    "Key observations is that each subset needs to be sum(array) // 2\n"
   ]
  },
  {
   "cell_type": "code",
   "execution_count": null,
   "metadata": {},
   "outputs": [],
   "source": [
    "# back tracking\n",
    "class Solution:\n",
    "    def canPartition(self, nums: List[int]) -> bool:\n",
    "        if sum(nums) / 2 != sum(nums) // 2:\n",
    "            return False\n",
    "        temp = sum(nums) // 2\n",
    "        def dfs(remaining,left,right):\n",
    "            if len(remaining) == 0:\n",
    "                return True\n",
    "            val = remaining[0]\n",
    "            if left - val >= 0:\n",
    "                if dfs(remaining[1:],left - val, right):\n",
    "                    return True\n",
    "            if right - val >= 0:\n",
    "                if dfs(remaining[1:], left, right - val):\n",
    "                    return True\n",
    "            return False\n",
    "        return dfs(nums,temp,temp)"
   ]
  },
  {
   "cell_type": "markdown",
   "metadata": {},
   "source": [
    "As usual, I was able to solve the bactracking solution, but this isn't fast enough. I need a DP table in order to make this faster"
   ]
  },
  {
   "cell_type": "code",
   "execution_count": null,
   "metadata": {},
   "outputs": [],
   "source": [
    "# this did not work\n",
    "class Solution:\n",
    "    def canPartition(self, nums: List[int]) -> bool:\n",
    "        if sum(nums) / 2 != sum(nums) // 2:\n",
    "            return False\n",
    "        temp = sum(nums) // 2\n",
    "        dp = collections.defaultdict(list)\n",
    "        dp[len(nums)] = [temp,temp]\n",
    "        for i in range(len(nums) -1, -1, -1):\n",
    "            left, right = dp[i+1]\n",
    "            val = nums[i]\n",
    "            inserted = False\n",
    "            if left - val >= 0:\n",
    "                left = left - val\n",
    "                inserted = True\n",
    "            if right - val >= 0:\n",
    "                right = right - val\n",
    "                inserted = True\n",
    "            if not inserted:\n",
    "                return False\n",
    "        return min(dp[0]) == 0"
   ]
  },
  {
   "cell_type": "code",
   "execution_count": null,
   "metadata": {},
   "outputs": [],
   "source": [
    "class Solution:\n",
    "    def canPartition(self, nums: List[int]) -> bool:\n",
    "        if sum(nums) / 2 != sum(nums) // 2:\n",
    "            return False\n",
    "        target = sum(nums) // 2\n",
    "        dp = set()\n",
    "        dp.add(0)\n",
    "        for i in range(len(nums) - 1, -1, -1):\n",
    "            val = nums[i]\n",
    "            temp = dp.copy()\n",
    "            for n in temp:\n",
    "                dp.add(n + val)\n",
    "                if n + val == target:\n",
    "                    return True\n",
    "        return False\n"
   ]
  }
 ],
 "metadata": {
  "language_info": {
   "name": "python"
  },
  "orig_nbformat": 4
 },
 "nbformat": 4,
 "nbformat_minor": 2
}
