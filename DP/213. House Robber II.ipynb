{
 "cells": [
  {
   "cell_type": "markdown",
   "metadata": {},
   "source": [
    "213. House Robber II\n",
    "\n",
    "Medium\n",
    "\n",
    "You are a professional robber planning to rob houses along a street. Each house has a certain amount of money stashed. All houses at this place are arranged in a circle. That means the first house is the neighbor of the last one. Meanwhile, adjacent houses have a security system connected, and it will automatically contact the police if two adjacent houses were broken into on the same night.\n",
    "\n",
    "Given an integer array nums representing the amount of money of each house, return the maximum amount of money you can rob tonight without alerting the police."
   ]
  },
  {
   "cell_type": "code",
   "execution_count": null,
   "metadata": {},
   "outputs": [],
   "source": [
    "class Solution:\n",
    "    def rob(self, nums: List[int]) -> int:\n",
    "        def helper(nums):\n",
    "            rob1, rob2 = 0, 0\n",
    "            for n in nums:\n",
    "                temp = max(rob1 + n, rob2)\n",
    "                rob1 = rob2\n",
    "                rob2 = temp \n",
    "            return rob2\n",
    "        \n",
    "        return max(nums[0], helper(nums[:-1]), helper(nums[1:]))"
   ]
  }
 ],
 "metadata": {
  "language_info": {
   "name": "python"
  },
  "orig_nbformat": 4
 },
 "nbformat": 4,
 "nbformat_minor": 2
}
