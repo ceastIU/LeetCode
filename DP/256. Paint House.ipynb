{
 "cells": [
  {
   "cell_type": "markdown",
   "metadata": {},
   "source": [
    "256. Paint House\n",
    "\n",
    "Medium\n",
    "\n",
    "There is a row of n houses, where each house can be painted one of three colors: red, blue, or green. The cost of painting each house with a certain color is different. You have to paint all the houses such that no two adjacent houses have the same color.\n",
    "\n",
    "The cost of painting each house with a certain color is represented by an n x 3 cost matrix costs.\n",
    "\n",
    "For example, costs[0][0] is the cost of painting house 0 with the color red; costs[1][2] is the cost of painting house 1 with color green, and so on...\n",
    "Return the minimum cost to paint all houses.\n",
    "\n",
    "----\n",
    "\n",
    "Example 1:\n",
    "\n",
    "Input: costs = [[17,2,17],[16,16,5],[14,3,19]]\n",
    "Output: 10\n",
    "Explanation: Paint house 0 into blue, paint house 1 into green, paint house 2 into blue.\n",
    "Minimum cost: 2 + 5 + 3 = 10\n",
    "\n",
    "----"
   ]
  },
  {
   "cell_type": "code",
   "execution_count": null,
   "metadata": {},
   "outputs": [],
   "source": [
    "# recursive version with memo\n",
    "class Solution:\n",
    "    def minCost(self, costs: List[List[int]]) -> int:\n",
    "        memo = {}\n",
    "        n = len(costs)\n",
    "        def dfs(i, j):\n",
    "            if (i, j) in memo:\n",
    "                return memo[(i, j)]\n",
    "                \n",
    "            if i == n - 1:\n",
    "                return costs[i][j]\n",
    "            \n",
    "            minVal = float(\"inf\")\n",
    "            for x in range(3):\n",
    "                if x != j:\n",
    "                    minVal = min(minVal, dfs(i + 1, x))\n",
    "\n",
    "            memo[(i, j)] = costs[i][j] + minVal\n",
    "            return memo[(i,j)]\n",
    "\n",
    "        minVal = float('inf')\n",
    "        for i in range(3):\n",
    "            minVal = min(dfs(0,i), minVal)\n",
    "        return minVal\n",
    "    "
   ]
  },
  {
   "cell_type": "code",
   "execution_count": null,
   "metadata": {},
   "outputs": [],
   "source": [
    "# DP Version: bottom up!\n",
    "class Solution:\n",
    "    def minCost(self, costs: List[List[int]]) -> int:\n",
    "        dp = costs[-1]\n",
    "        for i in range(len(costs)-2,-1,-1):\n",
    "            row = costs[i]\n",
    "            newDP = [0] * 3\n",
    "            newDP[0] = row[0] + min(dp[1],dp[2])\n",
    "            newDP[1] = row[1] + min(dp[0],dp[2])\n",
    "            newDP[2] = row[2] + min(dp[0],dp[1])\n",
    "            dp = newDP\n",
    "        return min(dp)"
   ]
  }
 ],
 "metadata": {
  "language_info": {
   "name": "python"
  },
  "orig_nbformat": 4
 },
 "nbformat": 4,
 "nbformat_minor": 2
}
