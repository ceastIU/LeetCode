{
 "cells": [
  {
   "cell_type": "markdown",
   "metadata": {},
   "source": [
    "343. Integer Break\n",
    "\n",
    "Medium\n",
    "\n",
    "Given an integer n, break it into the sum of k positive integers, where k >= 2, and maximize the product of those integers.\n",
    "\n",
    "Return the maximum product you can get.\n",
    "\n",
    "--- \n",
    "\n",
    "Example 1:\n",
    "\n",
    "Input: n = 2\n",
    "Output: 1\n",
    "Explanation: 2 = 1 + 1, 1 × 1 = 1.\n",
    "Example 2:\n",
    "\n",
    "Input: n = 10\n",
    "Output: 36\n",
    "Explanation: 10 = 3 + 3 + 4, 3 × 3 × 4 = 36.\n",
    "\n",
    "--- \n",
    "This is a relatively straight forward dp problem, let's try using top - down"
   ]
  },
  {
   "cell_type": "code",
   "execution_count": null,
   "metadata": {},
   "outputs": [],
   "source": [
    "class Solution:\n",
    "    def integerBreak(self, n: int) -> int:\n",
    "        memo = {}\n",
    "        def dfs(n):\n",
    "            if n == 1:\n",
    "                return 1\n",
    "            if n in memo:\n",
    "                return memo[n]\n",
    "            val = 0\n",
    "            for i in range(1,n+1):\n",
    "                print(\"n\",n,i)\n",
    "                val = max(val, ((n-i) * i))\n",
    "            print(n,\"val\",val)\n",
    "            memo[n] = val\n",
    "            return val\n",
    "        ans = dfs(n)\n",
    "        print(memo)\n",
    "        return ans\n",
    "# this is my non-functional top-down, let's try bottom up"
   ]
  },
  {
   "cell_type": "code",
   "execution_count": null,
   "metadata": {},
   "outputs": [],
   "source": [
    "# Working bottom-up approach, let's try to fix top-down\n",
    "class Solution:\n",
    "    def integerBreak(self, n: int) -> int:\n",
    "        dp = [1] * (n + 1)\n",
    "        for i in range(n+1):\n",
    "            val = 0\n",
    "            for j in range(1,i):\n",
    "                temp = max(dp[i-j], i-j)\n",
    "                val = max(val, temp * j)\n",
    "            dp[i] = val\n",
    "        return dp[-1]\n",
    "\n",
    "\n"
   ]
  }
 ],
 "metadata": {
  "language_info": {
   "name": "python"
  },
  "orig_nbformat": 4
 },
 "nbformat": 4,
 "nbformat_minor": 2
}
