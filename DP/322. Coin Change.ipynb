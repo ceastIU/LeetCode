{
 "cells": [
  {
   "cell_type": "markdown",
   "metadata": {},
   "source": [
    "322. Coin Change\n",
    "\n",
    "Medium\n",
    "\n",
    "You are given an integer array coins representing coins of different denominations and an integer amount representing a total amount of money.\n",
    "\n",
    "Return the fewest number of coins that you need to make up that amount. If that amount of money cannot be made up by any combination of the coins, return -1.\n",
    "\n",
    "You may assume that you have an infinite number of each kind of coin."
   ]
  },
  {
   "cell_type": "code",
   "execution_count": null,
   "metadata": {},
   "outputs": [],
   "source": [
    "# failed attempt \n",
    "class Solution:\n",
    "    def coinChange(self, coins: List[int], amount: int) -> int:\n",
    "        dp = {}\n",
    "        ans = [0]\n",
    "        def dfs(n, count):\n",
    "            if n == 0:\n",
    "                ans[0] = min(ans[0], count)\n",
    "                return count\n",
    "            if n in dp:\n",
    "                return dp[n]\n",
    "            minC = float(\"inf\")\n",
    "            for c in coins:\n",
    "                if n - c >= 0:\n",
    "                    minC = min(minC , dfs(n-c, count + 1))\n",
    "            dp[n] = minC \n",
    "            return minC\n",
    "        return dfs(amount,0)"
   ]
  },
  {
   "cell_type": "code",
   "execution_count": null,
   "metadata": {},
   "outputs": [],
   "source": [
    "class Solution:\n",
    "    def coinChange(self, coins: List[int], amount: int) -> int:\n",
    "        dp = [amount + 1] * (amount + 1)\n",
    "        dp[0] = 0\n",
    "        for i in range(1,amount+1):\n",
    "            minC = dp[i]\n",
    "            for c in coins:\n",
    "                if i - c >= 0:\n",
    "                    minC = min(minC, 1 + dp[i-c])\n",
    "            dp[i] = minC\n",
    "        return dp[amount] if dp[amount] != amount + 1 else -1\n"
   ]
  },
  {
   "cell_type": "code",
   "execution_count": null,
   "metadata": {},
   "outputs": [],
   "source": [
    "class Solution:\n",
    "    def coinChange(self, coins: List[int], amount: int) -> int:\n",
    "        dp = [amount + 1] * (amount+1)\n",
    "        dp[0] = 0\n",
    "        for i in range(1,amount+1):\n",
    "            for c in coins:\n",
    "                if i - c >= 0:\n",
    "                    dp[i] = min(dp[i], 1 + dp[i-c])\n",
    "        \n",
    "        return dp[amount] if dp[amount] != amount + 1 else -1"
   ]
  },
  {
   "cell_type": "markdown",
   "metadata": {},
   "source": [
    "Came super close to understanding how this problem works, just need to make sure I am more careful in the future. \n"
   ]
  }
 ],
 "metadata": {
  "language_info": {
   "name": "python"
  },
  "orig_nbformat": 4
 },
 "nbformat": 4,
 "nbformat_minor": 2
}
