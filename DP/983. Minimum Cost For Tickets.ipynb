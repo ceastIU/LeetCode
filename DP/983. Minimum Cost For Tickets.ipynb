{
 "cells": [
  {
   "cell_type": "markdown",
   "metadata": {},
   "source": [
    "983. Minimum Cost For Tickets\n",
    "\n",
    "Medium\n",
    "\n",
    "You have planned some train traveling one year in advance. The days of the year in which you will travel are given as an integer array days. Each day is an integer from 1 to 365.\n",
    "\n",
    "Train tickets are sold in three different ways:\n",
    "\n",
    "a 1-day pass is sold for costs[0] dollars,\n",
    "a 7-day pass is sold for costs[1] dollars, and\n",
    "a 30-day pass is sold for costs[2] dollars.\n",
    "The passes allow that many days of consecutive travel.\n",
    "\n",
    "For example, if we get a 7-day pass on day 2, then we can travel for 7 days: 2, 3, 4, 5, 6, 7, and 8.\n",
    "Return the minimum number of dollars you need to travel every day in the given list of days.\n",
    "\n",
    "--- \n",
    "\n",
    "Example 1:\n",
    "\n",
    "Input: days = [1,4,6,7,8,20], costs = [2,7,15]\n",
    "Output: 11\n",
    "Explanation: For example, here is one way to buy passes that lets you travel your travel plan:\n",
    "On day 1, you bought a 1-day pass for costs[0] = $2, which covered day 1.\n",
    "On day 3, you bought a 7-day pass for costs[1] = $7, which covered days 3, 4, ..., 9.\n",
    "On day 20, you bought a 1-day pass for costs[0] = $2, which covered day 20.\n",
    "In total, you spent $11 and covered all the days of your travel."
   ]
  },
  {
   "cell_type": "code",
   "execution_count": null,
   "metadata": {},
   "outputs": [],
   "source": [
    "class Solution:\n",
    "    def mincostTickets(self, days: List[int], costs: List[int]) -> int:\n",
    "        dp = {}\n",
    "        def dfs(i):\n",
    "            if i == len(days):\n",
    "                return 0\n",
    "            if i in dp:\n",
    "                return dp[i]\n",
    "            \n",
    "            dp[i] = float(\"inf\")\n",
    "            for d, c in zip([1,7,30],costs):\n",
    "                j = i\n",
    "                while j < len(days) and days[j] < days[i] + d:\n",
    "                    j += 1\n",
    "                dp[i] = min(dp[i],c + dfs(j))\n",
    "            return dp[i]\n",
    "        return dfs(0)\n",
    "# definitely need to revisit this code"
   ]
  }
 ],
 "metadata": {
  "language_info": {
   "name": "python"
  },
  "orig_nbformat": 4
 },
 "nbformat": 4,
 "nbformat_minor": 2
}
