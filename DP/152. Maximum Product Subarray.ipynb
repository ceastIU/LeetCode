{
 "cells": [
  {
   "cell_type": "markdown",
   "metadata": {},
   "source": [
    "152. Maximum Product Subarray\n",
    "\n",
    "Medium\n",
    "\n",
    "Given an integer array nums, find a \n",
    "subarray\n",
    " that has the largest product, and return the product.\n",
    "\n",
    "The test cases are generated so that the answer will fit in a 32-bit integer.\n",
    "\n",
    " "
   ]
  },
  {
   "cell_type": "code",
   "execution_count": null,
   "metadata": {},
   "outputs": [],
   "source": [
    "class Solution:\n",
    "    def maxProduct(self, nums: List[int]) -> int:\n",
    "        res = max(nums)\n",
    "        curMin, curMax = 1, 1\n",
    "        for i in nums:\n",
    "            if i == 0:\n",
    "                curMin, curMax = 1, 1\n",
    "                continue \n",
    "            temp1 = curMin * i \n",
    "            temp2 = curMax * i\n",
    "            curMax = max(temp1,temp2,i) \n",
    "            curMin = min(temp1,temp2,i)\n",
    "            res = max(curMax, res)\n",
    "        return res"
   ]
  }
 ],
 "metadata": {
  "language_info": {
   "name": "python"
  },
  "orig_nbformat": 4
 },
 "nbformat": 4,
 "nbformat_minor": 2
}
