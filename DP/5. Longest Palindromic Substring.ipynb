{
 "cells": [
  {
   "cell_type": "markdown",
   "metadata": {},
   "source": [
    "5. Longest Palindromic Substring\n",
    "\n",
    "Medium\n",
    "\n",
    "Given a string s, return the longest palindromic substring in s.\n",
    "---\n",
    "The idea here is to expand out from the middle thus creating a n**2 solution"
   ]
  },
  {
   "cell_type": "code",
   "execution_count": null,
   "metadata": {},
   "outputs": [],
   "source": [
    "class Solution:\n",
    "    def longestPalindrome(self, s: str) -> str:\n",
    "        res = ''\n",
    "        length = 0\n",
    "        for i in range(len(s)):\n",
    "            l, r = i, i\n",
    "            while l >= 0 and r < len(s) and s[l] == s[r]:\n",
    "                if (r - l + 1) > length:\n",
    "                    res = s[l:r+1]\n",
    "                    length = (r - l + 1)\n",
    "                l -= 1\n",
    "                r += 1\n",
    "            \n",
    "            l,r = i, i + 1 \n",
    "            while l >= 0 and r < len(s) and s[l] == s[r]:\n",
    "                if (r - l + 1) > length:\n",
    "                    res = s[l:r+1]\n",
    "                    length = (r - l + 1)\n",
    "                l -= 1\n",
    "                r += 1 \n",
    "        return res\n"
   ]
  }
 ],
 "metadata": {
  "language_info": {
   "name": "python"
  },
  "orig_nbformat": 4
 },
 "nbformat": 4,
 "nbformat_minor": 2
}
