{
 "cells": [
  {
   "cell_type": "markdown",
   "metadata": {},
   "source": [
    "740. Delete and Earn\n",
    "\n",
    "Medium\n",
    "\n",
    "You are given an integer array nums. You want to maximize the number of points you get by performing the following operation any number of times:\n",
    "\n",
    "Pick any nums[i] and delete it to earn nums[i] points. Afterwards, you must delete every element equal to nums[i] - 1 and every element equal to nums[i] + 1.\n",
    "Return the maximum number of points you can earn by applying the above operation some number of times."
   ]
  },
  {
   "cell_type": "code",
   "execution_count": null,
   "metadata": {},
   "outputs": [],
   "source": [
    "# here is a working, but too slow approach\n",
    "class Solution:\n",
    "    def deleteAndEarn(self, nums: List[int]) -> int:\n",
    "        maxVal = [0]\n",
    "        nums.sort()\n",
    "        def delete(arr, val, index):\n",
    "            newArr = []\n",
    "            for i, v in enumerate(arr):\n",
    "                if i == index:\n",
    "                    pass\n",
    "                elif abs(v - val) != 1:\n",
    "                    newArr.append(v)\n",
    "            return newArr\n",
    "        \n",
    "        def back(arr, total):\n",
    "            if len(arr) == 0:\n",
    "                maxVal[0] = max(maxVal[0], total)\n",
    "            for i, v in enumerate(arr):\n",
    "                temp = total + v\n",
    "                newArray = delete(arr,v,i)\n",
    "                back(newArray,temp)\n",
    "        back(nums,0)\n",
    "        return maxVal[0]"
   ]
  },
  {
   "cell_type": "code",
   "execution_count": null,
   "metadata": {},
   "outputs": [],
   "source": [
    "# I need a new approach that is much faster\n",
    "class Solution:\n",
    "    def deleteAndEarn(self, nums: List[int]) -> int:\n",
    "        nums.sort()\n",
    "        dp = [[0,-1],[0,-1]]\n",
    "        for v in nums:\n",
    "            prev, cur = dp\n",
    "            if cur[1] == -1:\n",
    "                # not set yet\n",
    "                total = v\n",
    "                val = v\n",
    "                dp[1] = [val,total]\n",
    "            else:\n",
    "                # check if previous cur is within range\n",
    "                curV = cur[0]\n",
    "                curTotal = cur[1]\n",
    "                if v - curV == 1:\n",
    "                    # too close\n",
    "                    tempCurTotal = prev[1] + v\n",
    "                    tempCurVal = v\n",
    "                    dp[0] = [curV, curTotal]\n",
    "                    dp[1] = [tempCurVal, tempCurTotal]\n",
    "                else:\n",
    "                    curTotal += v\n",
    "                    curVal = v\n",
    "                    dp[1] = [curVal, curTotal]\n",
    "        return max(dp[0][1], dp[1][1])\n",
    "\n",
    "## This does not work! and I can't get it to work"
   ]
  },
  {
   "cell_type": "code",
   "execution_count": null,
   "metadata": {},
   "outputs": [],
   "source": []
  }
 ],
 "metadata": {
  "language_info": {
   "name": "python"
  }
 },
 "nbformat": 4,
 "nbformat_minor": 2
}
