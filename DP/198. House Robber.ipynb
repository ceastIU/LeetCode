{
 "cells": [
  {
   "cell_type": "markdown",
   "metadata": {},
   "source": [
    "198. House Robber\n",
    "\n",
    "Medium\n",
    "\n",
    "You are a professional robber planning to rob houses along a street. Each house has a certain amount of money stashed, the only constraint stopping you from robbing each of them is that adjacent houses have security systems connected and it will automatically contact the police if two adjacent houses were broken into on the same night.\n",
    "\n",
    "Given an integer array nums representing the amount of money of each house, return the maximum amount of money you can rob tonight without alerting the police."
   ]
  },
  {
   "cell_type": "code",
   "execution_count": null,
   "metadata": {},
   "outputs": [],
   "source": [
    "class Solution:\n",
    "    def rob(self, nums: List[int]) -> int:\n",
    "        rob1, rob2 = 0, 0 \n",
    "        \n",
    "        # [ rob1, rob2, n, n + 1, ...]\n",
    "        for n in nums:\n",
    "            temp = max(n + rob1,rob2)\n",
    "            rob1 = rob2\n",
    "            rob2 = temp\n",
    "            \n",
    "        return rob2"
   ]
  },
  {
   "cell_type": "code",
   "execution_count": null,
   "metadata": {},
   "outputs": [],
   "source": [
    "# Round 2\n"
   ]
  }
 ],
 "metadata": {
  "language_info": {
   "name": "python"
  },
  "orig_nbformat": 4
 },
 "nbformat": 4,
 "nbformat_minor": 2
}
