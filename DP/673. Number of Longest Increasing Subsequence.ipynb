{
 "cells": [
  {
   "cell_type": "markdown",
   "metadata": {},
   "source": [
    "673. Number of Longest Increasing Subsequence\n",
    "\n",
    "Medium\n",
    "\n",
    "Given an integer array nums, return the number of longest increasing subsequences.\n",
    "\n",
    "Notice that the sequence has to be strictly increasing."
   ]
  },
  {
   "cell_type": "code",
   "execution_count": null,
   "metadata": {},
   "outputs": [],
   "source": [
    "# failed attempt, this just finds the longest increasing subsequence\n",
    "class Solution:\n",
    "    def findNumberOfLIS(self, nums: List[int]) -> int:\n",
    "        n = len(nums)\n",
    "        dp = [1] * n\n",
    "        for i in range(n):\n",
    "            val = 1\n",
    "            for j in range(i-1,-1,-1):\n",
    "                if nums[j] < nums[i]:\n",
    "                    val += dp[j]\n",
    "                    break\n",
    "            dp[i] = val\n",
    "        return max(dp)"
   ]
  },
  {
   "cell_type": "code",
   "execution_count": null,
   "metadata": {},
   "outputs": [],
   "source": [
    "# let's probably try this!\n",
    "class Solution:\n",
    "    def findNumberOfLIS(self, nums: List[int]) -> int:\n",
    "        n = len(nums)\n",
    "        dp = [[1,1] for _ in range(n)]\n",
    "        for i in range(n-1,-1,-1):\n",
    "            lis = 1\n",
    "            count = 1\n",
    "            for j in range(i,n):\n",
    "                if nums[j] > nums[i]:\n",
    "                    if dp[j][0] > lis:\n",
    "                        lis = dp[j][0]\n",
    "                        count = 1\n",
    "                    elif dp[j][0] == lis:\n",
    "                        count += 1\n",
    "            dp[i] = [lis+1,count]\n",
    "        return dp[0]"
   ]
  }
 ],
 "metadata": {
  "language_info": {
   "name": "python"
  },
  "orig_nbformat": 4
 },
 "nbformat": 4,
 "nbformat_minor": 2
}
