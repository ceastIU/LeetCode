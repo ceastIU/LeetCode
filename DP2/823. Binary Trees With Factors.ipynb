{
 "cells": [
  {
   "cell_type": "markdown",
   "metadata": {},
   "source": [
    "823. Binary Trees With Factors\n",
    "\n",
    "Medium\n",
    "\n",
    "Given an array of unique integers, arr, where each integer arr[i] is strictly greater than 1.\n",
    "\n",
    "We make a binary tree using these integers, and each number may be used for any number of times. Each non-leaf node's value should be equal to the product of the values of its children.\n",
    "\n",
    "Return the number of binary trees we can make. The answer may be too large so return the answer modulo"
   ]
  },
  {
   "cell_type": "code",
   "execution_count": null,
   "metadata": {},
   "outputs": [],
   "source": [
    "# here is my failed attempt, thinking about it in all the wrong ways\n",
    "class TreeNode:\n",
    "    def __init__(self,val,left=None,right=None):\n",
    "        self.val = val\n",
    "        self.left = left\n",
    "        self.right = right\n",
    "\n",
    "class Solution:\n",
    "    def numFactoredBinaryTrees(self, arr: List[int]) -> int:\n",
    "        arr.sort()\n",
    "        trees = collections.defaultdict(list)\n",
    "        memo = {}\n",
    "        ans = [0]\n",
    "        def buildTree(i):\n",
    "            root = TreeNode(i)\n",
    "            ans[0] += 1\n",
    "            for j in range(2,i):\n",
    "                temp = i / j\n",
    "                if j in arr and temp in arr:\n",
    "                    print(i,temp,j)\n",
    "                    if j == temp:\n",
    "                        root.left = j\n",
    "                        root.right = j\n",
    "                        trees[i].append(root)\n",
    "                        ans[0] += 1\n",
    "                    else:\n",
    "                        root.left = j\n",
    "                        root.right = temp\n",
    "                        trees[i].append(root)\n",
    "                        ans[0] += 1\n",
    "                    if j in trees:\n",
    "                        ans[0] += len(trees[j])\n",
    "                    if temp in trees:\n",
    "                        ans[0] += len(trees[temp])\n",
    "        for i in arr:\n",
    "            buildTree(i)\n",
    "        return ans[0]"
   ]
  },
  {
   "cell_type": "code",
   "execution_count": null,
   "metadata": {},
   "outputs": [],
   "source": [
    "class TreeNode:\n",
    "    def __init__(self,val,left=None,right=None):\n",
    "        self.val = val\n",
    "        self.left = left\n",
    "        self.right = right\n",
    "\n",
    "class Solution:\n",
    "    def numFactoredBinaryTrees(self, arr: List[int]) -> int:\n",
    "        arr.sort()\n",
    "        memo = {}\n",
    "\n",
    "        def buildTree(i):\n",
    "            if i in memo:\n",
    "                return memo[i]\n",
    "            ways = 1\n",
    "\n",
    "            for j in range(2, i):\n",
    "                temp = i / j\n",
    "                if j in arr and temp in arr:\n",
    "                    left = buildTree(j)\n",
    "                    right = buildTree(temp)\n",
    "                    ways += left * right\n",
    "\n",
    "            memo[i] = ways\n",
    "            return ways\n",
    "\n",
    "        ans = 0\n",
    "        for i in arr:\n",
    "            ans += buildTree(i)\n",
    "\n",
    "        return ans\n",
    "# this is a valid answer for the problem but is far too slow to be effective\n",
    "# I need a bottom up dynamic programming solution\n",
    "# So I already have the recurance relation, no I just need to implement that in a bottom up manner\n"
   ]
  },
  {
   "cell_type": "code",
   "execution_count": null,
   "metadata": {},
   "outputs": [],
   "source": [
    "# bottom up approach\n",
    "class Solution:\n",
    "    def numFactoredBinaryTrees(self, arr: List[int]) -> int:\n",
    "        arr.sort()\n",
    "        n = len(arr)\n",
    "        dp = [1] * n\n",
    "        numIndex = {num: i for i, num in enumerate(arr)}\n",
    "        \n",
    "        for i in range(n):\n",
    "            for j in range(i):\n",
    "                if arr[i] % arr[j] == 0:  # Check if arr[j] is a factor of arr[i]\n",
    "                    other_factor = arr[i] // arr[j]\n",
    "                    if other_factor in numIndex:\n",
    "                        dp[i] += (dp[j] * dp[numIndex[other_factor]])\n",
    "\n",
    "        return sum(dp) % (10**9 + 7)"
   ]
  },
  {
   "cell_type": "markdown",
   "metadata": {},
   "source": [
    "This is definitely a problem that I needed a lot of help with, and also is a reminder that DP problems often require the bottom up approach to be the most time efficent, and this sucks because bottom-up is by far the approach I am the weakest at. Which is a powerful reminder I need to be putting in the work to figure these things out. "
   ]
  }
 ],
 "metadata": {
  "language_info": {
   "name": "python"
  },
  "orig_nbformat": 4
 },
 "nbformat": 4,
 "nbformat_minor": 2
}
