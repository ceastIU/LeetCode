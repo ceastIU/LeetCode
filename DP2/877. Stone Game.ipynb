{
 "cells": [
  {
   "cell_type": "markdown",
   "metadata": {},
   "source": [
    "877. Stone Game\n",
    "\n",
    "Medium\n",
    "\n",
    "Alice and Bob play a game with piles of stones. There are an even number of piles arranged in a row, and each pile has a positive integer number of stones piles[i].\n",
    "\n",
    "The objective of the game is to end with the most stones. The total number of stones across all the piles is odd, so there are no ties.\n",
    "\n",
    "Alice and Bob take turns, with Alice starting first. Each turn, a player takes the entire pile of stones either from the beginning or from the end of the row. This continues until there are no more piles left, at which point the person with the most stones wins.\n",
    "\n",
    "Assuming Alice and Bob play optimally, return true if Alice wins the game, or false if Bob wins.\n",
    "\n",
    "--- \n",
    "\n",
    "Example 1:\n",
    "\n",
    "Input: piles = [5,3,4,5]\n",
    "Output: true\n",
    "Explanation: \n",
    "Alice starts first, and can only take the first 5 or the last 5.\n",
    "Say she takes the first 5, so that the row becomes [3, 4, 5].\n",
    "If Bob takes 3, then the board is [4, 5], and Alice takes 5 to win with 10 points.\n",
    "If Bob takes the last 5, then the board is [3, 4], and Alice takes 4 to win with 9 points.\n",
    "This demonstrated that taking the first 5 was a winning move for Alice, so we return true.\n",
    "\n",
    "---\n",
    "let's code the backtracking solution and go from there"
   ]
  },
  {
   "cell_type": "code",
   "execution_count": null,
   "metadata": {},
   "outputs": [],
   "source": [
    "class Solution:\n",
    "    def stoneGame(self, piles: List[int]) -> bool:\n",
    "        # code up the backtracking solution first\n",
    "        memo = {}\n",
    "        def backtrack(l,r,a,b):\n",
    "            if (l,r,a,b) in memo:\n",
    "                return memo[(l,r,a,b)]\n",
    "            if l > r:\n",
    "                return a > b\n",
    "            # two options\n",
    "            flag = False\n",
    "            if (r-l) % 2 == 0:\n",
    "                flag = backtrack(l, r - 1, a + piles[r], b) or flag\n",
    "                flag = backtrack(l + 1, r, a + piles[l], b) or flag\n",
    "            else:\n",
    "                flag = backtrack(l, r - 1, a, b + piles[r]) or flag\n",
    "                flag = backtrack(l + 1, r, a, b + piles[l]) or flag\n",
    "            memo[(l,r,a,b)] = flag\n",
    "            return memo[(l,r,a,b)]\n",
    "        return backtrack(0,len(piles)-1,0,0)"
   ]
  },
  {
   "cell_type": "markdown",
   "metadata": {},
   "source": [
    "I can solve the backtracking method, but unsure how I would solve this from a DP perspective. This above is far too slow to solve the problem. We need to understand the proper DP solution!"
   ]
  },
  {
   "cell_type": "code",
   "execution_count": null,
   "metadata": {},
   "outputs": [],
   "source": [
    "# proper memoized solution\n",
    "class Solution:\n",
    "    def stoneGame(self, piles: List[int]) -> bool:\n",
    "        # code up the backtracking solution first\n",
    "        memo = {}\n",
    "        def backtrack(l,r):\n",
    "            if (l,r) in memo:\n",
    "                return memo[(l,r)]\n",
    "            if l > r:\n",
    "                return 0\n",
    "            # two options\n",
    "            if (r-l) % 2 == 0:\n",
    "                val = max(piles[r] + backtrack(l, r - 1), piles[l] + backtrack(l + 1, r))\n",
    "            else:\n",
    "                val = max(-piles[r] + backtrack(l, r - 1), -piles[l] + backtrack(l + 1, r))\n",
    "            memo[(l,r)] = val\n",
    "            return memo[(l,r)]\n",
    "        return backtrack(0,len(piles)-1) > 0"
   ]
  }
 ],
 "metadata": {
  "language_info": {
   "name": "python"
  },
  "orig_nbformat": 4
 },
 "nbformat": 4,
 "nbformat_minor": 2
}
