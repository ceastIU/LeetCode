{
 "cells": [
  {
   "cell_type": "markdown",
   "metadata": {},
   "source": [
    "276. Paint Fence\n",
    "\n",
    "Medium\n",
    "\n",
    "You are painting a fence of n posts with k different colors. You must paint the posts following these rules:\n",
    "\n",
    "Every post must be painted exactly one color.\n",
    "There cannot be three or more consecutive posts with the same color.\n",
    "Given the two integers n and k, return the number of ways you can paint the fence.\n",
    "---\n",
    "I was able to solve the problem, but not in a way that would pass the tester, below is that code\n",
    "I was unable to fully solve the problem because I don't fully understand the simplified recurrance relationship needed to solve the problem\n",
    "Which is the base caes:\n",
    "1 = k\n",
    "2 = k*k\n",
    "Then the recurrance relationship of (k-1) * (dfs[i-1] + dfs[i-2])"
   ]
  },
  {
   "cell_type": "code",
   "execution_count": null,
   "metadata": {},
   "outputs": [],
   "source": [
    "# this is the code that works, but ultimately fails in the tester due to time contraints. I think this solution would most likely pass a coding interview, but it is best \n",
    "# to learn the proper way to solve this problem\n",
    "class Solution:\n",
    "    def numWays(self, n: int, k: int) -> int:\n",
    "        ans = [0]\n",
    "        def dfs(i,twoBack,oneBack):\n",
    "            if i == n:\n",
    "                ans[0] += 1\n",
    "                return\n",
    "            for j in range(k):\n",
    "                if oneBack == twoBack == j:\n",
    "                    continue\n",
    "                dfs(i+1,oneBack,j)\n",
    "            return\n",
    "        dfs(0,None,None)\n",
    "        return ans[0]"
   ]
  },
  {
   "cell_type": "markdown",
   "metadata": {},
   "source": [
    "Understanding the recurrance relationship. The problem I had here is thinking about this problem in terms of backtracking rather than DP. I need to understand the number of ways things will change from the i-th post to the i-th + 1 post. \n",
    "\n",
    "Once again the base cases are:\n",
    "if i equals 1 there are k ways to paint the post. This makes sense.\n",
    "if i equals 2 there are k * k ways to paint the fence. This also makes sense. This is merely a nested for loop of the colors. \n",
    "However, once we reach i-th post.\n",
    "there are (k-1) ways times the number of ways to paint the last post ith - 1 post. But there is also (k-1) ways to paint the ith-2 posts. Thuse resulting in\n",
    "(k-1) * (numWays(i-1) + numWays(i-2))\n",
    "\n",
    "One of the other things to consider is that this approach is working from the top down in the sense starting from the end and working it's way to the base cases. Where I coded a bottom-up approach using recursion."
   ]
  },
  {
   "cell_type": "code",
   "execution_count": null,
   "metadata": {},
   "outputs": [],
   "source": [
    "# here is the corrected code with the \n",
    "class Solution:\n",
    "    def numWays(self, n: int, k: int) -> int:\n",
    "        memo = {}\n",
    "        def dfs(i):\n",
    "            if i in memo:\n",
    "                return memo[i]\n",
    "            if i == 1:\n",
    "                return k\n",
    "            elif i == 2:\n",
    "                return k * k\n",
    "            else:\n",
    "                memo[i] = (k-1) * (dfs(i-1) + dfs(i-2))\n",
    "            return memo[i]\n",
    "        return dfs(n)"
   ]
  },
  {
   "cell_type": "code",
   "execution_count": null,
   "metadata": {},
   "outputs": [],
   "source": [
    "# let's try the bottom-up approach using a dynamic programming array. In this case it will be one-dimensional\n",
    "class Solution:\n",
    "    def numWays(self, n: int, k: int) -> int:\n",
    "        dp = [0] * (n)\n",
    "        if n == 1:\n",
    "            return k\n",
    "        dp[0] = k\n",
    "        dp[1] = k * k\n",
    "        for i in range(2,n):\n",
    "            dp[i] = (k-1) * (dp[i-1] + dp[i-2])\n",
    "        return dp[-1]\n",
    "# I am always confused when I am supposed to do times n or n + 1 with dp problems "
   ]
  },
  {
   "cell_type": "markdown",
   "metadata": {},
   "source": [
    "The overall lesson here is the importance of figuring out the recurrance relationship!"
   ]
  }
 ],
 "metadata": {
  "language_info": {
   "name": "python"
  },
  "orig_nbformat": 4
 },
 "nbformat": 4,
 "nbformat_minor": 2
}
