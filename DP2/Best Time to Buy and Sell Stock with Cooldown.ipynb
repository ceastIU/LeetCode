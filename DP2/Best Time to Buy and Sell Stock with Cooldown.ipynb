{
 "cells": [
  {
   "cell_type": "markdown",
   "metadata": {},
   "source": [
    "Best Time to Buy and Sell Stock with Cooldown\n",
    "\n",
    "You are given an array prices where prices[i] is the price of a given stock on the ith day.\n",
    "\n",
    "Find the maximum profit you can achieve. You may complete as many transactions as you like (i.e., buy one and sell one share of the stock multiple times) with the following restrictions:\n",
    "\n",
    "After you sell your stock, you cannot buy stock on the next day (i.e., cooldown one day).\n",
    "Note: You may not engage in multiple transactions simultaneously (i.e., you must sell the stock before you buy again).\n",
    "\n",
    "--- \n",
    "\n",
    "Example 1:\n",
    "\n",
    "Input: prices = [1,2,3,0,2]\n",
    "Output: 3\n",
    "Explanation: transactions = [buy, sell, cooldown, buy, sell]\n",
    "\n",
    "---\n",
    "I was able to solve this completely on my own with knowledge of past problems. Super proud of my growth with these dp problems!"
   ]
  },
  {
   "cell_type": "code",
   "execution_count": null,
   "metadata": {},
   "outputs": [],
   "source": [
    "class Solution:\n",
    "    def maxProfit(self, prices: List[int]) -> int:\n",
    "        memo = {}\n",
    "        def dfs(i,holding,cooldown):\n",
    "            if (i,holding,cooldown) in memo:\n",
    "                return memo[(i,holding,cooldown)]\n",
    "            if i == len(prices) - 1:\n",
    "                if holding:\n",
    "                    return prices[i]\n",
    "                else:\n",
    "                    return 0\n",
    "            price = 0\n",
    "            if cooldown:\n",
    "                price = dfs(i+1,False,False)\n",
    "            else:\n",
    "                if holding:\n",
    "                    # sell \n",
    "                    price = prices[i] + dfs(i+1,False,True)\n",
    "                    # or hold on\n",
    "                    temp = dfs(i+1,True, False)\n",
    "                    price = max(price,temp)\n",
    "                else:\n",
    "                    # buy a stock\n",
    "                    temp1 = -prices[i] + dfs(i+1,True, False)\n",
    "                    # or do nothing\n",
    "                    temp2 = dfs(i+1, False, False)\n",
    "                    price = max(temp1,temp2)\n",
    "            memo[(i,holding,cooldown)] = price\n",
    "            return price\n",
    "        return dfs(0,False,False)"
   ]
  }
 ],
 "metadata": {
  "language_info": {
   "name": "python"
  },
  "orig_nbformat": 4
 },
 "nbformat": 4,
 "nbformat_minor": 2
}
