{
 "cells": [
  {
   "cell_type": "markdown",
   "metadata": {},
   "source": [
    "1269. Number of Ways to Stay in the Same Place After Some Steps\n",
    "\n",
    "Hard\n",
    "\n",
    "You have a pointer at index 0 in an array of size arrLen. At each step, you can move 1 position to the left, 1 position to the right in the array, or stay in the same place (The pointer should not be placed outside the array at any time).\n",
    "\n",
    "Given two integers steps and arrLen, return the number of ways such that your pointer is still at index 0 after exactly steps steps. Since the answer may be too large, return it modulo 109 + 7.\n",
    "\n",
    "--- \n",
    "\n",
    "Example 1:\n",
    "\n",
    "Input: steps = 3, arrLen = 2\n",
    "Output: 4\n",
    "Explanation: There are 4 differents ways to stay at index 0 after 3 steps.\n",
    "Right, Left, Stay\n",
    "Stay, Right, Left\n",
    "Right, Stay, Left\n",
    "Stay, Stay, Stay\n",
    "\n",
    "--- \n",
    "let's try this in a standard backtracking pattern, then add some memoization, then learn how to do it from the bottom up"
   ]
  },
  {
   "cell_type": "code",
   "execution_count": null,
   "metadata": {},
   "outputs": [],
   "source": [
    "class Solution:\n",
    "    def numWays(self, steps: int, arrLen: int) -> int:\n",
    "        memo = {}\n",
    "        def dfs(steps, index):\n",
    "            if index < 0 or index == arrLen:\n",
    "                return 0\n",
    "            if (steps,index) in memo:\n",
    "                return memo[(steps,index)]\n",
    "            if steps == 0:\n",
    "                if index == 0:\n",
    "                    return 1\n",
    "                else:\n",
    "                    return 0\n",
    "            # three options\n",
    "            ways = 0\n",
    "            for i in [0,1,-1]:\n",
    "                ways += dfs(steps-1,index + i)\n",
    "            memo[(steps,index)] = ways\n",
    "            return memo[(steps,index)]\n",
    "        return dfs(steps,0) % (10**9+7)\n",
    "    \n",
    "# LFG, I was able to solve a hard dp problem with little issue besides forgetting to mod. This is a super exciting development for me!"
   ]
  },
  {
   "cell_type": "code",
   "execution_count": null,
   "metadata": {},
   "outputs": [],
   "source": [
    "# bottom up apprach, needed a lot of help with this one. I need to do more work with studying recurances\n",
    "class Solution:\n",
    "    def numWays(self, steps: int, arrLen: int) -> int:\n",
    "        MOD = 10 ** 9 + 7\n",
    "        arrLen = min(arrLen, steps)\n",
    "        dp = [[0] * (steps + 1) for _ in range(arrLen)]\n",
    "        dp[0][0] = 1\n",
    "        for remain in range(1,steps+1):\n",
    "            for cur in range(arrLen - 1,-1,-1):\n",
    "                # do nothing\n",
    "                ans = dp[cur][remain - 1]\n",
    "\n",
    "                # if able take left steps\n",
    "                if cur > 0:\n",
    "                    ans = (ans + dp[cur - 1][remain - 1]) % MOD\n",
    "                # if able take right step\n",
    "                if cur < arrLen - 1:\n",
    "                    ans = (ans + dp[cur + 1][remain - 1]) % MOD\n",
    "                dp[cur][remain] = ans\n",
    "        return dp[0][steps]"
   ]
  },
  {
   "cell_type": "code",
   "execution_count": null,
   "metadata": {},
   "outputs": [],
   "source": [
    " # let's space optimize this code since we are only ever everying to a previous row\n",
    "# bottom up apprach, needed a lot of help with this one. I need to do more work with studying recurances\n",
    "class Solution:\n",
    "    def numWays(self, steps: int, arrLen: int) -> int:\n",
    "        MOD = 10 ** 9 + 7\n",
    "        arrLen = min(arrLen, steps)\n",
    "        dpOld = [0] * arrLen\n",
    "        dpOld[0] = 1\n",
    "        for remain in range(1,steps+1):\n",
    "            dpNew = [0] * arrLen\n",
    "            for cur in range(arrLen - 1,-1,-1):\n",
    "                # do nothing\n",
    "                ans = dpOld[cur]\n",
    "                # if able take left steps\n",
    "                if cur > 0:\n",
    "                    ans = (ans + dpOld[cur - 1]) % MOD\n",
    "                # if able take right step\n",
    "                if cur < arrLen - 1:\n",
    "                    ans = (ans + dpOld[cur + 1]) % MOD\n",
    "                dpNew[cur] = ans\n",
    "            dpOld = dpNew\n",
    "        return dpOld[0]\n",
    "# came pretty close to getting the answer, but was a bit off in the way I was initializing things!"
   ]
  },
  {
   "cell_type": "markdown",
   "metadata": {},
   "source": [
    "General review:\n",
    "I am getting much better at dp problems when it comes to the top down approach. However I could be much better at solving these kinds of problems in a bottom-up manner. The key thing I am missing out on is the understanding of the recurance relationships that exist and how best to use those in the bottom-up method. Simply put I am not putting enough time into the pre-work required from these problems and setting myself up for failure!"
   ]
  }
 ],
 "metadata": {
  "language_info": {
   "name": "python"
  },
  "orig_nbformat": 4
 },
 "nbformat": 4,
 "nbformat_minor": 2
}
