{
 "cells": [
  {
   "cell_type": "markdown",
   "metadata": {},
   "source": [
    "64. Minimum Path Sum\n",
    "\n",
    "Medium\n",
    "\n",
    "Given a m x n grid filled with non-negative numbers, find a path from top left to bottom right, which minimizes the sum of all numbers along its path.\n",
    "\n",
    "Note: You can only move either down or right at any point in time.\n",
    "\n",
    "---\n",
    "\n",
    "Example 1:\n",
    "\n",
    "\n",
    "Input: grid = [[1,3,1],[1,5,1],[4,2,1]]\n",
    "Output: 7\n",
    "Explanation: Because the path 1 → 3 → 1 → 1 → 1 minimizes the sum."
   ]
  },
  {
   "cell_type": "code",
   "execution_count": null,
   "metadata": {},
   "outputs": [],
   "source": [
    "class Solution:\n",
    "    def minPathSum(self, grid: List[List[int]]) -> int:\n",
    "        rows, cols = len(grid), len(grid[0])\n",
    "        for i in range(rows - 1, -1 , -1):\n",
    "            for j in range(cols -1, -1 , -1):\n",
    "                if i == rows - 1 and j == cols - 1:\n",
    "                    continue\n",
    "                bottom = float(\"inf\")\n",
    "                right = float(\"inf\")\n",
    "                if i < rows - 1:\n",
    "                    bottom = grid[i+1][j]\n",
    "                if j < cols - 1:\n",
    "                    right = grid[i][j+1]\n",
    "                grid[i][j] += min(right,bottom)\n",
    "        return grid[0][0]"
   ]
  },
  {
   "cell_type": "markdown",
   "metadata": {},
   "source": [
    "I was able to solve this problem on my own with only a slight error of the range I was using. But this was proper bottom-up solution!\n",
    "I reused the gird they gave me, but could also using two rows like coin change II. Overall I am happy with my ability on this problem!"
   ]
  }
 ],
 "metadata": {
  "language_info": {
   "name": "python"
  },
  "orig_nbformat": 4
 },
 "nbformat": 4,
 "nbformat_minor": 2
}
