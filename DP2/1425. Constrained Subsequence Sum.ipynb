{
 "cells": [
  {
   "cell_type": "markdown",
   "metadata": {},
   "source": [
    "1425. Constrained Subsequence Sum\n",
    "\n",
    "Hard\n",
    "\n",
    "Given an integer array nums and an integer k, return the maximum sum of a non-empty subsequence of that array such that for every two consecutive integers in the subsequence, nums[i] and nums[j], where i < j, the condition j - i <= k is satisfied.\n",
    "\n",
    "A subsequence of an array is obtained by deleting some number of elements (can be zero) from the array, leaving the remaining elements in their original order."
   ]
  },
  {
   "cell_type": "code",
   "execution_count": null,
   "metadata": {},
   "outputs": [],
   "source": [
    "from collections import deque\n",
    "class Solution:\n",
    "    def constrainedSubsetSum(self, nums: List[int], k: int) -> int:\n",
    "        dp = [0] * len(nums)\n",
    "        maxVal = float(\"-inf\")\n",
    "        q = deque()\n",
    "        l = 0\n",
    "        for r in range(len(nums)):\n",
    "            # always add the right to the problem first\n",
    "            val = nums[r]\n",
    "            temp = q[0] if q else float(\"-inf\")\n",
    "            insert = max(val,val + temp)\n",
    "            dp[r] = insert\n",
    "            maxVal = max(maxVal, insert)\n",
    "            \n",
    "            while q and insert > q[-1]:\n",
    "                q.pop()\n",
    "            q.append(insert)\n",
    "\n",
    "            # adjust the window\n",
    "            if r - l + 1 > k:\n",
    "                if dp[l] == q[0]:\n",
    "                    q.popleft()\n",
    "                l += 1\n",
    "\n",
    "        return maxVal"
   ]
  },
  {
   "cell_type": "markdown",
   "metadata": {},
   "source": [
    "LFG!!!! I was able to solve it completely on my own with only mild hints from the problem description. I am really proud of the way I sat down and actually problem tackled this problem on my own and was able to figure it out!"
   ]
  }
 ],
 "metadata": {
  "language_info": {
   "name": "python"
  },
  "orig_nbformat": 4
 },
 "nbformat": 4,
 "nbformat_minor": 2
}
