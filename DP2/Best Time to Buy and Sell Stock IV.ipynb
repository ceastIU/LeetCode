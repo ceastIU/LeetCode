{
 "cells": [
  {
   "cell_type": "markdown",
   "metadata": {},
   "source": [
    "Best Time to Buy and Sell Stock IV\n",
    "\n",
    "You are given an integer array prices where prices[i] is the price of a given stock on the ith day, and an integer k.\n",
    "\n",
    "Find the maximum profit you can achieve. You may complete at most k transactions: i.e. you may buy at most k times and sell at most k times.\n",
    "\n",
    "Note: You may not engage in multiple transactions simultaneously (i.e., you must sell the stock before you buy again).\n",
    "\n",
    "--- \n",
    "\n",
    "Example 1:\n",
    "\n",
    "Input: k = 2, prices = [2,4,1]\n",
    "Output: 2\n",
    "Explanation: Buy on day 1 (price = 2) and sell on day 2 (price = 4), profit = 4-2 = 2.\n",
    "Example 2:\n",
    "\n",
    "Input: k = 2, prices = [3,2,6,5,0,3]\n",
    "Output: 7\n",
    "Explanation: Buy on day 2 (price = 2) and sell on day 3 (price = 6), profit = 6-2 = 4. Then buy on day 5 (price = 0) and sell on day 6 (price = 3), profit = 3-0 = 3.\n",
    "\n",
    "--- \n",
    "Let's try the top-down memoized version of the solution\n",
    " "
   ]
  },
  {
   "cell_type": "code",
   "execution_count": null,
   "metadata": {},
   "outputs": [],
   "source": [
    "class Solution:\n",
    "    def maxProfit(self, k: int, prices: List[int]) -> int:\n",
    "        memo = {}\n",
    "        def dfs(i,holding,k):\n",
    "            if (i,holding,k) in memo:\n",
    "                return memo[(i,holding,k)]\n",
    "            \n",
    "            if i == len(prices) -1:\n",
    "                if holding:\n",
    "                    return prices[i]\n",
    "                else:\n",
    "                    return 0\n",
    "            # we are not at the last day\n",
    "            # we have several choices:\n",
    "            # 1 are we holding a stock\n",
    "            ans = 0\n",
    "            if holding:\n",
    "                # we sell \n",
    "                temp = prices[i] + dfs(i+1,False,k)\n",
    "                # or we continue\n",
    "                temp2 = dfs(i+1,holding,k)\n",
    "                ans = max(temp,temp2)\n",
    "            else:\n",
    "                # We are not holding a stock\n",
    "                # we buy a stock\n",
    "                temp = 0\n",
    "                if k > 0:\n",
    "                    temp =-prices[i] + dfs(i+1,True,k-1)\n",
    "                # We do not buy a stock\n",
    "                temp2 = dfs(i+1,False,k)\n",
    "                ans = max(temp,temp2)\n",
    "            memo[(i,holding,k)] = ans\n",
    "            return ans\n",
    "        return dfs(0,False,k)"
   ]
  },
  {
   "cell_type": "markdown",
   "metadata": {},
   "source": [
    "This code works, but it doesn't run quickly enough thus it does not work. But I was able to get there on my own!\n",
    "Update! \n",
    "By removing one piece of data \"price\" for the recursive call and the memo we were able to get the code to run correctly!\n",
    "The difference was adding the negative value of the stock we bought to the dfs call. That way we didn't have to keep track of the price we bought at!"
   ]
  },
  {
   "cell_type": "code",
   "execution_count": null,
   "metadata": {},
   "outputs": [],
   "source": [
    "# try the bottom-up approach, though this will be much harder\n",
    "class Solution:\n",
    "    def maxProfit(self, k: int, prices: List[int]) -> int:\n",
    "        n = len(prices)\n",
    "        dp = [[[0] * 2 for _ in range(k + 1)] for __ in range(n + 1)]\n",
    "\n",
    "        for i in range(n - 1, -1, -1):\n",
    "            for transactions_remaining in range(1, k + 1):\n",
    "                for holding in range(2):\n",
    "                    doNothing = dp[i+1][transactions_remaining][holding]\n",
    "                    if holding:\n",
    "                        # sell stock\n",
    "                        doSomething = prices[i] + dp[i+1][transactions_remaining-1][0]\n",
    "                    else:\n",
    "                        # buy stock\n",
    "                        doSomething = -prices[i] + dp[i+1][transactions_remaining][1]\n",
    "                    price = max(doNothing,doSomething)\n",
    "                    dp[i][transactions_remaining][holding] = price\n",
    "        print(dp)\n",
    "        return dp[0][k][0]"
   ]
  }
 ],
 "metadata": {
  "language_info": {
   "name": "python"
  },
  "orig_nbformat": 4
 },
 "nbformat": 4,
 "nbformat_minor": 2
}
