{
 "cells": [
  {
   "cell_type": "markdown",
   "metadata": {},
   "source": [
    "63. Unique Paths II\n",
    "\n",
    "Medium\n",
    "\n",
    "You are given an m x n integer array grid. There is a robot initially located at the top-left corner (i.e., grid[0][0]). The robot tries to move to the bottom-right corner (i.e., grid[m - 1][n - 1]). The robot can only move either down or right at any point in time.\n",
    "\n",
    "An obstacle and space are marked as 1 or 0 respectively in grid. A path that the robot takes cannot include any square that is an obstacle.\n",
    "\n",
    "Return the number of possible unique paths that the robot can take to reach the bottom-right corner.\n",
    "\n",
    "The testcases are generated so that the answer will be less than or equal to 2 * 109."
   ]
  },
  {
   "cell_type": "code",
   "execution_count": null,
   "metadata": {},
   "outputs": [],
   "source": [
    "class Solution:\n",
    "    def uniquePathsWithObstacles(self, obstacleGrid: List[List[int]]) -> int:\n",
    "        m,n = len(obstacleGrid), len(obstacleGrid[0])\n",
    "        dp = [[1] * n for _ in range(m)]\n",
    "\n",
    "        for i in range(1,m):\n",
    "            for j in range(1,n):\n",
    "                if obstacleGrid[i-1][j-1] == 1:\n",
    "                    dp[i][j] = 0\n",
    "                else:\n",
    "                    dp[i][j] = dp[i][j-1] + dp[i-1][j]\n",
    "        return dp[-1][-1]"
   ]
  },
  {
   "cell_type": "markdown",
   "metadata": {},
   "source": []
  }
 ],
 "metadata": {
  "language_info": {
   "name": "python"
  },
  "orig_nbformat": 4
 },
 "nbformat": 4,
 "nbformat_minor": 2
}
