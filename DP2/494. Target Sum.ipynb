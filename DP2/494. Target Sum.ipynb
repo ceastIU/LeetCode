{
 "cells": [
  {
   "cell_type": "markdown",
   "metadata": {},
   "source": [
    "494. Target Sum\n",
    "\n",
    "Medium\n",
    "\n",
    "You are given an integer array nums and an integer target.\n",
    "\n",
    "You want to build an expression out of nums by adding one of the symbols '+' and '-' before each integer in nums and then concatenate all the integers.\n",
    "\n",
    "For example, if nums = [2, 1], you can add a '+' before 2 and a '-' before 1 and concatenate them to build the expression \"+2-1\".\n",
    "Return the number of different expressions that you can build, which evaluates to target.\n",
    "\n",
    "--- \n",
    "\n",
    "Example 1:\n",
    "\n",
    "Input: nums = [1,1,1,1,1], target = 3\n",
    "Output: 5\n",
    "Explanation: There are 5 ways to assign symbols to make the sum of nums be target 3.\n",
    "-1 + 1 + 1 + 1 + 1 = 3\n",
    "+1 - 1 + 1 + 1 + 1 = 3\n",
    "+1 + 1 - 1 + 1 + 1 = 3\n",
    "+1 + 1 + 1 - 1 + 1 = 3\n",
    "+1 + 1 + 1 + 1 - 1 = 3\n",
    "\n",
    "--- \n",
    "try the brute force approach first then try to optimize with DP"
   ]
  },
  {
   "cell_type": "code",
   "execution_count": null,
   "metadata": {},
   "outputs": [],
   "source": [
    "class Solution:\n",
    "    def findTargetSumWays(self, nums: List[int], target: int) -> int:\n",
    "        # lets brute force this first\n",
    "        memo = {}\n",
    "        def dfs(index,target):\n",
    "            if (index, target) in memo:\n",
    "                return memo[(index,target)]\n",
    "            if index == len(nums):\n",
    "                return 1 if target == 0 else 0\n",
    "            ways = 0\n",
    "            for i in [-1,1]:\n",
    "                ways += dfs(index +1, target + (nums[index] * i))\n",
    "            memo[(index,target)] = ways\n",
    "            return ways\n",
    "        return dfs(0,target)"
   ]
  },
  {
   "cell_type": "markdown",
   "metadata": {},
   "source": [
    "LFG!!! I was able to solve the problem is a single go, without any typos, errors, or need for adjustment! That is absolutely huge for me! \n",
    "Now let's figure out the ocmplicated bottom-ip approach!\n",
    "\n"
   ]
  }
 ],
 "metadata": {
  "language_info": {
   "name": "python"
  },
  "orig_nbformat": 4
 },
 "nbformat": 4,
 "nbformat_minor": 2
}
