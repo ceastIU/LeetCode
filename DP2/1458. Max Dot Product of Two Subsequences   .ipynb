{
 "cells": [
  {
   "cell_type": "markdown",
   "metadata": {},
   "source": [
    "1458. Max Dot Product of Two Subsequences\n",
    "\n",
    "Hard\n",
    "\n",
    "Given two arrays nums1 and nums2.\n",
    "\n",
    "Return the maximum dot product between non-empty subsequences of nums1 and nums2 with the same length.\n",
    "\n",
    "A subsequence of a array is a new array which is formed from the original array by deleting some (can be none) of the characters without disturbing the relative positions of the remaining characters. (ie, [2,3,5] is a subsequence of [1,2,3,4,5] while [1,5,3] is not).\n",
    "\n",
    "---\n",
    "\n",
    "Example 1:\n",
    "\n",
    "Input: nums1 = [2,1,-2,5], nums2 = [3,0,-6]\n",
    "Output: 18\n",
    "Explanation: Take subsequence [2,-2] from nums1 and subsequence [3,-6] from nums2.\n",
    "Their dot product is (2*3 + (-2)*(-6)) = 18.\n",
    "\n",
    "----\n",
    "I think I have it figured out          "
   ]
  },
  {
   "cell_type": "code",
   "execution_count": null,
   "metadata": {},
   "outputs": [],
   "source": [
    "class Solution:\n",
    "    def maxDotProduct(self, nums1: List[int], nums2: List[int]) -> int:\n",
    "        n, m = len(nums1), len(nums2) \n",
    "        dp = [[0] * (n+1) for _ in range(m+1)]\n",
    "        for i in range(1,m+1):\n",
    "            for j in range(1,n+1):\n",
    "                temp = nums1[j-1] * nums2[i-1]\n",
    "                temp = max(temp, temp + dp[i-1][j-1])\n",
    "                dp[i][j] = temp\n",
    "                if dp[i][j-1] != 0:\n",
    "                    dp[i][j] = max(dp[i][j],dp[i][j-1])\n",
    "                if dp[i-1][j] != 0:\n",
    "                    dp[i][j] = max(dp[i][j], dp[i-1][j])\n",
    "        return dp[-1][-1]\n"
   ]
  },
  {
   "cell_type": "markdown",
   "metadata": {},
   "source": [
    "There was one small error where I was not taking into consideration the case of nums[i] * nums[j] being biggere than the temp value + the previous col max, i.e. starting a new subarray.\n",
    "\n",
    "This is a mjaor breakthrough in my performance on DP problems that I was able to get it to the 99% mark. \n",
    "\n"
   ]
  }
 ],
 "metadata": {
  "language_info": {
   "name": "python"
  },
  "orig_nbformat": 4
 },
 "nbformat": 4,
 "nbformat_minor": 2
}
