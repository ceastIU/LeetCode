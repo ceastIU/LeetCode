{
 "cells": [
  {
   "cell_type": "markdown",
   "metadata": {},
   "source": [
    "935. Knight Dialer\n",
    "\n",
    "Medium\n",
    "\n",
    "The chess knight has a unique movement, it may move two squares vertically and one square horizontally, or two squares horizontally and one square vertically (with both forming the shape of an L). The possible movements of chess knight are shown in this diagaram:\n",
    "\n",
    "A chess knight can move as indicated in the chess diagram below:\n",
    "\n",
    "\n",
    "We have a chess knight and a phone pad as shown below, the knight can only stand on a numeric cell (i.e. blue cell).\n",
    "\n",
    "\n",
    "Given an integer n, return how many distinct phone numbers of length n we can dial.\n",
    "\n",
    "You are allowed to place the knight on any numeric cell initially and then you should perform n - 1 jumps to dial a number of length n. All jumps should be valid knight jumps.\n",
    "\n",
    "As the answer may be very large, return the answer modulo 109 + 7.\n",
    "--- \n",
    "I was able to solve this problem with a lot of help, but was in the right ball park, let's attempt it again to get a solid grasp on the solution."
   ]
  },
  {
   "cell_type": "code",
   "execution_count": null,
   "metadata": {},
   "outputs": [],
   "source": [
    "class Solution:\n",
    "    def knightDialer(self, n: int) -> int:\n",
    "        board = [[1,2,3],[4,5,6],[7,8,9],[-1,0,-1]]\n",
    "        memo = {}\n",
    "        rows, cols = 4, 3\n",
    "        def dfs(x,y,l):\n",
    "            if l == n:\n",
    "                return 1\n",
    "            if (x,y,l) in memo:\n",
    "                return memo[(x,y,l)]\n",
    "            # run through the options\n",
    "            ways = 0\n",
    "            for dx, dy in [(2,-1),(2,1),(-2,-1),(-2,1),(-1,-2),(-1,2),(1,-2),(1,2)]:\n",
    "                xx, yy = x + dx, y + dy\n",
    "                if (0 <= xx < rows and 0 <= yy < cols) and board[xx][yy] != -1:\n",
    "                    ways += dfs(xx,yy,l+1)\n",
    "            memo[(x,y,l)] = ways\n",
    "            return memo[(x,y,l)]\n",
    "        total = 0\n",
    "        for i in range(rows):\n",
    "            for j in range(cols):\n",
    "                if board[i][j] != -1:\n",
    "                    total += dfs(i,j,1)\n",
    "        return total % (10**9 + 7)"
   ]
  }
 ],
 "metadata": {
  "language_info": {
   "name": "python"
  },
  "orig_nbformat": 4
 },
 "nbformat": 4,
 "nbformat_minor": 2
}
