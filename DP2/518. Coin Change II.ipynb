{
 "cells": [
  {
   "cell_type": "markdown",
   "metadata": {},
   "source": [
    "518. Coin Change II\n",
    "\n",
    "Medium\n",
    "\n",
    "You are given an integer array coins representing coins of different denominations and an integer amount representing a total amount of money.\n",
    "\n",
    "Return the number of combinations that make up that amount. If that amount of money cannot be made up by any combination of the coins, return 0.\n",
    "\n",
    "You may assume that you have an infinite number of each kind of coin.\n",
    "\n",
    "The answer is guaranteed to fit into a signed 32-bit integer.\n",
    "\n",
    "---\n",
    "\n",
    "Example 1:\n",
    "\n",
    "Input: amount = 5, coins = [1,2,5]\n",
    "Output: 4\n",
    "Explanation: there are four ways to make up the amount:\n",
    "5=5\n",
    "5=2+2+1\n",
    "5=2+1+1+1\n",
    "5=1+1+1+1+1\n",
    "\n",
    "---\n",
    "going to try out the bottom up approach to solving this problem. \n"
   ]
  },
  {
   "cell_type": "code",
   "execution_count": null,
   "metadata": {},
   "outputs": [],
   "source": [
    "class Solution:\n",
    "    def change(self, amount: int, coins: List[int]) -> int:\n",
    "        dp = [0] * amount\n",
    "        dp[0] = 1\n",
    "        for i in range(1,amount):\n",
    "            ways = 0 \n",
    "            for c in coins:\n",
    "                if i - c >= 0:\n",
    "                    ways += dp[i-c]\n",
    "            dp[i] = ways\n",
    "        return dp[amount]"
   ]
  },
  {
   "cell_type": "code",
   "execution_count": null,
   "metadata": {},
   "outputs": [],
   "source": [
    "class Solution:\n",
    "    def change(self, amount: int, coins: List[int]) -> int:\n",
    "        memo = {}\n",
    "        def dfs(i,amount):\n",
    "            if (i,amount) in memo:\n",
    "                return memo[(i,amount)]\n",
    "            if amount < 0:\n",
    "                return 0\n",
    "            if amount == 0:\n",
    "                return 1\n",
    "            ways = 0\n",
    "            for j in range(i, len(coins)):\n",
    "                ways += dfs(j, amount - coins[j])\n",
    "            memo[(i,amount)] = ways\n",
    "            return ways\n",
    "        return dfs(0,amount)\n",
    "# This worksm but barely. Extremely slow, better to use naive dp (bottom-up)"
   ]
  },
  {
   "cell_type": "code",
   "execution_count": null,
   "metadata": {},
   "outputs": [],
   "source": [
    "class Solution:\n",
    "    def change(self, amount: int, coins: List[int]) -> int:\n",
    "        dp = [[0]*(amount+1) for _ in range(len(coins))]\n",
    "        for i in range(len(coins)):\n",
    "            dp[i][-1] = 1\n",
    "        \n",
    "        # iterate across the bottom, up\n",
    "        for i in range(len(coins)-1,-1,-1):\n",
    "            for j in range(amount-1,-1,-1):\n",
    "                print(dp[i][j])"
   ]
  }
 ],
 "metadata": {
  "language_info": {
   "name": "python"
  },
  "orig_nbformat": 4
 },
 "nbformat": 4,
 "nbformat_minor": 2
}
