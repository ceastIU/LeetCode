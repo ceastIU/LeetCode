{
 "cells": [
  {
   "cell_type": "markdown",
   "metadata": {},
   "source": [
    "221. Maximal Square\n",
    "\n",
    "Medium\n",
    "\n",
    "Given an m x n binary matrix filled with 0's and 1's, find the largest square containing only 1's and return its area."
   ]
  },
  {
   "cell_type": "code",
   "execution_count": null,
   "metadata": {},
   "outputs": [],
   "source": [
    "class Solution:\n",
    "    def maximalSquare(self, matrix: List[List[str]]) -> int:\n",
    "        rows, cols = len(matrix), len(matrix[0])\n",
    "        dp = [[0] * (cols+1) for _ in range(rows+1)]\n",
    "\n",
    "        for i in range(1,rows+1):\n",
    "            for j in range(i,cols+1):\n",
    "                if matrix[i-1][j-1] == 1:\n",
    "                    dp[i][j] = min(dp[i-1][j],dp[i-1][j-1], dp[i][j-1]) + 1\n",
    "        return dp[-1][-1]"
   ]
  }
 ],
 "metadata": {
  "language_info": {
   "name": "python"
  },
  "orig_nbformat": 4
 },
 "nbformat": 4,
 "nbformat_minor": 2
}
