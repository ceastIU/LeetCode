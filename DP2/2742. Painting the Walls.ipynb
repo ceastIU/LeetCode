{
 "cells": [
  {
   "cell_type": "markdown",
   "metadata": {},
   "source": [
    "2742. Painting the Walls\n",
    "\n",
    "Hard\n",
    "\n",
    "You are given two 0-indexed integer arrays, cost and time, of size n representing the costs and the time taken to paint n different walls respectively. There are two painters available:\n",
    "\n",
    "A paid painter that paints the ith wall in time[i] units of time and takes cost[i] units of money.\n",
    "A free painter that paints any wall in 1 unit of time at a cost of 0. But the free painter can only be used if the paid painter is already occupied.\n",
    "Return the minimum amount of money required to paint the n walls.\n",
    "\n",
    "---- \n",
    "\n",
    "Example 1:\n",
    "\n",
    "Input: cost = [1,2,3,2], time = [1,2,3,2]\n",
    "Output: 3\n",
    "Explanation: The walls at index 0 and 1 will be painted by the paid painter, and it will take 3 units of time; meanwhile, the free painter will paint the walls at index 2 and 3, free of cost in 2 units of time. Thus, the total cost is 1 + 2 = 3.\n",
    "\n",
    "---\n",
    "Let's try hard coding a backtrackign solution then see what the optimized way is"
   ]
  },
  {
   "cell_type": "code",
   "execution_count": null,
   "metadata": {},
   "outputs": [],
   "source": [
    "# this is the top-down solution\n",
    "class Solution:\n",
    "    def paintWalls(self, cost: List[int], time: List[int]) -> int:\n",
    "        memo = {}\n",
    "        def back(i,remain):\n",
    "            if remain <= 0:\n",
    "                return 0\n",
    "            if i == len(cost):\n",
    "                return float(\"inf\")\n",
    "            if (i,remain) in memo:\n",
    "                return memo[(i,remain)]\n",
    "            # two options hire or don't hire\n",
    "            hire = cost[i] + back(i+1,remain - 1 - time[i])\n",
    "            noHire = back(i+1,remain)\n",
    "            memo[(i,remain)] = min(hire,noHire)\n",
    "            return memo[(i,remain)]\n",
    "        return back(0,len(cost))\n",
    "\n",
    "# I was NOT able to successful solve this problem, most because I did not fully read the problem. \n",
    "# Maybe if I had I would have been able to at least hard code a brute force approach. A valuable lesson in remembering to read everything"
   ]
  },
  {
   "cell_type": "code",
   "execution_count": null,
   "metadata": {},
   "outputs": [],
   "source": [
    "# Bottom up appraoch, space optimized ideally\n",
    "class Solution:\n",
    "    def paintWalls(self, cost: List[int], time: List[int]) -> int:\n",
    "        # I need to dp rows only\n",
    "        n = len(cost)\n",
    "        dpOld = [0]+ [float(\"inf\")] * (n)\n",
    "\n",
    "        for i in range(n-1,-1,-1):\n",
    "            dpNew = [0] * (n+1)\n",
    "            for remain in range(1,n+1):\n",
    "                hire = cost[i] + dpOld[max(0,remain - 1 - time[i])]\n",
    "                noHire = dpOld[remain]\n",
    "                dpNew[remain] = min(hire,noHire)\n",
    "            dpOld = dpNew\n",
    "        return dpOld[-1]"
   ]
  }
 ],
 "metadata": {
  "language_info": {
   "name": "python"
  },
  "orig_nbformat": 4
 },
 "nbformat": 4,
 "nbformat_minor": 2
}
