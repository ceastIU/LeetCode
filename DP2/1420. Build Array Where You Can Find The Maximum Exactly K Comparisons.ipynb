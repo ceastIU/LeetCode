{
 "cells": [
  {
   "cell_type": "markdown",
   "metadata": {},
   "source": [
    "1420. Build Array Where You Can Find The Maximum Exactly K Comparisons\n",
    "\n",
    "Hard\n",
    "\n",
    "You are given three integers n, m and k. Consider the following algorithm to find the maximum element of an array of positive integers:\n",
    "\n",
    "---\n",
    "\n",
    "You should build the array arr which has the following properties:\n",
    "\n",
    "arr has exactly n integers.\n",
    "1 <= arr[i] <= m where (0 <= i < n).\n",
    "After applying the mentioned algorithm to arr, the value search_cost is equal to k.\n",
    "Return the number of ways to build the array arr under the mentioned conditions. As the answer may grow large, the answer must be computed modulo 109 + 7.\n",
    "---\n",
    "Solve this with backtracking first, then look for ways to memo"
   ]
  },
  {
   "cell_type": "code",
   "execution_count": null,
   "metadata": {},
   "outputs": [],
   "source": [
    "class Solution:\n",
    "    def numOfArrays(self, n: int, m: int, k: int) -> int:\n",
    "        ans = [0]\n",
    "        MOD = 10**9 + 7\n",
    "        memo = {}\n",
    "        def dfs(n,k,maxV):\n",
    "            if (n,k,maxV) in memo:\n",
    "                return memo[(n,k,maxV)]\n",
    "            if n == 0:\n",
    "                if k == 0:\n",
    "                    return 1\n",
    "                return 0\n",
    "            # else we still have room left in given array\n",
    "            # let's suppose we have an empty array\n",
    "            ans = 0\n",
    "            for i in range(1,m+1):\n",
    "                if i > maxV:\n",
    "                    if k > 0:\n",
    "                        ans += dfs(n-1,k-1,i)\n",
    "                else:\n",
    "                    # i in less than or equal to last\n",
    "                    if k < n:\n",
    "                        ans += dfs(n-1,k,maxV)\n",
    "            ans %= MOD\n",
    "            memo[(n,k,maxV)] = ans     \n",
    "        return dfs(n,k,-1)   \n",
    "\n",
    "        "
   ]
  }
 ],
 "metadata": {
  "language_info": {
   "name": "python"
  },
  "orig_nbformat": 4
 },
 "nbformat": 4,
 "nbformat_minor": 2
}
