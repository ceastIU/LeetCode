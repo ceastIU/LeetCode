{
 "cells": [
  {
   "cell_type": "markdown",
   "metadata": {},
   "source": [
    "1220. Count Vowels Permutation\n",
    "\n",
    "Hard\n",
    "\n",
    "Given an integer n, your task is to count how many strings of length n can be formed under the following rules:\n",
    "\n",
    "Each character is a lower case vowel ('a', 'e', 'i', 'o', 'u')\n",
    "Each vowel 'a' may only be followed by an 'e'.\n",
    "Each vowel 'e' may only be followed by an 'a' or an 'i'.\n",
    "Each vowel 'i' may not be followed by another 'i'.\n",
    "Each vowel 'o' may only be followed by an 'i' or a 'u'.\n",
    "Each vowel 'u' may only be followed by an 'a'.\n",
    "Since the answer may be too large, return it modulo 10^9 + 7."
   ]
  },
  {
   "cell_type": "code",
   "execution_count": null,
   "metadata": {},
   "outputs": [],
   "source": [
    "# definitely going to try a back tracking approach to this problem.\n",
    "class Solution:\n",
    "    def countVowelPermutation(self, n: int) -> int:\n",
    "        memo = {}\n",
    "        def back(vowel,i):\n",
    "            if (vowel, i) in memo:\n",
    "                return memo[(vowel, i)]\n",
    "            if i == n:\n",
    "                return 1\n",
    "            ways = 0\n",
    "            if vowel == \"a\":\n",
    "                ways += back(\"e\", i+1)\n",
    "            elif vowel == \"e\":\n",
    "                ways += back(\"a\", i+1)\n",
    "                ways += back(\"i\", i+1)\n",
    "            elif vowel == \"i\":\n",
    "                for v in ['a', 'e', 'o', 'u']:\n",
    "                    ways += back(v, i+1)\n",
    "            elif vowel == \"o\":\n",
    "                ways += back(\"i\", i+1)\n",
    "                ways += back(\"u\", i+1)\n",
    "            elif vowel == \"u\":\n",
    "                ways += back(\"a\", i+1)\n",
    "            memo[(vowel,i)] = ways\n",
    "            return ways\n",
    "        ans = 0\n",
    "        for v in ['a', 'e', 'i', 'o', 'u']:\n",
    "            ans += back(v,1)\n",
    "        return ans % (10**9+7)     \n",
    "    \n",
    "# this works but cosnumes far too much memory, there for I need a bottom up approach"
   ]
  },
  {
   "cell_type": "code",
   "execution_count": null,
   "metadata": {},
   "outputs": [],
   "source": [
    "# bottom up implementation\n",
    "class Solution:\n",
    "    def countVowelPermutation(self, n: int) -> int:\n",
    "        MOD = (10**9 + 7)\n",
    "        dp = [[0] * 5 for _ in range(n)]\n",
    "        for i in range(5):\n",
    "            dp[0][i] = 1\n",
    "        # Define the transition rules.\n",
    "        transitions = [[1], [0, 2], [0, 1, 3, 4], [2, 4], [0]]\n",
    "        for i in range(1,n):\n",
    "            for j in range(5):\n",
    "                for k in transitions[j]:\n",
    "                    dp[i][j] = (dp[i][j] + dp[i-1][k]) % MOD\n",
    "        result = sum(dp[n-1]) % MOD \n",
    "\n",
    "        return result"
   ]
  },
  {
   "cell_type": "markdown",
   "metadata": {},
   "source": [
    "I'm glad I was able to figure out the top down approach and the bottom up approach was something I could have come up with after some review! Overall, great problem!\n",
    "Adding some more information here for a commit!"
   ]
  }
 ],
 "metadata": {
  "language_info": {
   "name": "python"
  },
  "orig_nbformat": 4
 },
 "nbformat": 4,
 "nbformat_minor": 2
}
