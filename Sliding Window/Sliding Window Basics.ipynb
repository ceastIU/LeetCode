{
 "cells": [
  {
   "attachments": {},
   "cell_type": "markdown",
   "metadata": {},
   "source": [
    "Sliding Window Technique - Algorithmic Mental Models\n",
    "Two types:\n",
    "Fixed and Dynamic Windows.\n",
    "\n",
    "First Example (Fixed Sliding Window):\n",
    "Maximum Sum of Contiguous Subarray of Size 3 \n",
    "Details:\n",
    "- Looking for max\n",
    "- Fixed Size of 3"
   ]
  },
  {
   "attachments": {},
   "cell_type": "markdown",
   "metadata": {},
   "source": [
    "How to recognize these problems in the wild!\n",
    "[ Sliding Window Tips ] \n",
    "- Things we iterate over sequentially \n",
    "    - contiguous sequence of elements\n",
    "    - strings, arrays, linkedList\n",
    "- Min, max, longest, shortest, contained within\n",
    "    - maybe we need to calculate something\n",
    "Question Variants:\n",
    "1. Fized length\n",
    "    - Max Sum subarray of size K\n",
    "2. Dynamic Variant\n",
    "    - Smallest sum >= then some value S\n",
    "3. Dynamic Variant with Auxillary Data Structure\n",
    "    - Longest substring w/ no more than k distinct characters\n",
    "    - String permutations\n",
    "\n",
    "Commonalities:\n",
    "- Everything is grouped sequentially (substring, subarray)\n",
    "- Longest/smallest/contains/max/min"
   ]
  },
  {
   "cell_type": "code",
   "execution_count": 1,
   "metadata": {},
   "outputs": [
    {
     "name": "stdout",
     "output_type": "stream",
     "text": [
      "16\n"
     ]
    }
   ],
   "source": [
    "def maxSumSubarray(nums, k):\n",
    "    largest = -10000\n",
    "    current = 0\n",
    "    for i in range(len(nums)):\n",
    "        current += nums[i]\n",
    "        if i >= k-1:\n",
    "            largest = current if current > largest else largest\n",
    "            current -= nums[i-(k-1)]\n",
    "        \n",
    "    return largest\n",
    "\n",
    "print(maxSumSubarray([4,2,1,7,8,1,2,8,1,0], 3))"
   ]
  },
  {
   "attachments": {},
   "cell_type": "markdown",
   "metadata": {},
   "source": [
    "Smallest Subarray With Given Sum\n"
   ]
  },
  {
   "cell_type": "code",
   "execution_count": 1,
   "metadata": {},
   "outputs": [
    {
     "name": "stdout",
     "output_type": "stream",
     "text": [
      "1\n"
     ]
    }
   ],
   "source": [
    "def smallestSubarray(nums, target):\n",
    "    begin = 0\n",
    "    currentWindowSum = 0\n",
    "    minWindow = len(nums)\n",
    "    for end in range(len(nums)):\n",
    "        currentWindowSum += nums[end]\n",
    "        while currentWindowSum >= target:\n",
    "            minWindow = min(end - begin +1, minWindow)\n",
    "            currentWindowSum -= nums[begin]\n",
    "            begin += 1 \n",
    "        \n",
    "    return minWindow\n",
    "\n",
    "print(smallestSubarray([4,2,1,7,8,1,2,8,1,0], 8))"
   ]
  },
  {
   "attachments": {},
   "cell_type": "markdown",
   "metadata": {},
   "source": [
    "Dynamic Sliding Window\n",
    "Smallest subarray with sum equally X"
   ]
  },
  {
   "cell_type": "code",
   "execution_count": 4,
   "metadata": {},
   "outputs": [
    {
     "name": "stdout",
     "output_type": "stream",
     "text": [
      "2\n"
     ]
    }
   ],
   "source": [
    "def dynamicSlidingWindow(arr, x: int) -> int:\n",
    "        # Track out min value of subarray\n",
    "        minLen = float('inf')\n",
    "\n",
    "        # The current range and sum of our sliding window\n",
    "        start = 0\n",
    "        end = 0\n",
    "        current = 0\n",
    "\n",
    "        # Extend the sliding window until our criteria is met\n",
    "        while end < len(arr):\n",
    "            current += arr[end]\n",
    "            end +=  1\n",
    "\n",
    "            # Then Contract the sliding window until it no longer meets our condition\n",
    "            while start < end and current >= x:\n",
    "                current -= arr[start]\n",
    "                start += 1\n",
    "\n",
    "                #Update the min_length if this is shorter than the current min length\n",
    "                minLen = min(minLen, end-start +1)\n",
    "        \n",
    "        return minLen\n",
    "print(dynamicSlidingWindow([4,2,1,7,8,1,2,8,1,0],9))"
   ]
  }
 ],
 "metadata": {
  "kernelspec": {
   "display_name": "Python 3",
   "language": "python",
   "name": "python3"
  },
  "language_info": {
   "codemirror_mode": {
    "name": "ipython",
    "version": 3
   },
   "file_extension": ".py",
   "mimetype": "text/x-python",
   "name": "python",
   "nbconvert_exporter": "python",
   "pygments_lexer": "ipython3",
   "version": "3.10.10"
  },
  "orig_nbformat": 4,
  "vscode": {
   "interpreter": {
    "hash": "aa82987a71ca0339a52998cd22613b0c002bda8349fa32a0cb67ceec3936a2bf"
   }
  }
 },
 "nbformat": 4,
 "nbformat_minor": 2
}
