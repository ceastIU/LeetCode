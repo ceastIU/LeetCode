{
 "cells": [
  {
   "cell_type": "markdown",
   "metadata": {},
   "source": [
    "93. Restore IP Addresses\n",
    "\n",
    "Medium\n",
    "\n",
    "A valid IP address consists of exactly four integers separated by single dots. Each integer is between 0 and 255 (inclusive) and cannot have leading zeros.\n",
    "\n",
    "For example, \"0.1.2.201\" and \"192.168.1.1\" are valid IP addresses, but \"0.011.255.245\", \"192.168.1.312\" and \"192.168@1.1\" are invalid IP addresses.\n",
    "Given a string s containing only digits, return all possible valid IP addresses that can be formed by inserting dots into s. You are not allowed to reorder or remove any digits in s. You may return the valid IP addresses in any order.\n",
    "\n",
    "---\n",
    "\n",
    "Observations: \n",
    "- Breaking this down, it follows a similar design as the palindrome problem, where we create as many subsets as possible from the remaining string, then iterate on those subsets while checking them.\n",
    "- Going to need a validate function (similar to how palindrome had the isPal helper function)\n",
    "- Various points to check before iterating "
   ]
  },
  {
   "cell_type": "code",
   "execution_count": null,
   "metadata": {},
   "outputs": [],
   "source": [
    "class Solution:\n",
    "    def restoreIpAddresses(self, s: str) -> List[str]:\n",
    "        def isValid(chunk):\n",
    "            if not chunk:\n",
    "                return False\n",
    "            elif len(chunk) > 1:\n",
    "                if chunk[0] == \"0\":\n",
    "                    return False\n",
    "                elif int(chunk) > 255:\n",
    "                    return False\n",
    "            return True\n",
    "        solutions = []\n",
    "        def dfs(solution, remaining):\n",
    "            if len(solution) == 4 and len(remaining) == 0:\n",
    "                solutions.append(\".\".join(solution))\n",
    "                return\n",
    "\n",
    "            for i in range(min(3, len(remaining))):\n",
    "                strSlice = remaining[:i+1]\n",
    "                remaining2 = remaining[i+1:]\n",
    "                print(\"\\n\",strSlice,remaining2)\n",
    "                if isValid(strSlice):\n",
    "                    solution.append(strSlice)\n",
    "                    dfs(solution,remaining2)\n",
    "                    solution.pop()\n",
    "        dfs([],s)\n",
    "        return solutions"
   ]
  },
  {
   "cell_type": "markdown",
   "metadata": {},
   "source": [
    "I was able to get the primary code completed but there were so hung ups around more minute details like when to append the result, and when to most importantly the range values for how many iterations are done, i.e. range(min(3,len(remaining))). The space and time complexity is O(1). The space complexity is 3^4 which reduces to 1. This is because there are 3 iterations that go at most 4 deep. The same is said for the space complexity. Since there are hard rules around the number of combinations of IP adresses the solutions array will be relatively constant. There is no way to grow the solutions array to a larger and larger number no matter what IP address you put in."
   ]
  }
 ],
 "metadata": {
  "language_info": {
   "name": "python"
  },
  "orig_nbformat": 4
 },
 "nbformat": 4,
 "nbformat_minor": 2
}
