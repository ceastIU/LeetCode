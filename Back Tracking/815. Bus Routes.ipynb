{
 "cells": [
  {
   "cell_type": "markdown",
   "metadata": {},
   "source": [
    "815. Bus Routes\n",
    "\n",
    "Hard\n",
    "\n",
    "You are given an array routes representing bus routes where routes[i] is a bus route that the ith bus repeats forever.\n",
    "\n",
    "For example, if routes[0] = [1, 5, 7], this means that the 0th bus travels in the sequence 1 -> 5 -> 7 -> 1 -> 5 -> 7 -> 1 -> ... forever.\n",
    "You will start at the bus stop source (You are not on any bus initially), and you want to go to the bus stop target. You can travel between bus stops by buses only.\n",
    "\n",
    "Return the least number of buses you must take to travel from source to target. Return -1 if it is not possible."
   ]
  },
  {
   "cell_type": "code",
   "execution_count": null,
   "metadata": {},
   "outputs": [],
   "source": [
    "class Solution:\n",
    "    def numBusesToDestination(self, routes: List[List[int]], source: int, target: int) -> int:\n",
    "        if source == target:\n",
    "            return 0\n",
    "        adj = collections.defaultdict(list)\n",
    "        for bus in range(len(routes)):\n",
    "            for station in range(len(routes[bus])):\n",
    "                adj[routes[bus][station]].append([bus,station])\n",
    "        start = source\n",
    "        visited = {}\n",
    "        for busRoute in adj[start]:\n",
    "            q = collections.deque([busRoute + [1]])\n",
    "            visited[(busRoute[0],busRoute[1])] = True\n",
    "        while q:\n",
    "            for _ in range(len(q)):\n",
    "                bus,index,buses = q.popleft()\n",
    "                # grab next stop in route\n",
    "                if index == len(routes[bus]) - 1:\n",
    "                    index = 0\n",
    "                else:\n",
    "                    index += 1\n",
    "                station = routes[bus][index]\n",
    "                #print(\"station\",station)\n",
    "                if station == target:\n",
    "                    return buses\n",
    "                for tempBus, tempIndex in adj[station]:\n",
    "                    if (tempBus,tempIndex) not in visited:\n",
    "                        busAdd = 1 if tempBus != bus else 0\n",
    "                        q.append([tempBus,tempIndex,buses+busAdd])\n",
    "        return -1"
   ]
  },
  {
   "cell_type": "code",
   "execution_count": null,
   "metadata": {},
   "outputs": [],
   "source": [
    "class Solution:\n",
    "    def numBusesToDestination(self, routes: List[List[int]], source: int, target: int) -> int:\n",
    "        if source == target:\n",
    "            return 0\n",
    "        adj = collections.defaultdict(list)\n",
    "        for bus in range(len(routes)):\n",
    "            for station in range(len(routes[bus])):\n",
    "                adj[routes[bus][station]].append(bus)\n",
    "        station = source\n",
    "        visited = set()\n",
    "        minCount = float(\"inf\")\n",
    "        for bus in adj[station]:\n",
    "            q = collections.deque([bus])\n",
    "            visited.add(bus)\n",
    "            busCount = 1\n",
    "            flag = True\n",
    "            while q and flag:\n",
    "                for _ in range(len(q)):\n",
    "                    bus = q.popleft()\n",
    "                    for station in routes[bus]:\n",
    "                        if station == target:\n",
    "                            print(busCount)\n",
    "                            if busCount < minCount:\n",
    "                                minCount = busCount\n",
    "                                flag = False\n",
    "                                break\n",
    "\n",
    "                        for nextBus in adj[station]:\n",
    "                            if nextBus not in visited:\n",
    "                                q.append(nextBus)\n",
    "                                visited.add(nextBus)\n",
    "                busCount += 1\n",
    "        return minCount if minCount != float(\"inf\") else -1"
   ]
  },
  {
   "cell_type": "markdown",
   "metadata": {},
   "source": [
    "I can not figure out what is wrong with this code to save my life. I need to get this figured out..."
   ]
  },
  {
   "cell_type": "code",
   "execution_count": null,
   "metadata": {},
   "outputs": [],
   "source": [
    "class Solution:\n",
    "    def numBusesToDestination(self, routes: List[List[int]], source: int, target: int) -> int:\n",
    "        if source == target:\n",
    "            return 0\n",
    "        adj = collections.defaultdict(list)\n",
    "        for route in range(len(routes)):\n",
    "            for stop in routes[route]:\n",
    "                adj[stop].append(route)\n",
    "\n",
    "        visited = set()\n",
    "        q = collections.deque()\n",
    "        minCount = float(\"inf\")\n",
    "        for route in adj[source]:\n",
    "            visited.add(route)\n",
    "            q.append(route)\n",
    "\n",
    "        busCount = 1\n",
    "        flag = True\n",
    "        while q:\n",
    "            for _ in range(len(q)):\n",
    "                route = q.popleft()\n",
    "                for stop in routes[route]:\n",
    "                    if stop == target:\n",
    "                        return busCount\n",
    "\n",
    "                    for nextRoute in adj[stop]:\n",
    "                        if nextRoute not in visited:\n",
    "                            q.append(nextRoute)\n",
    "                            visited.add(nextRoute)\n",
    "            busCount += 1\n",
    "        return -1"
   ]
  },
  {
   "cell_type": "markdown",
   "metadata": {},
   "source": [
    "I came so ridiculously close on my own, and I think this would have been a pass had it been in an interview. I'm excited that hard problems are no longer super intimidating affairs."
   ]
  }
 ],
 "metadata": {
  "language_info": {
   "name": "python"
  }
 },
 "nbformat": 4,
 "nbformat_minor": 2
}
