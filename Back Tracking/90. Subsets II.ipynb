{
 "cells": [
  {
   "cell_type": "markdown",
   "metadata": {},
   "source": [
    "90. Subsets II\n",
    "\n",
    "Medium\n",
    "\n",
    "Companies\n",
    "Given an integer array nums that may contain duplicates, return all possible \n",
    "subsets (the power set).\n",
    "\n",
    "The solution set must not contain duplicate subsets. Return the solution in any order.\n",
    "\n",
    "---\n",
    "\n",
    "Example 1:\n",
    "\n",
    "Input: nums = [1,2,2]\n",
    "Output: [[],[1],[1,2],[1,2,2],[2],[2,2]]\n",
    "Example 2:\n",
    "\n",
    "Input: nums = [0]\n",
    "Output: [[],[0]]\n",
    "\n",
    "---\n",
    "Oberservations:\n",
    "- Main: There is one important difference in this problem where we want to make sure we don't recursively call on values we've already seen. \n",
    "- Current idea is to have a variable that tracks the previously seen value and checks if current value matches\n"
   ]
  },
  {
   "cell_type": "code",
   "execution_count": null,
   "metadata": {},
   "outputs": [],
   "source": [
    "class Solution:\n",
    "    def subsetsWithDup(self, nums: List[int]) -> List[List[int]]:\n",
    "        solutions = []\n",
    "        nums.sort()\n",
    "        def dfs(solution, index):\n",
    "            # immediately append passed in solution\n",
    "            solutions.append(solution.copy())\n",
    "            # keep track of previous values\n",
    "            prev = set()\n",
    "            for i in range(index,len(nums)):\n",
    "                val = nums[i]\n",
    "                if val not in prev:\n",
    "                    prev.add(val)\n",
    "                    solution.append(val)\n",
    "                    dfs(solution, i + 1)\n",
    "                    solution.pop()\n",
    "        dfs([],0)\n",
    "        return solutions\n"
   ]
  },
  {
   "cell_type": "markdown",
   "metadata": {},
   "source": [
    "Once again solved this entire problem on my own. Killing this type of problem and prove to myself that I have what it takes to be a good coder when I choose to put in the hard work. The time complexity is O(2^n)"
   ]
  }
 ],
 "metadata": {
  "language_info": {
   "name": "python"
  },
  "orig_nbformat": 4
 },
 "nbformat": 4,
 "nbformat_minor": 2
}
