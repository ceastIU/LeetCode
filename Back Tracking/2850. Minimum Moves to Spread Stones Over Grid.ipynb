{
 "cells": [
  {
   "cell_type": "markdown",
   "metadata": {},
   "source": [
    "2850. Minimum Moves to Spread Stones Over Grid\n",
    "\n",
    "Medium\n",
    "\n",
    "You are given a 0-indexed 2D integer matrix grid of size 3 * 3, representing the number of stones in each cell. The grid contains exactly 9 stones, and there can be multiple stones in a single cell.\n",
    "\n",
    "In one move, you can move a single stone from its current cell to any other cell if the two cells share a side.\n",
    "\n",
    "Return the minimum number of moves required to place one stone in each cell."
   ]
  },
  {
   "cell_type": "code",
   "execution_count": null,
   "metadata": {},
   "outputs": [],
   "source": [
    "from collections import deque\n",
    "class Solution:\n",
    "    def minimumMoves(self, grid: List[List[int]]) -> int:\n",
    "        rows, cols = len(grid), len(grid[0])\n",
    "        def bfs(i,j):\n",
    "            q = deque([(i,j)])\n",
    "            dist = 1\n",
    "            visited = set()\n",
    "            while q:\n",
    "                qLen = len(q)\n",
    "                for _ in range(qLen):\n",
    "                    x, y = q.popleft()\n",
    "                    visited.add((x,y))\n",
    "                    for dx, dy in [(-1,0),(1,0),(0,-1),(0,1)]:\n",
    "                        xx, yy = x + dx, y + dy\n",
    "                        if (0 <= xx < rows and 0 <= yy < cols) and (xx, yy) not in visited:\n",
    "                            if grid[xx][yy] >    1:\n",
    "                                grid[xx][yy] -= 1\n",
    "                                grid[i][j] = 1\n",
    "                                return dist\n",
    "                            else:\n",
    "                                q.append((xx,yy))\n",
    "                dist += 1\n",
    "            \n",
    "        total = 0\n",
    "        for i in range(rows):\n",
    "            for j in range(cols):\n",
    "                if grid[i][j] == 0:\n",
    "                    total += bfs(i,j)\n",
    "        return total"
   ]
  }
 ],
 "metadata": {
  "language_info": {
   "name": "python"
  },
  "orig_nbformat": 4
 },
 "nbformat": 4,
 "nbformat_minor": 2
}
