{
 "cells": [
  {
   "cell_type": "markdown",
   "metadata": {},
   "source": [
    "377. Combination Sum IV\n",
    "Medium\n",
    "6.8K\n",
    "621\n",
    "Companies\n",
    "Given an array of distinct integers nums and a target integer target, return the number of possible combinations that add up to target.\n",
    "\n",
    "The test cases are generated so that the answer can fit in a 32-bit integer.\n",
    "\n",
    "---\n",
    "Observations:\n",
    "I've solved several problems like this before, just got to figure this out!"
   ]
  },
  {
   "cell_type": "code",
   "execution_count": null,
   "metadata": {},
   "outputs": [],
   "source": [
    "class Solution:\n",
    "    def combinationSum4(self, nums: List[int], target: int) -> int:\n",
    "        solutions = []\n",
    "        def dfs(solution, target):\n",
    "            if target == 0:\n",
    "                print(solution)\n",
    "                solutions.append(solution[::])\n",
    "                return\n",
    "            for i in nums:\n",
    "                if target - i >= 0:\n",
    "                    solution.append(i)\n",
    "                    dfs(solution,target-i)\n",
    "                    solution.pop()\n",
    "        dfs([],target)\n",
    "        return len(solutions)"
   ]
  },
  {
   "cell_type": "markdown",
   "metadata": {},
   "source": [
    "The above solution work sort of but couldn't finish in time. Therefore I needed a different approach that used memo as seen below!"
   ]
  },
  {
   "cell_type": "code",
   "execution_count": null,
   "metadata": {},
   "outputs": [],
   "source": [
    "class Solution:\n",
    "    def combinationSum4(self, nums: List[int], target: int) -> int:\n",
    "        nums.sort()\n",
    "        memo = {}\n",
    "        def dfs(target):\n",
    "            if target in memo:\n",
    "                return memo[target]\n",
    "            if target == 0:\n",
    "                return 1\n",
    "            if target < nums[0]:\n",
    "                return 0\n",
    "            count = 0\n",
    "            for i in nums:\n",
    "                if target - i < 0:\n",
    "                    break\n",
    "                count += dfs(target-i)\n",
    "            memo[target] = count\n",
    "            return count\n",
    "        \n",
    "        return dfs(target)"
   ]
  }
 ],
 "metadata": {
  "language_info": {
   "name": "python"
  },
  "orig_nbformat": 4
 },
 "nbformat": 4,
 "nbformat_minor": 2
}
