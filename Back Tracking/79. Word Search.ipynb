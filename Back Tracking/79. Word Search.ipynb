{
 "cells": [
  {
   "cell_type": "markdown",
   "metadata": {},
   "source": [
    "79. Word Search\n",
    "\n",
    "Medium\n",
    "\n",
    "Given an m x n grid of characters board and a string word, return true if word exists in the grid.\n",
    "\n",
    "The word can be constructed from letters of sequentially adjacent cells, where adjacent cells are horizontally or vertically neighboring. The same letter cell may not be used more than once.\n",
    "\n",
    "---\n",
    "\n",
    "This was a really fun problem, and I had the correct idea, I just needed a different approach to keeping track of the path we had traversed. Originally I was marking cells as 0 when visited because we didn't want to reuse cells we had already visited. However, at first this failed because it was making permenant changes to the board. Therefore I had to change it to a deep copy. This appraoch sorta of worked, but I realized I need to create an even deeper copy to then pass futher down to the recursion. This idea mostly worked, but failed to execute within the allotated time.\n",
    "\n",
    "The solution was using a set to represent the path we have traveled and passing that down to the children of the recursion. So let's recreate that solution"
   ]
  },
  {
   "cell_type": "code",
   "execution_count": null,
   "metadata": {},
   "outputs": [],
   "source": [
    "class Solution:\n",
    "    def exist(self, board: List[List[str]], word: str) -> bool: \n",
    "        def dfs(cor,index,path):\n",
    "            # firstly, check if passed in cor is in the path already\n",
    "            if cor in path:\n",
    "                return False\n",
    "            # check to see the passed in index is the length of the word\n",
    "            if index == len(word):\n",
    "                return True\n",
    "            \n",
    "            # since the current cordinate is not in the path, add it to the path\n",
    "            path.add(cor)\n",
    "            # start the process of running through the assigned directions\n",
    "            directions = [(-1,0),(1,0),(0,-1),(0,1)]\n",
    "            flag = False\n",
    "            row,col = cor\n",
    "            for xx, yy in directions:\n",
    "                rowIdx = row + xx\n",
    "                colIdx = col + yy\n",
    "                if 0 <= rowIdx < len(board) and 0 <= colIdx < len(board[0]):\n",
    "                    val = board[rowIdx][colIdx]\n",
    "                    if val == word[index]:\n",
    "                        flag = flag or dfs((rowIdx,colIdx), index + 1,path)\n",
    "            path.remove(cor)\n",
    "            return flag\n",
    "        \n",
    "        # time to do the actual part of passing over the tree\n",
    "        rows = len(board)\n",
    "        cols = len(board[0])\n",
    "        for row in range(rows):\n",
    "            for col in range(cols):\n",
    "                val = board[row][col]\n",
    "                if val == word[0]:\n",
    "                    path = set()\n",
    "                    if dfs((row,col),1,path):\n",
    "                        return True\n",
    "        return False\n",
    "\n",
    "\n",
    "\n"
   ]
  },
  {
   "cell_type": "markdown",
   "metadata": {},
   "source": [
    "Overall I am proud of how I handled that problem and how close I was able to get to the solution on my own. With a important hint, I was able to fully construct the corrected solution. The time complexity of this code would O(N * 4^L), where N is the number of cells in the board, l is the length of the word, and 4 is the number of directions we are searching. "
   ]
  }
 ],
 "metadata": {
  "language_info": {
   "name": "python"
  },
  "orig_nbformat": 4
 },
 "nbformat": 4,
 "nbformat_minor": 2
}
