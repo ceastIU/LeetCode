{
 "cells": [
  {
   "cell_type": "markdown",
   "metadata": {},
   "source": [
    "337. House Robber III\n",
    "\n",
    "Medium\n",
    "\n",
    "The thief has found himself a new place for his thievery again. There is only one entrance to this area, called root.\n",
    "\n",
    "Besides the root, each house has one and only one parent house. After a tour, the smart thief realized that all houses in this place form a binary tree. It will automatically contact the police if two directly-linked houses were broken into on the same night.\n",
    "\n",
    "Given the root of the binary tree, return the maximum amount of money the thief can rob without alerting the police.\n",
    "\n",
    "---\n",
    "\n",
    "Observation:\n",
    "The key idea here is this idea of passing up the recursive tree both with root and without root. This allows us to then calculate the maximum we can steal. Because as I learned the first time I attempted this problem: we can not just do a level order traversal, we can choose to pick a node twice in a row.\n"
   ]
  },
  {
   "cell_type": "code",
   "execution_count": null,
   "metadata": {},
   "outputs": [],
   "source": [
    "class Solution:\n",
    "    def rob(self, root: Optional[TreeNode]) -> int:\n",
    "        def dfs(root):\n",
    "            # Base Case: Not root\n",
    "            if not root:\n",
    "                return [0,0]\n",
    "            # else calculate the left and right sides\n",
    "            left = dfs(root.left) # this returns two values [with and without]\n",
    "            right = dfs(root.right) # this also returns two values\n",
    "            \n",
    "            # calcute the value with root\n",
    "            # must use without root value of the previous subtrees because we are not allowed to steal twice\n",
    "            withRoot = root.val + left[1] + right[1]\n",
    "\n",
    "            # calculate the value without root\n",
    "            # Now we can take the max value of taking either the root or double not taking the root\n",
    "            withoutRoot = max(left) + max(right)\n",
    "            return [withRoot,withoutRoot]\n",
    "        return max(dfs(root))"
   ]
  },
  {
   "cell_type": "markdown",
   "metadata": {},
   "source": [
    "This is a fun problem, but I needed a ton of extra help solving the problem by refreshing my memory of the exact way the problem was solved. This isn't great review as I didn't remember how to solve it on my own. I'm guess the time complexity is the height of the tree. I was wrong, the time comlexity is O(n). As we have to visit every node once."
   ]
  }
 ],
 "metadata": {
  "language_info": {
   "name": "python"
  },
  "orig_nbformat": 4
 },
 "nbformat": 4,
 "nbformat_minor": 2
}
