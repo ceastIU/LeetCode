{
 "cells": [
  {
   "cell_type": "markdown",
   "metadata": {},
   "source": [
    "216. Combination Sum III\n",
    "\n",
    "Medium\n",
    "\n",
    "Find all valid combinations of k numbers that sum up to n such that the following conditions are true:\n",
    "\n",
    "Only numbers 1 through 9 are used.\n",
    "Each number is used at most once.\n",
    "Return a list of all possible valid combinations. The list must not contain the same combination twice, and the combinations may be returned in any order.\n",
    "\n",
    "---\n",
    "\n",
    "Example 1:\n",
    "\n",
    "Input: k = 3, n = 7\n",
    "Output: [[1,2,4]]\n",
    "Explanation:\n",
    "1 + 2 + 4 = 7\n",
    "There are no other valid combinations.\n",
    "\n",
    "---\n",
    "Relatively easy problem, only needed a few modifications inorder to solve the problem."
   ]
  },
  {
   "cell_type": "code",
   "execution_count": null,
   "metadata": {},
   "outputs": [],
   "source": [
    "class Solution:\n",
    "    def combinationSum3(self, k: int, n: int) -> List[List[int]]:\n",
    "        solutions = []\n",
    "        def dfs(solution, index, curSum):\n",
    "            if len(solution) == k and curSum == n:\n",
    "                solutions.append(solution[::])\n",
    "                return\n",
    "            for i in range(index,10):\n",
    "                if i + curSum <= n:\n",
    "                    solution.append(i)\n",
    "                    dfs(solution,i+1,curSum+i)\n",
    "                    solution.pop()\n",
    "                else:\n",
    "                    break\n",
    "        dfs([], 1, 0)\n",
    "        return solutions"
   ]
  },
  {
   "cell_type": "markdown",
   "metadata": {},
   "source": [
    "Big O(9^k), remember these problems are binded by the number of choices we make pre-level to the exponent of the length we are searching for\n",
    "Big O(k), once again the recursion depth that goes to the level of the length we are search for, in this case k"
   ]
  }
 ],
 "metadata": {
  "language_info": {
   "name": "python"
  },
  "orig_nbformat": 4
 },
 "nbformat": 4,
 "nbformat_minor": 2
}
