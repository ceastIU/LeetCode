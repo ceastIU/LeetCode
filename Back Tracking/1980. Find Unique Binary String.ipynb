{
 "cells": [
  {
   "cell_type": "markdown",
   "metadata": {},
   "source": [
    "1980. Find Unique Binary String\n",
    "\n",
    "Medium\n",
    "\n",
    "Given an array of strings nums containing n unique binary strings each of length n, return a binary string of length n that does not appear in nums. If there are multiple answers, you may return any of them.\n",
    "\n",
    "---\n",
    "\n",
    "Example 1:\n",
    "\n",
    "Input: nums = [\"01\",\"10\"]\n",
    "Output: \"11\"\n",
    "Explanation: \"11\" does not appear in nums. \"00\" would also be correct.\n",
    "\n",
    "Example 2:\n",
    "\n",
    "Input: nums = [\"00\",\"01\"]\n",
    "Output: \"11\"\n",
    "Explanation: \"11\" does not appear in nums. \"10\" would also be correct.\n",
    "\n",
    "---\n",
    "Observations:\n",
    "- This is a super simple problem that has you generate all possible binary strings, then compare those newly generated strings to the passed in nums list"
   ]
  },
  {
   "cell_type": "code",
   "execution_count": null,
   "metadata": {},
   "outputs": [],
   "source": []
  }
 ],
 "metadata": {
  "language_info": {
   "name": "python"
  },
  "orig_nbformat": 4
 },
 "nbformat": 4,
 "nbformat_minor": 2
}
