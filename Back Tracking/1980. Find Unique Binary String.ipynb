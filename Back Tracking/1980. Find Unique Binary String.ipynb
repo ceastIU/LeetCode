{
 "cells": [
  {
   "cell_type": "markdown",
   "metadata": {},
   "source": [
    "1980. Find Unique Binary String\n",
    "\n",
    "Medium\n",
    "\n",
    "Given an array of strings nums containing n unique binary strings each of length n, return a binary string of length n that does not appear in nums. If there are multiple answers, you may return any of them.\n",
    "\n",
    "---\n",
    "\n",
    "Example 1:\n",
    "\n",
    "Input: nums = [\"01\",\"10\"]\n",
    "Output: \"11\"\n",
    "Explanation: \"11\" does not appear in nums. \"00\" would also be correct.\n",
    "\n",
    "Example 2:\n",
    "\n",
    "Input: nums = [\"00\",\"01\"]\n",
    "Output: \"11\"\n",
    "Explanation: \"11\" does not appear in nums. \"10\" would also be correct.\n",
    "\n",
    "---\n",
    "Observations:\n",
    "- This is a super simple problem that has you generate all possible binary strings, then compare those newly generated strings to the passed in nums list"
   ]
  },
  {
   "cell_type": "code",
   "execution_count": null,
   "metadata": {},
   "outputs": [],
   "source": [
    "class Solution:\n",
    "    def findDifferentBinaryString(self, nums: List[str]) -> str:\n",
    "        # global list to hold our single correct answer\n",
    "        solutions = []\n",
    "\n",
    "        # This is a Depth-First-Search function that generates all binary strings to\n",
    "        # length of the values in nums\n",
    "        # Value is the binary string we are building (*Note: this is initialized to \"\"\n",
    "        # below)\n",
    "        def dfs(value):\n",
    "            # if the length of the built string value equals the length of the first \n",
    "            # value in nums (i.e. \"001\"), we check to see if the value is in nums\n",
    "            if len(value) == len(nums[0]):\n",
    "                # If the value IS NOT in nums, then we append it to the solution and \n",
    "                # return true\n",
    "                if value not in nums:\n",
    "                    solutions.append(value)\n",
    "                    return True\n",
    "                \n",
    "                # Otherwise return False to prevent fruther string generation\n",
    "                else:\n",
    "                    return False\n",
    "            \n",
    "            # this is a simple for loop that iterates over the two possible options:\n",
    "            # 0 or 1. Each loop will add 0, then 1 to the current value, then pass this \n",
    "            # to the recursive call\n",
    "            for i in \"01\":\n",
    "\n",
    "                # if DFS returns true, we know we have a valid solution so return to break\n",
    "                # the recusive call stack\n",
    "                if dfs(value+i):\n",
    "                    return True\n",
    "                    \n",
    "        # Start the dfs by passing in an empty string \n",
    "        dfs(\"\")\n",
    "\n",
    "        # return the first and only solution in the global solution list\n",
    "        return solutions[0]\n"
   ]
  },
  {
   "cell_type": "markdown",
   "metadata": {},
   "source": [
    "The big O complexity is O(2^n). There are two choices to make at each level, and n is the length of the string we need to generate\n",
    "The space complexity is O(n). This is the depth of the recusive stack that is at most the length of the binary strings."
   ]
  }
 ],
 "metadata": {
  "language_info": {
   "name": "python"
  },
  "orig_nbformat": 4
 },
 "nbformat": 4,
 "nbformat_minor": 2
}
