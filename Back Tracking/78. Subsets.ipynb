{
 "cells": [
  {
   "cell_type": "markdown",
   "metadata": {},
   "source": [
    "78. Subsets\n",
    "\n",
    "Medium\n",
    "\n",
    "Companies\n",
    "Given an integer array nums of unique elements, return all possible \n",
    "subsets (the power set).\n",
    "\n",
    "The solution set must not contain duplicate subsets. Return the solution in any order.\n",
    "\n",
    "Example 1:\n",
    "\n",
    "Input: nums = [1,2,3]\n",
    "Output: [[],[1],[2],[1,2],[3],[1,3],[2,3],[1,2,3]]\n",
    "\n",
    "Example 2:\n",
    "\n",
    "Input: nums = [0]\n",
    "Output: [[],[0]]\n",
    "\n",
    "---\n",
    "\n",
    "I have to study a lot of different resources to understand how to solve these kinds of problems. \n",
    "\n",
    "Pattern:\n",
    "- create dfs function, pass in working array, and index of last placed item\n",
    "- immediately append the passed in array to result\n",
    "- iterate from index to len(nums)\n",
    "- each time recusively calling the function based on last element placed"
   ]
  },
  {
   "cell_type": "code",
   "execution_count": null,
   "metadata": {},
   "outputs": [],
   "source": [
    "class Solution:\n",
    "    def subsets(self, nums: List[int]) -> List[List[int]]:\n",
    "        solutions = []\n",
    "        def dfs(solution,index):\n",
    "            solutions.append(solution)\n",
    "            for i in range(index,len(nums)):\n",
    "                temp = solution + [nums[i]]\n",
    "                dfs(temp,i+1)\n",
    "        dfs([],0)\n",
    "        return solutions"
   ]
  },
  {
   "cell_type": "markdown",
   "metadata": {},
   "source": [
    "I can't believe I actually fucking did it all on my own. With a simple video that explained the concept I was able to solve that problem completely on my own! \n",
    "I am so happy right now, and this helps me feel more confident about my abilities to be a programmer!"
   ]
  }
 ],
 "metadata": {
  "language_info": {
   "name": "python"
  },
  "orig_nbformat": 4
 },
 "nbformat": 4,
 "nbformat_minor": 2
}
