{
 "cells": [
  {
   "cell_type": "markdown",
   "metadata": {},
   "source": [
    "40. Combination Sum II\n",
    "\n",
    "Medium\n",
    "\n",
    "Companies\n",
    "Given a collection of candidate numbers (candidates) and a target number (target), find all unique combinations in candidates where the candidate numbers sum to target.\n",
    "\n",
    "Each number in candidates may only be used once in the combination.\n",
    "\n",
    "Note: The solution set must not contain duplicate combinations.\n",
    "\n",
    "---\n",
    "\n",
    "Example 1:\n",
    "\n",
    "Input: candidates = [10,1,2,7,6,1,5], target = 8\n",
    "Output: \n",
    "[\n",
    "[1,1,6],\n",
    "[1,2,5],\n",
    "[1,7],\n",
    "[2,6]\n",
    "]\n",
    "\n",
    "---\n",
    "Observations: \n",
    "- Main: This is a very similar problem to Combinations Sum 1. However, this time values are only allowed to be used once\n",
    "        in my opinion this makes the problem easier.\n",
    "- Start with sorting the values which will be O(n log n)\n",
    "- "
   ]
  },
  {
   "cell_type": "code",
   "execution_count": null,
   "metadata": {},
   "outputs": [],
   "source": [
    "class Solution:\n",
    "    def combinationSum2(self, candidates: List[int], target: int) -> List[List[int]]:\n",
    "        solutions = []\n",
    "        candidates.sort()\n",
    "        def dfs(solution, curSum, index):\n",
    "            if curSum == target:\n",
    "                solutions.append(solution.copy())\n",
    "                return\n",
    "            elif index == len(candidates) or candidates[index] > target - curSum:\n",
    "                return\n",
    "            else:\n",
    "                prev = set()\n",
    "                for i in range(index,len(candidates)):\n",
    "                    val = candidates[i]\n",
    "                    if val not in prev:\n",
    "                        temp = curSum + val\n",
    "                        prev.add(val)\n",
    "                        if temp <= target:\n",
    "                            solution.append(val)\n",
    "                            dfs(solution,temp,i+1)\n",
    "                            solution.pop()\n",
    "        dfs([],0,0)\n",
    "        return solutions"
   ]
  },
  {
   "cell_type": "markdown",
   "metadata": {},
   "source": [
    "I was able to solve this problem with minimal decoding. There was one important aspect that I forgot to add that built off subsets II, which was the duplicate values. Because I wasn't at first keeping a set of previously seen values, I was recreating valid solutions. This was solved by making sure I was recursively calling dfs on values I had already seen in the candidates list. "
   ]
  }
 ],
 "metadata": {
  "language_info": {
   "name": "python"
  },
  "orig_nbformat": 4
 },
 "nbformat": 4,
 "nbformat_minor": 2
}
