{
 "cells": [
  {
   "cell_type": "markdown",
   "metadata": {},
   "source": [
    "77. Combinations\n",
    "\n",
    "Medium\n",
    "\n",
    "Given two integers n and k, return all possible combinations of k numbers chosen from the range [1, n].\n",
    "\n",
    "You may return the answer in any order.\n",
    "\n",
    "---\n",
    "\n",
    "Example 1:\n",
    "\n",
    "Input: n = 4, k = 2\n",
    "Output: [[1,2],[1,3],[1,4],[2,3],[2,4],[3,4]]\n",
    "Explanation: There are 4 choose 2 = 6 total combinations.\n",
    "Note that combinations are unordered, i.e., [1,2] and [2,1] are considered to be the same combination.\n",
    "\n",
    "---\n",
    "Observations:\n",
    "- [1,2] and [2,1] are considered to be the same combination\n",
    "- very similar structure to 78. subsets, will most likely use a similar technique to solve this problem\n",
    "- k limits the size of the of values in a valid solution\n",
    "- Time to draw things out"
   ]
  },
  {
   "cell_type": "code",
   "execution_count": null,
   "metadata": {},
   "outputs": [],
   "source": [
    "class Solution:\n",
    "    def combine(self, n: int, k: int) -> List[List[int]]:\n",
    "        solutions = []\n",
    "        def dfs(solution,index):\n",
    "            solLen = len(solution)\n",
    "            if solLen == k:\n",
    "                solutions.append(solution.copy())\n",
    "            else:\n",
    "                for i in range(index, (n + 1) - (k - solLen)+1):\n",
    "                    solution.append(i)\n",
    "                    dfs(solution,i+1)\n",
    "                    solution.pop()\n",
    "        dfs([],1)\n",
    "        return solutions"
   ]
  },
  {
   "cell_type": "markdown",
   "metadata": {},
   "source": [
    "Another problem I was able to solve entirely on my own. With further optimizations I got from neetcode. As for the time complexity it would be O(n! / (k! * (n - k)!))\n",
    "This is a time complexity I must learn and remember."
   ]
  }
 ],
 "metadata": {
  "language_info": {
   "name": "python"
  },
  "orig_nbformat": 4
 },
 "nbformat": 4,
 "nbformat_minor": 2
}
