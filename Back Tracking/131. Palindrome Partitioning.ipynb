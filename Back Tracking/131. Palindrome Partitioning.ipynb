{
 "cells": [
  {
   "cell_type": "markdown",
   "metadata": {},
   "source": [
    "131. Palindrome Partitioning\n",
    "\n",
    "Medium\n",
    "\n",
    "Given a string s, partition s such that every substring of the partition is a palindrome\n",
    ". Return all possible palindrome partitioning of s.\n",
    "\n",
    "---\n",
    "\n",
    "This is the hardest backtracking problem I've faced so far. The key is the is idea of creating every subset of a string and then checking if that is a palindrome. Once you reach the end you append the passed down solution to the result.\n"
   ]
  },
  {
   "cell_type": "code",
   "execution_count": null,
   "metadata": {},
   "outputs": [],
   "source": [
    "class Solution:\n",
    "    def partition(self, s: str) -> List[List[str]]:\n",
    "        def isPal(s):\n",
    "            if len(s) == 1:\n",
    "                return True\n",
    "            l,r = 0,len(s) -1\n",
    "            while l <= r:\n",
    "                if s[l] != s[r]:\n",
    "                    return False\n",
    "                l += 1\n",
    "                r -= 1\n",
    "            return True\n",
    "        \n",
    "        solutions = []\n",
    "        # we have a dfs that is passed:\n",
    "        # current solution, remaining characters\n",
    "        def dfs(solution, remaining):\n",
    "            if len(remaining) == 0:\n",
    "                solutions.append(solution)\n",
    "            # this is where the slicing comes into play\n",
    "            for i in range(1,len(s)):\n",
    "                section = s[:i]\n",
    "                remaining = s[i:]\n",
    "                if isPal(section):\n",
    "                    temp = solution + [section]\n",
    "                    dfs(temp,remaining)\n",
    "        dfs([],s)\n",
    "        return solutions"
   ]
  }
 ],
 "metadata": {
  "language_info": {
   "name": "python"
  },
  "orig_nbformat": 4
 },
 "nbformat": 4,
 "nbformat_minor": 2
}
