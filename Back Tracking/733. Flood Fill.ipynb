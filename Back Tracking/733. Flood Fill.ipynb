{
 "cells": [
  {
   "cell_type": "markdown",
   "metadata": {},
   "source": [
    "733. Flood Fill\n",
    "\n",
    "Easy\n",
    "\n",
    "An image is represented by an m x n integer grid image where image[i][j] represents the pixel value of the image.\n",
    "\n",
    "You are also given three integers sr, sc, and color. You should perform a flood fill on the image starting from the pixel image[sr][sc].\n",
    "\n",
    "To perform a flood fill, consider the starting pixel, plus any pixels connected 4-directionally to the starting pixel of the same color as the starting pixel, plus any pixels connected 4-directionally to those pixels (also with the same color), and so on. Replace the color of all of the aforementioned pixels with color.\n",
    "\n",
    "Return the modified image after performing the flood fill.\n",
    "\n",
    "---\n",
    "\n",
    "This is a perfect easy backtracking problem. Going to solve with recursion."
   ]
  },
  {
   "cell_type": "code",
   "execution_count": null,
   "metadata": {},
   "outputs": [],
   "source": [
    "class Solution:\n",
    "    def floodFill(self, image: List[List[int]], sr: int, sc: int, color: int) -> List[List[int]]:\n",
    "        def dfs(cor, original):\n",
    "            row, col = cor\n",
    "            directions = [(-1,0),(1,0),(0,-1),(0,1)]\n",
    "            for xx, yy in directions:\n",
    "                rowIdx = row + xx\n",
    "                colIdx = col + yy\n",
    "                if 0 <= rowIdx < len(image) and 0 <= colIdx < len(image[0]):\n",
    "                    if image[rowIdx][colIdx] == original:\n",
    "                        image[rowIdx][colIdx] = color \n",
    "                        dfs((rowIdx,colIdx),original)\n",
    "        original = image[sr][sc]\n",
    "        if original != color:  # No need to continue if the color is the same\n",
    "            image[sr][sc] = color\n",
    "            dfs((sr, sc), original)\n",
    "        return image"
   ]
  },
  {
   "cell_type": "markdown",
   "metadata": {},
   "source": [
    "Definitely an easier problem now that I have practiced these backtracking problems. The only hang up was making sure I was paying attention to the starting conditions of the program. I.e. if the starting pixel is already the color we want. "
   ]
  }
 ],
 "metadata": {
  "language_info": {
   "name": "python"
  },
  "orig_nbformat": 4
 },
 "nbformat": 4,
 "nbformat_minor": 2
}
