{
 "cells": [
  {
   "cell_type": "markdown",
   "metadata": {},
   "source": [
    "17. Letter Combinations of a Phone Number\n",
    "\n",
    "Medium\n",
    "\n",
    "Given a string containing digits from 2-9 inclusive, return all possible letter combinations that the number could represent. Return the answer in any order.\n",
    "\n",
    "A mapping of digits to letters (just like on the telephone buttons) is given below. Note that 1 does not map to any letters.\n",
    "\n",
    "---\n",
    "\n",
    "Example 1:\n",
    "\n",
    "Input: digits = \"23\"\n",
    "Output: [\"ad\",\"ae\",\"af\",\"bd\",\"be\",\"bf\",\"cd\",\"ce\",\"cf\"]\n",
    "\n",
    "---\n",
    "\n",
    "Observations:\n",
    "- This seems to be an easier backtracking problem\n",
    "- the order of the numbers matter\n"
   ]
  },
  {
   "cell_type": "code",
   "execution_count": null,
   "metadata": {},
   "outputs": [],
   "source": [
    "class Solution:\n",
    "    def letterCombinations(self, digits: str) -> List[str]:\n",
    "        mapping = {2:[\"abc\"], 3:[\"def\"],4:[\"ghi\"],5:[\"jkl\"],6:[\"mno\"],7:[\"pqrs\"],8:[\"tuv\"],9:[\"wxyz\"]}\n",
    "        solutions = []\n",
    "        def dfs(solution,remaining):\n",
    "            if remaining == \"\":\n",
    "                solutions.append(\"\".join(solution))\n",
    "                return\n",
    "            current = int(remaining[0])\n",
    "            mapped = mapping[current]\n",
    "            for i in mapped[0]:\n",
    "                solution.append(i)\n",
    "                dfs(solution,remaining[1:])\n",
    "                solution.pop()\n",
    "        if len(digits) == 0:\n",
    "            return []\n",
    "        dfs([],digits)\n",
    "        return solutions\n"
   ]
  },
  {
   "cell_type": "markdown",
   "metadata": {},
   "source": [
    "This was a pretty easy problem to solve despite it looking intense at first. A hang up of mine was forgetting to return after the base case, and forgetting to index into the mapping. O(3^N * 4^M) and O(N)."
   ]
  }
 ],
 "metadata": {
  "language_info": {
   "name": "python"
  },
  "orig_nbformat": 4
 },
 "nbformat": 4,
 "nbformat_minor": 2
}
