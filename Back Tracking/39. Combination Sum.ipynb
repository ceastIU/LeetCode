{
 "cells": [
  {
   "cell_type": "markdown",
   "metadata": {},
   "source": [
    "39. Combination Sum\n",
    "\n",
    "Medium\n",
    "\n",
    "Given an array of distinct integers candidates and a target integer target, return a list of all unique combinations of candidates where the chosen numbers sum to target. You may return the combinations in any order.\n",
    "\n",
    "The same number may be chosen from candidates an unlimited number of times. Two combinations are unique if the \n",
    "frequency\n",
    " of at least one of the chosen numbers is different.\n",
    "\n",
    "The test cases are generated such that the number of unique combinations that sum up to target is less than 150 combinations for the given input.\n",
    "\n",
    "---\n",
    "\n",
    "Example 1:\n",
    "\n",
    "Input: candidates = [2,3,6,7], target = 7\n",
    "Output: [[2,2,3],[7]]\n",
    "Explanation:\n",
    "2 and 3 are candidates, and 2 + 2 + 3 = 7. Note that 2 can be used multiple times.\n",
    "7 is a candidate, and 7 = 7.\n",
    "These are the only two combinations.\n",
    "Example 2:\n",
    "\n",
    "Input: candidates = [2,3,5], target = 8\n",
    "Output: [[2,2,2,2],[2,3,3],[3,5]]\n",
    "\n",
    "---\n",
    "Obersvations:\n",
    "1. Values can be used more than once in the search space\n",
    "2. We need to find ways to bound the results to cut out extra work\n",
    "3. recursive DFS\n",
    "4. candiates will be have to be chosen in creative ways\n",
    "5. passing in candiates along with indexes, and prehaps current sum\n",
    "6. I need the solution path as well, so that must be passed into the dfs as well\n",
    "7. not return anything up the tree, just making futher recursive calls"
   ]
  },
  {
   "cell_type": "code",
   "execution_count": null,
   "metadata": {},
   "outputs": [],
   "source": [
    "class Solution:\n",
    "    def combinationSum(self, candidates: List[int], target: int) -> List[List[int]]:\n",
    "        solutions = []\n",
    "        candidates.sort()\n",
    "        def dfs(solution, curSum, index):\n",
    "            # creative bounding preformed on candidates list\n",
    "            if curSum == target:\n",
    "                solutions.append(solution)\n",
    "            # so we have made it to this point we have both a sum that is less than target\n",
    "            # and a current index. Let's bound this by checking val against the difference in \n",
    "            # target - curSum\n",
    "            elif target - curSum < candidates[index]:\n",
    "                # do nothing\n",
    "                # this is true because of the increasing order of the values\n",
    "                # there will be only larger values after index i\n",
    "                pass\n",
    "            else:\n",
    "                # iterate across the remaining numbers\n",
    "                for i in range(index,len(candidates)):\n",
    "                    val = candidates[i]\n",
    "                    if curSum + val <= target:\n",
    "                        temp = solution + [candidates[i]]\n",
    "                        tempSum = curSum + val\n",
    "                        dfs(temp,tempSum,i)         \n",
    "\n",
    "        dfs([],0,0)\n",
    "        return solutions\n",
    "            \n",
    "\n"
   ]
  },
  {
   "cell_type": "markdown",
   "metadata": {},
   "source": [
    "I once again solve a medium problem completely on my own with very little debugging of the code. In fact my code initially work for half the test cases. As for my time complexity it is O(nlogn) + O(n*n^2) [* O(n*n^2) is the general case for backtracking *]"
   ]
  }
 ],
 "metadata": {
  "language_info": {
   "name": "python"
  },
  "orig_nbformat": 4
 },
 "nbformat": 4,
 "nbformat_minor": 2
}
