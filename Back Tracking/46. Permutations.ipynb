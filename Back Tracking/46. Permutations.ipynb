{
 "cells": [
  {
   "cell_type": "markdown",
   "metadata": {},
   "source": [
    "46. Permutations\n",
    "\n",
    "Medium\n",
    "\n",
    "Given an array nums of distinct integers, return all the possible permutations. You can return the answer in any order.\n",
    "\n",
    "---\n",
    "\n",
    "Example 1:\n",
    "\n",
    "Input: nums = [1,2,3]\n",
    "\n",
    "Output: [[1,2,3],[1,3,2],[2,1,3],[2,3,1],[3,1,2],[3,2,1]]\n",
    "\n",
    "Example 2:\n",
    "\n",
    "Input: nums = [0,1]\n",
    "\n",
    "Output: [[0,1],[1,0]]\n",
    "\n",
    "---\n",
    "I have not solved this problem, but it should be as do-able as the rest. \n",
    "Observations:\n",
    "1. an array nums of distinct integers, this is important because there are no duplicates\n",
    "Pattern:\n",
    "- Iterate through the array\n",
    "- Create a temp copy, pop the i-th value\n",
    "- place i-th val into res\n",
    "- pass res and remaining values into a recursive call"
   ]
  },
  {
   "cell_type": "code",
   "execution_count": null,
   "metadata": {},
   "outputs": [],
   "source": [
    "class Solution:\n",
    "    def permute(self, nums: List[int]) -> List[List[int]]:\n",
    "        solutions = []\n",
    "        def dfs(cur,remaining):\n",
    "            if len(remaining) == 0:\n",
    "                solutions.append(cur[::])\n",
    "            for i in range(len(remaining)):\n",
    "                temp = remaining[::]\n",
    "                val = temp.pop(i)\n",
    "                cur.append(val)\n",
    "                dfs(cur,temp)\n",
    "                cur.pop()\n",
    "        dfs([],nums)\n",
    "        return solutions"
   ]
  },
  {
   "cell_type": "markdown",
   "metadata": {},
   "source": [
    "I was able to mostly solve it without any issues at all, besides forgetting to create a shallow copy of cur before appending it. The time complexity for generating permutations is O(n!) (n factioral), this is an inherent property of creating premutations. This is true because there is no other work being done of the generates of permutations like n choose k."
   ]
  }
 ],
 "metadata": {
  "language_info": {
   "name": "python"
  },
  "orig_nbformat": 4
 },
 "nbformat": 4,
 "nbformat_minor": 2
}
