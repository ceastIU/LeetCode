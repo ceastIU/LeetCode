{
 "cells": [
  {
   "cell_type": "markdown",
   "metadata": {},
   "source": [
    "47. Permutations II\n",
    "\n",
    "Medium\n",
    "\n",
    "Given a collection of numbers, nums, that might contain duplicates, return all possible unique permutations in any order.\n",
    "\n",
    "---\n",
    "\n",
    "Example 1:\n",
    "\n",
    "Input: nums = [1,1,2]\n",
    "\n",
    "Output:\n",
    "[[1,1,2],\n",
    " [1,2,1],\n",
    " [2,1,1]]\n",
    "\n",
    "Example 2:\n",
    "\n",
    "Input: nums = [1,2,3]\n",
    "\n",
    "Output: [[1,2,3],[1,3,2],[2,1,3],[2,3,1],[3,1,2],[3,2,1]]\n",
    "\n",
    "---\n",
    "Obersavtions:\n",
    "- This works the same way it did for the I version of this problem\n",
    "- We pop elements and pass in remaining array\n",
    "- The difference here is that we skip over elements that have been seen before\n"
   ]
  },
  {
   "cell_type": "code",
   "execution_count": null,
   "metadata": {},
   "outputs": [],
   "source": [
    "class Solution:\n",
    "    def permuteUnique(self, nums: List[int]) -> List[List[int]]:\n",
    "        solutions = []\n",
    "        nums.sort()\n",
    "        def dfs(current,remaining):\n",
    "            if len(remaining) == 0:\n",
    "                solutions.append(current[::])\n",
    "            # we iterate though the list keeping a current value\n",
    "            prev = -11\n",
    "            for i in range(len(remaining)):\n",
    "                nVal = remaining[i]\n",
    "                # if we don't match to a previously recursed on element, we create a new temp away, pop the ith index, and pass down the remaining values\n",
    "                if nVal != prev:\n",
    "                    prev = nVal\n",
    "                    temp = remaining[::]\n",
    "                    current.append(temp.pop(i))\n",
    "                    dfs(current,temp)\n",
    "                    current.pop()\n",
    "        dfs([],nums)\n",
    "        return solutions\n"
   ]
  }
 ],
 "metadata": {
  "language_info": {
   "name": "python"
  },
  "orig_nbformat": 4
 },
 "nbformat": 4,
 "nbformat_minor": 2
}
