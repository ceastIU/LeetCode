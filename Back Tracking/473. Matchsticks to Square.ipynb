{
 "cells": [
  {
   "cell_type": "markdown",
   "metadata": {},
   "source": [
    "473. Matchsticks to Square\n",
    "Medium\n",
    "\n",
    "You are given an integer array matchsticks where matchsticks[i] is the length of the ith matchstick. You want to use all the matchsticks to make one square. You should not break any stick, but you can link them up, and each matchstick must be used exactly one time.\n",
    "\n",
    "Return true if you can make this square and false otherwise.\n",
    "\n",
    "---\n",
    "\n",
    "Example 1:\n",
    "\n",
    "\n",
    "Input: matchsticks = [1,1,2,2,2]\n",
    "Output: true\n",
    "Explanation: You can form a square with length 2, one side of the square came two sticks with length 1.\n",
    "\n",
    "---\n",
    "\n",
    "Observations:\n",
    "- Must have 4 EQUAL sides\n",
    "- Must use all matchsticks\n",
    "- sort matchsticks, allows the smallest to be put together, simplifies code (possibly)"
   ]
  },
  {
   "cell_type": "code",
   "execution_count": null,
   "metadata": {},
   "outputs": [],
   "source": [
    "class Solution:\n",
    "    def makesquare(self, matchsticks: List[int]) -> bool:\n",
    "        solutions = []\n",
    "        matchsticks.sort()\n",
    "        def dfs(solution, remaining):\n",
    "            print(solution)\n",
    "            if len(solution) == 4:\n",
    "                if len(remaining) > 0:\n",
    "                    return False\n",
    "                else:\n",
    "                    solutions.append(solution)\n",
    "                    return\n",
    "            # this is where we iterate\n",
    "            total = 0\n",
    "            print(solution)\n",
    "            for i in range(len(remaining) - (3 - len(solution))):\n",
    "                total += remaining[i]\n",
    "                chunk = remaining[i+1:]\n",
    "                print(i)\n",
    "                if len(solution) > 0 and total == solution[0]:\n",
    "                    solution.append(total)\n",
    "                    dfs(solution, chunk)\n",
    "                    solution.pop()\n",
    "                elif len(solution) == 0:\n",
    "                    solution.append(total)\n",
    "                    dfs(solution, chunk)\n",
    "                    solution.pop()\n",
    "        dfs([],matchsticks)\n",
    "        return len(solutions) > 0"
   ]
  },
  {
   "cell_type": "markdown",
   "metadata": {},
   "source": [
    "This was a solid attempt that passed many different test cases, but ultimately failed because of mixing match sticks lengths like in this example: [5,5,5,5,4,4,4,4,3,3,3,3] where each side is 5,4,3. My algorithm doesn't account for this possiblity. \n",
    "\n",
    "The hint that I got from looking at neetcode is to think about the fact we have already know what the sides would look like in terms of length, i.e. sum(matchsticks) // 4\n",
    "Let's use this new idea of knowing the length in advance to determine if a valid square is possible."
   ]
  },
  {
   "cell_type": "code",
   "execution_count": null,
   "metadata": {},
   "outputs": [],
   "source": [
    "class Solution:\n",
    "    def makesquare(self, matchsticks: List[int]) -> bool:\n",
    "        length = sum(matchsticks) / 4\n",
    "        # can't have partial match sticks\n",
    "        if length != int(length):\n",
    "            return False     \n",
    "        matchsticks.sort(reverse=True)\n",
    "        res = [0] * 4\n",
    "        def dfs(i):\n",
    "            if i == len(matchsticks):\n",
    "                return True\n",
    "            # this where we iterate\n",
    "            val = matchsticks[i]\n",
    "            for k in range(4):\n",
    "                if res[k] + val <= length:\n",
    "                    res[k] += val\n",
    "                    if dfs(i+1):\n",
    "                        return True\n",
    "                    res[k] -= val\n",
    "            return False\n",
    "        return dfs(0)"
   ]
  },
  {
   "cell_type": "markdown",
   "metadata": {},
   "source": [
    "This was by far the hardest problem I have faced thus far in the backtracking section of LeetCode. I couldn't come up with either the known length of each side or the 4 sides approach to the problem. This is a problem that I was original able to partially solve with a far different and incorrect approach. I needed so much help to know the proper way to tackle the problem. And even then, I was doing a lot of etra work that I didn't need to do. In the end, the problem itself is tricky but once you understand the core ideas of the problem it becomes easy to code. \n",
    "\n",
    "Definitely a problem that will need to be revisited tomorrow. BTW time complexity it O(4^n), with a stack depth of the O(n)"
   ]
  }
 ],
 "metadata": {
  "language_info": {
   "name": "python"
  },
  "orig_nbformat": 4
 },
 "nbformat": 4,
 "nbformat_minor": 2
}
